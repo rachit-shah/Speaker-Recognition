{
  "nbformat": 4,
  "nbformat_minor": 0,
  "metadata": {
    "colab": {
      "name": "Speaker Recognition - HMM",
      "provenance": [],
      "collapsed_sections": [],
      "machine_shape": "hm",
      "include_colab_link": true
    },
    "kernelspec": {
      "name": "python3",
      "display_name": "Python 3"
    },
    "accelerator": "GPU"
  },
  "cells": [
    {
      "cell_type": "markdown",
      "metadata": {
        "id": "view-in-github",
        "colab_type": "text"
      },
      "source": [
        "<a href=\"https://colab.research.google.com/github/ssandanshi/Speaker-Recognition/blob/master/Speaker_Recognition_HMM.ipynb\" target=\"_parent\"><img src=\"https://colab.research.google.com/assets/colab-badge.svg\" alt=\"Open In Colab\"/></a>"
      ]
    },
    {
      "cell_type": "code",
      "metadata": {
        "id": "wIhcp_zSutZ2",
        "colab_type": "code",
        "outputId": "e30d1757-299a-4ff9-d49c-6aa6f5a8513a",
        "colab": {
          "base_uri": "https://localhost:8080/",
          "height": 122
        }
      },
      "source": [
        "from google.colab import drive\n",
        "drive.mount('/content/drive')"
      ],
      "execution_count": 0,
      "outputs": [
        {
          "output_type": "stream",
          "text": [
            "Go to this URL in a browser: https://accounts.google.com/o/oauth2/auth?client_id=947318989803-6bn6qk8qdgf4n4g3pfee6491hc0brc4i.apps.googleusercontent.com&redirect_uri=urn%3aietf%3awg%3aoauth%3a2.0%3aoob&response_type=code&scope=email%20https%3a%2f%2fwww.googleapis.com%2fauth%2fdocs.test%20https%3a%2f%2fwww.googleapis.com%2fauth%2fdrive%20https%3a%2f%2fwww.googleapis.com%2fauth%2fdrive.photos.readonly%20https%3a%2f%2fwww.googleapis.com%2fauth%2fpeopleapi.readonly\n",
            "\n",
            "Enter your authorization code:\n",
            "··········\n",
            "Mounted at /content/drive\n"
          ],
          "name": "stdout"
        }
      ]
    },
    {
      "cell_type": "code",
      "metadata": {
        "id": "3W2E-U1mGfX4",
        "colab_type": "code",
        "outputId": "7f814577-1089-4f4d-9dae-358a9032dc69",
        "colab": {
          "base_uri": "https://localhost:8080/",
          "height": 170
        }
      },
      "source": [
        "!pip install python_speech_features"
      ],
      "execution_count": 0,
      "outputs": [
        {
          "output_type": "stream",
          "text": [
            "Collecting python_speech_features\n",
            "  Downloading https://files.pythonhosted.org/packages/ff/d1/94c59e20a2631985fbd2124c45177abaa9e0a4eee8ba8a305aa26fc02a8e/python_speech_features-0.6.tar.gz\n",
            "Building wheels for collected packages: python-speech-features\n",
            "  Building wheel for python-speech-features (setup.py) ... \u001b[?25l\u001b[?25hdone\n",
            "  Created wheel for python-speech-features: filename=python_speech_features-0.6-cp36-none-any.whl size=5889 sha256=09692e138a9ae6c29a062fb0d9d2e16c409222213e923695e7f3dba00db0e432\n",
            "  Stored in directory: /root/.cache/pip/wheels/3c/42/7c/f60e9d1b40015cd69b213ad90f7c18a9264cd745b9888134be\n",
            "Successfully built python-speech-features\n",
            "Installing collected packages: python-speech-features\n",
            "Successfully installed python-speech-features-0.6\n"
          ],
          "name": "stdout"
        }
      ]
    },
    {
      "cell_type": "code",
      "metadata": {
        "id": "n3aXjBySut8m",
        "colab_type": "code",
        "outputId": "4cde3330-833d-452f-80ea-5e8c15797fea",
        "colab": {
          "base_uri": "https://localhost:8080/",
          "height": 80
        }
      },
      "source": [
        "import os\n",
        "import glob\n",
        "from collections import defaultdict\n",
        "import numpy as np\n",
        "import pandas as pd\n",
        "import matplotlib.pyplot as plt\n",
        "import librosa\n",
        "import keras.backend as K\n",
        "import keras\n",
        "from python_speech_features import fbank, delta\n",
        "import operator\n",
        "from collections import OrderedDict\n",
        "from multiprocessing import Pool\n",
        "from time import time\n",
        "import re\n",
        "from sklearn.metrics.pairwise import cosine_similarity\n",
        "from sklearn.preprocessing import LabelEncoder\n",
        "from sklearn.datasets import make_classification\n",
        "from sklearn.linear_model import LogisticRegression\n",
        "from sklearn.model_selection import train_test_split\n",
        "from sklearn.metrics import roc_curve\n",
        "from sklearn.metrics import precision_recall_fscore_support\n",
        "from sklearn.metrics import roc_auc_score\n",
        "from sklearn.metrics import accuracy_score\n",
        "from shutil import copyfile\n",
        "import pickle"
      ],
      "execution_count": 0,
      "outputs": [
        {
          "output_type": "stream",
          "text": [
            "Using TensorFlow backend.\n"
          ],
          "name": "stderr"
        },
        {
          "output_type": "display_data",
          "data": {
            "text/html": [
              "<p style=\"color: red;\">\n",
              "The default version of TensorFlow in Colab will soon switch to TensorFlow 2.x.<br>\n",
              "We recommend you <a href=\"https://www.tensorflow.org/guide/migrate\" target=\"_blank\">upgrade</a> now \n",
              "or ensure your notebook will continue to use TensorFlow 1.x via the <code>%tensorflow_version 1.x</code> magic:\n",
              "<a href=\"https://colab.research.google.com/notebooks/tensorflow_version.ipynb\" target=\"_blank\">more info</a>.</p>\n"
            ],
            "text/plain": [
              "<IPython.core.display.HTML object>"
            ]
          },
          "metadata": {
            "tags": []
          }
        }
      ]
    },
    {
      "cell_type": "code",
      "metadata": {
        "id": "l4yKKgDNP62x",
        "colab_type": "code",
        "colab": {}
      },
      "source": [
        "NUM_FRAMES=399\n",
        "BATCH_SIZE=32\n",
        "TRIPLET_PER_BATCH=3"
      ],
      "execution_count": 0,
      "outputs": []
    },
    {
      "cell_type": "markdown",
      "metadata": {
        "id": "rhc0TOxIWp-a",
        "colab_type": "text"
      },
      "source": [
        "# Test on test set"
      ]
    },
    {
      "cell_type": "code",
      "metadata": {
        "id": "rcHxXQ4eWsku",
        "colab_type": "code",
        "colab": {}
      },
      "source": [
        "!cp drive/My\\ Drive/SSE/vox_test_npy.zip .\n",
        "!unzip -q vox_test_npy.zip"
      ],
      "execution_count": 0,
      "outputs": []
    },
    {
      "cell_type": "code",
      "metadata": {
        "id": "Ln0nWPcKWwjt",
        "colab_type": "code",
        "outputId": "b2bcf684-3400-4696-e071-eba68a85b563",
        "colab": {
          "base_uri": "https://localhost:8080/",
          "height": 34
        }
      },
      "source": [
        "!ls"
      ],
      "execution_count": 0,
      "outputs": [
        {
          "output_type": "stream",
          "text": [
            "drive  sample_data  vox_test_npy  vox_test_npy.zip\n"
          ],
          "name": "stdout"
        }
      ]
    },
    {
      "cell_type": "code",
      "metadata": {
        "id": "qd6TBalXbKfG",
        "colab_type": "code",
        "outputId": "223e4884-da2a-4cbc-e5d6-7a4eaffa20a0",
        "colab": {
          "base_uri": "https://localhost:8080/",
          "height": 436
        }
      },
      "source": [
        "test_catalog = create_catalogue(\"vox_test_npy\",\"*.npy\",flag=True)\n",
        "test_catalog"
      ],
      "execution_count": 0,
      "outputs": [
        {
          "output_type": "stream",
          "text": [
            "Found 4874 files with 40 different speakers.\n"
          ],
          "name": "stdout"
        },
        {
          "output_type": "execute_result",
          "data": {
            "text/html": [
              "<div>\n",
              "<style scoped>\n",
              "    .dataframe tbody tr th:only-of-type {\n",
              "        vertical-align: middle;\n",
              "    }\n",
              "\n",
              "    .dataframe tbody tr th {\n",
              "        vertical-align: top;\n",
              "    }\n",
              "\n",
              "    .dataframe thead th {\n",
              "        text-align: right;\n",
              "    }\n",
              "</style>\n",
              "<table border=\"1\" class=\"dataframe\">\n",
              "  <thead>\n",
              "    <tr style=\"text-align: right;\">\n",
              "      <th></th>\n",
              "      <th>filename</th>\n",
              "      <th>class</th>\n",
              "    </tr>\n",
              "  </thead>\n",
              "  <tbody>\n",
              "    <tr>\n",
              "      <th>0</th>\n",
              "      <td>vox_test_npy/id10292_29.npy</td>\n",
              "      <td>id10292</td>\n",
              "    </tr>\n",
              "    <tr>\n",
              "      <th>1</th>\n",
              "      <td>vox_test_npy/id10297_53.npy</td>\n",
              "      <td>id10297</td>\n",
              "    </tr>\n",
              "    <tr>\n",
              "      <th>2</th>\n",
              "      <td>vox_test_npy/id10276_76.npy</td>\n",
              "      <td>id10276</td>\n",
              "    </tr>\n",
              "    <tr>\n",
              "      <th>3</th>\n",
              "      <td>vox_test_npy/id10292_75.npy</td>\n",
              "      <td>id10292</td>\n",
              "    </tr>\n",
              "    <tr>\n",
              "      <th>4</th>\n",
              "      <td>vox_test_npy/id10283_14.npy</td>\n",
              "      <td>id10283</td>\n",
              "    </tr>\n",
              "    <tr>\n",
              "      <th>...</th>\n",
              "      <td>...</td>\n",
              "      <td>...</td>\n",
              "    </tr>\n",
              "    <tr>\n",
              "      <th>4869</th>\n",
              "      <td>vox_test_npy/id10300_258.npy</td>\n",
              "      <td>id10300</td>\n",
              "    </tr>\n",
              "    <tr>\n",
              "      <th>4870</th>\n",
              "      <td>vox_test_npy/id10307_148.npy</td>\n",
              "      <td>id10307</td>\n",
              "    </tr>\n",
              "    <tr>\n",
              "      <th>4871</th>\n",
              "      <td>vox_test_npy/id10277_60.npy</td>\n",
              "      <td>id10277</td>\n",
              "    </tr>\n",
              "    <tr>\n",
              "      <th>4872</th>\n",
              "      <td>vox_test_npy/id10276_23.npy</td>\n",
              "      <td>id10276</td>\n",
              "    </tr>\n",
              "    <tr>\n",
              "      <th>4873</th>\n",
              "      <td>vox_test_npy/id10270_122.npy</td>\n",
              "      <td>id10270</td>\n",
              "    </tr>\n",
              "  </tbody>\n",
              "</table>\n",
              "<p>4874 rows × 2 columns</p>\n",
              "</div>"
            ],
            "text/plain": [
              "                          filename    class\n",
              "0      vox_test_npy/id10292_29.npy  id10292\n",
              "1      vox_test_npy/id10297_53.npy  id10297\n",
              "2      vox_test_npy/id10276_76.npy  id10276\n",
              "3      vox_test_npy/id10292_75.npy  id10292\n",
              "4      vox_test_npy/id10283_14.npy  id10283\n",
              "...                            ...      ...\n",
              "4869  vox_test_npy/id10300_258.npy  id10300\n",
              "4870  vox_test_npy/id10307_148.npy  id10307\n",
              "4871   vox_test_npy/id10277_60.npy  id10277\n",
              "4872   vox_test_npy/id10276_23.npy  id10276\n",
              "4873  vox_test_npy/id10270_122.npy  id10270\n",
              "\n",
              "[4874 rows x 2 columns]"
            ]
          },
          "metadata": {
            "tags": []
          },
          "execution_count": 17
        }
      ]
    },
    {
      "cell_type": "code",
      "metadata": {
        "id": "P8AmlN8LjWuA",
        "colab_type": "code",
        "colab": {}
      },
      "source": [
        "from sklearn.preprocessing import LabelEncoder"
      ],
      "execution_count": 0,
      "outputs": []
    },
    {
      "cell_type": "code",
      "metadata": {
        "id": "yUDBlUFfjZdL",
        "colab_type": "code",
        "colab": {}
      },
      "source": [
        "le2 = LabelEncoder()\n",
        "test_catalog[\"class\"] = le2.fit_transform(test_catalog[\"class\"])"
      ],
      "execution_count": 0,
      "outputs": []
    },
    {
      "cell_type": "code",
      "metadata": {
        "id": "G15LM3sUnsTE",
        "colab_type": "code",
        "outputId": "a0102f40-6181-43e2-e065-4849309f2fc0",
        "colab": {
          "base_uri": "https://localhost:8080/",
          "height": 136
        }
      },
      "source": [
        "le2.classes_"
      ],
      "execution_count": 0,
      "outputs": [
        {
          "output_type": "execute_result",
          "data": {
            "text/plain": [
              "array(['id10270', 'id10271', 'id10272', 'id10273', 'id10274', 'id10275',\n",
              "       'id10276', 'id10277', 'id10278', 'id10279', 'id10280', 'id10281',\n",
              "       'id10282', 'id10283', 'id10284', 'id10285', 'id10286', 'id10287',\n",
              "       'id10288', 'id10289', 'id10290', 'id10291', 'id10292', 'id10293',\n",
              "       'id10294', 'id10295', 'id10296', 'id10297', 'id10298', 'id10299',\n",
              "       'id10300', 'id10301', 'id10302', 'id10303', 'id10304', 'id10305',\n",
              "       'id10306', 'id10307', 'id10308', 'id10309'], dtype=object)"
            ]
          },
          "metadata": {
            "tags": []
          },
          "execution_count": 20
        }
      ]
    },
    {
      "cell_type": "code",
      "metadata": {
        "id": "jRj-L7MiBLrz",
        "colab_type": "code",
        "outputId": "051ba6a1-547b-4975-8ae0-5c1a5533d9c8",
        "colab": {
          "base_uri": "https://localhost:8080/",
          "height": 419
        }
      },
      "source": [
        "test_catalog"
      ],
      "execution_count": 0,
      "outputs": [
        {
          "output_type": "execute_result",
          "data": {
            "text/html": [
              "<div>\n",
              "<style scoped>\n",
              "    .dataframe tbody tr th:only-of-type {\n",
              "        vertical-align: middle;\n",
              "    }\n",
              "\n",
              "    .dataframe tbody tr th {\n",
              "        vertical-align: top;\n",
              "    }\n",
              "\n",
              "    .dataframe thead th {\n",
              "        text-align: right;\n",
              "    }\n",
              "</style>\n",
              "<table border=\"1\" class=\"dataframe\">\n",
              "  <thead>\n",
              "    <tr style=\"text-align: right;\">\n",
              "      <th></th>\n",
              "      <th>filename</th>\n",
              "      <th>class</th>\n",
              "    </tr>\n",
              "  </thead>\n",
              "  <tbody>\n",
              "    <tr>\n",
              "      <th>0</th>\n",
              "      <td>vox_test_npy/id10292_29.npy</td>\n",
              "      <td>22</td>\n",
              "    </tr>\n",
              "    <tr>\n",
              "      <th>1</th>\n",
              "      <td>vox_test_npy/id10297_53.npy</td>\n",
              "      <td>27</td>\n",
              "    </tr>\n",
              "    <tr>\n",
              "      <th>2</th>\n",
              "      <td>vox_test_npy/id10276_76.npy</td>\n",
              "      <td>6</td>\n",
              "    </tr>\n",
              "    <tr>\n",
              "      <th>3</th>\n",
              "      <td>vox_test_npy/id10292_75.npy</td>\n",
              "      <td>22</td>\n",
              "    </tr>\n",
              "    <tr>\n",
              "      <th>4</th>\n",
              "      <td>vox_test_npy/id10283_14.npy</td>\n",
              "      <td>13</td>\n",
              "    </tr>\n",
              "    <tr>\n",
              "      <th>...</th>\n",
              "      <td>...</td>\n",
              "      <td>...</td>\n",
              "    </tr>\n",
              "    <tr>\n",
              "      <th>4869</th>\n",
              "      <td>vox_test_npy/id10300_258.npy</td>\n",
              "      <td>30</td>\n",
              "    </tr>\n",
              "    <tr>\n",
              "      <th>4870</th>\n",
              "      <td>vox_test_npy/id10307_148.npy</td>\n",
              "      <td>37</td>\n",
              "    </tr>\n",
              "    <tr>\n",
              "      <th>4871</th>\n",
              "      <td>vox_test_npy/id10277_60.npy</td>\n",
              "      <td>7</td>\n",
              "    </tr>\n",
              "    <tr>\n",
              "      <th>4872</th>\n",
              "      <td>vox_test_npy/id10276_23.npy</td>\n",
              "      <td>6</td>\n",
              "    </tr>\n",
              "    <tr>\n",
              "      <th>4873</th>\n",
              "      <td>vox_test_npy/id10270_122.npy</td>\n",
              "      <td>0</td>\n",
              "    </tr>\n",
              "  </tbody>\n",
              "</table>\n",
              "<p>4874 rows × 2 columns</p>\n",
              "</div>"
            ],
            "text/plain": [
              "                          filename  class\n",
              "0      vox_test_npy/id10292_29.npy     22\n",
              "1      vox_test_npy/id10297_53.npy     27\n",
              "2      vox_test_npy/id10276_76.npy      6\n",
              "3      vox_test_npy/id10292_75.npy     22\n",
              "4      vox_test_npy/id10283_14.npy     13\n",
              "...                            ...    ...\n",
              "4869  vox_test_npy/id10300_258.npy     30\n",
              "4870  vox_test_npy/id10307_148.npy     37\n",
              "4871   vox_test_npy/id10277_60.npy      7\n",
              "4872   vox_test_npy/id10276_23.npy      6\n",
              "4873  vox_test_npy/id10270_122.npy      0\n",
              "\n",
              "[4874 rows x 2 columns]"
            ]
          },
          "metadata": {
            "tags": []
          },
          "execution_count": 21
        }
      ]
    },
    {
      "cell_type": "code",
      "metadata": {
        "id": "AShLWhK68KfH",
        "colab_type": "code",
        "colab": {}
      },
      "source": [
        "def split_balanced_and_load_data(data,samples_per_class,model=None,batch_size=10,top_classes=None,seed=999):\n",
        "  if top_classes is None:\n",
        "    classes = data[\"class\"].unique()\n",
        "  else:\n",
        "    classes = data[\"class\"].value_counts()[:top_classes].index.to_list()\n",
        "    data = data[data[\"class\"].isin(classes)]\n",
        "  train = pd.DataFrame()\n",
        "  removed_indices = []\n",
        "  for cl in classes:\n",
        "    data_class = data[data[\"class\"]==cl]\n",
        "    if samples_per_class<int(len(data_class)/2):\n",
        "      sample = data_class.sample(samples_per_class,random_state=seed)\n",
        "      removed_indices.extend(sample.index.to_list())\n",
        "      train = pd.concat([train,sample], axis=0)\n",
        "    else:\n",
        "      sample = data_class.sample(int(len(data_class)/2),random_state=seed)\n",
        "      removed_indices.extend(sample.index.to_list())\n",
        "      train = pd.concat([train,sample], axis=0)\n",
        "  test = data.loc[~data.index.isin(removed_indices)]\n",
        "  train = train.reset_index(drop=True)\n",
        "  test = test.reset_index(drop=True)\n",
        "  trainX, trainY, testX, testY = np.array(train[\"filename\"]),np.array(train[\"class\"]),np.array(test[\"filename\"]),np.array(test[\"class\"])\n",
        "\n",
        "  if model is not None:\n",
        "    trainX = predict_model_batch(model,np.array([np.load(x) for x in trainX]),batch_size=batch_size)\n",
        "    testX = predict_model_batch(model,np.array([np.load(x) for x in testX]),batch_size=batch_size)\n",
        "  else:\n",
        "    trainX = np.array([np.load(x) for x in trainX])\n",
        "    testX = np.array([np.load(x) for x in testX])\n",
        "    trainX = np.reshape(trainX,(trainX.shape[0],trainX.shape[1]*trainX.shape[2]*trainX.shape[3]))\n",
        "    testX = np.reshape(testX,(testX.shape[0],testX.shape[1]*testX.shape[2]*testX.shape[3]))\n",
        "  return trainX, trainY, testX, testY"
      ],
      "execution_count": 0,
      "outputs": []
    },
    {
      "cell_type": "code",
      "metadata": {
        "id": "XInqNQlQv1nW",
        "colab_type": "code",
        "colab": {}
      },
      "source": [
        "best_model = None\n",
        "samples_per_class = 50\n",
        "num_classes = len(test_catalog[\"class\"].unique())\n",
        "top_classes = None"
      ],
      "execution_count": 0,
      "outputs": []
    },
    {
      "cell_type": "code",
      "metadata": {
        "id": "DdFKRIo5iW_8",
        "colab_type": "code",
        "colab": {}
      },
      "source": [
        "trainX, trainY, testX, testY = split_balanced_and_load_data(test_catalog,samples_per_class,batch_size=20,top_classes=top_classes)"
      ],
      "execution_count": 0,
      "outputs": []
    },
    {
      "cell_type": "code",
      "metadata": {
        "id": "XeNXn6ReqBhi",
        "colab_type": "code",
        "outputId": "c397bc69-564d-4293-e533-684fc5748bd2",
        "colab": {
          "base_uri": "https://localhost:8080/",
          "height": 34
        }
      },
      "source": [
        "print(trainX.shape,trainY.shape,testX.shape,testY.shape)"
      ],
      "execution_count": 0,
      "outputs": [
        {
          "output_type": "stream",
          "text": [
            "(1688, 25536) (1688,) (3186, 25536) (3186,)\n"
          ],
          "name": "stdout"
        }
      ]
    },
    {
      "cell_type": "code",
      "metadata": {
        "id": "9Fy_qIG4_ZFn",
        "colab_type": "code",
        "colab": {}
      },
      "source": [
        "# print(trainX[0])"
      ],
      "execution_count": 0,
      "outputs": []
    },
    {
      "cell_type": "code",
      "metadata": {
        "id": "h0AdSoPeCRSc",
        "colab_type": "code",
        "outputId": "2813c51e-771d-4a22-fe05-672663e7272c",
        "colab": {
          "base_uri": "https://localhost:8080/",
          "height": 102
        }
      },
      "source": [
        "! pip install hmmlearn"
      ],
      "execution_count": 0,
      "outputs": [
        {
          "output_type": "stream",
          "text": [
            "Requirement already satisfied: hmmlearn in /usr/local/lib/python3.6/dist-packages (0.2.2)\n",
            "Requirement already satisfied: numpy>=1.10 in /usr/local/lib/python3.6/dist-packages (from hmmlearn) (1.17.4)\n",
            "Requirement already satisfied: scikit-learn>=0.16 in /usr/local/lib/python3.6/dist-packages (from hmmlearn) (0.21.3)\n",
            "Requirement already satisfied: joblib>=0.11 in /usr/local/lib/python3.6/dist-packages (from scikit-learn>=0.16->hmmlearn) (0.14.0)\n",
            "Requirement already satisfied: scipy>=0.17.0 in /usr/local/lib/python3.6/dist-packages (from scikit-learn>=0.16->hmmlearn) (1.3.2)\n"
          ],
          "name": "stdout"
        }
      ]
    },
    {
      "cell_type": "code",
      "metadata": {
        "id": "vSxuCrX9Ch65",
        "colab_type": "code",
        "colab": {}
      },
      "source": [
        "from hmmlearn import hmm"
      ],
      "execution_count": 0,
      "outputs": []
    },
    {
      "cell_type": "code",
      "metadata": {
        "id": "2XLaF_FTWXM6",
        "colab_type": "code",
        "colab": {}
      },
      "source": [
        "class Model():\n",
        "  def __init__(self, CATEGORY=None, n_comp=2, n_mix = 3, cov_type='diag', n_iter=100):\n",
        "    super(Model, self).__init__()\n",
        "    self.CATEGORY = CATEGORY\n",
        "    self.category = len(CATEGORY)\n",
        "    self.n_comp = n_comp\n",
        "    self.n_mix = n_mix\n",
        "    self.cov_type = cov_type\n",
        "    self.n_iter = n_iter\n",
        "    self.models = []\n",
        "    for k in range(self.category):\n",
        "      model = hmm.GMMHMM(n_components=self.n_comp, n_mix = self.n_mix, \n",
        "\t\t\t\t\t\t\t\tcovariance_type=self.cov_type, n_iter=self.n_iter)\n",
        "      self.models.append(model)\n",
        "  def train(self, train_data = None, train_label = None):\n",
        "    k_label = dict(zip(range(self.category), np.sort(np.unique(train_label))))\n",
        "    for k, label in k_label.items():\n",
        "      subdata = []\n",
        "      model = self.models[k]\n",
        "      model.fit(train_data[np.where(train_label==label)[0]])\n",
        "  def test(self, test_data = None, test_label = None):\n",
        "    k_label = dict(zip(range(self.category), np.sort(np.unique(test_label))))\n",
        "    result = []\n",
        "    for k, label in k_label.items():\n",
        "      subre = []\n",
        "      model = self.models[k]\n",
        "      totalnum = len(test_label)\n",
        "      for i in range(totalnum):\n",
        "        re = model.score(test_data[i].reshape(1,-1))\n",
        "        subre.append(re)\n",
        "      result.append(subre)\n",
        "    result = np.vstack(result).argmax(axis=0)\n",
        "    result = [self.CATEGORY[label] for label in result]\n",
        "    correctnum = 0\n",
        "    for i in range(totalnum):\n",
        "      if result[i] == testY[i]:\n",
        "        correctnum+=1\n",
        "    print('accuracy',correctnum/totalnum)"
      ],
      "execution_count": 0,
      "outputs": []
    },
    {
      "cell_type": "code",
      "metadata": {
        "id": "Qvh8LCEMZ5b7",
        "colab_type": "code",
        "colab": {}
      },
      "source": [
        "from sklearn.externals import joblib\n",
        "def save(self, path=\"models.pkl\"):\n",
        "\t\tjoblib.dump(self.models, path)\n",
        "def load(self, path=\"models.pkl\"):\n",
        "\t\tself.models = joblib.load(path)"
      ],
      "execution_count": 0,
      "outputs": []
    },
    {
      "cell_type": "code",
      "metadata": {
        "id": "rElqLX5F1BbT",
        "colab_type": "code",
        "colab": {}
      },
      "source": [
        "CATEGORY = np.unique(trainY)\n",
        "models = Model(CATEGORY=CATEGORY)"
      ],
      "execution_count": 0,
      "outputs": []
    },
    {
      "cell_type": "code",
      "metadata": {
        "id": "5OtH52bUZ5jS",
        "colab_type": "code",
        "colab": {}
      },
      "source": [
        "models.train(train_data = trainX, train_label = trainY)"
      ],
      "execution_count": 0,
      "outputs": []
    },
    {
      "cell_type": "code",
      "metadata": {
        "id": "I8RfUVkzZ5lq",
        "colab_type": "code",
        "outputId": "721aa107-53ac-4b31-b18a-9948e1992e45",
        "colab": {
          "base_uri": "https://localhost:8080/",
          "height": 34
        }
      },
      "source": [
        "models.test(test_data=testX, test_label=testY)"
      ],
      "execution_count": 0,
      "outputs": [
        {
          "output_type": "stream",
          "text": [
            "accuracy 0.383793410507569\n"
          ],
          "name": "stdout"
        }
      ]
    },
    {
      "cell_type": "code",
      "metadata": {
        "id": "-FqlDmKisZK6",
        "colab_type": "code",
        "colab": {}
      },
      "source": [
        ""
      ],
      "execution_count": 0,
      "outputs": []
    }
  ]
}