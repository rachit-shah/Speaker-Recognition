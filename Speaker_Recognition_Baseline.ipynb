{
  "nbformat": 4,
  "nbformat_minor": 0,
  "metadata": {
    "colab": {
      "name": "Speaker Recognition - Baseline",
      "provenance": [],
      "collapsed_sections": [],
      "include_colab_link": true
    },
    "kernelspec": {
      "name": "python3",
      "display_name": "Python 3"
    },
    "accelerator": "GPU"
  },
  "cells": [
    {
      "cell_type": "markdown",
      "metadata": {
        "id": "view-in-github",
        "colab_type": "text"
      },
      "source": [
        "<a href=\"https://colab.research.google.com/github/ssandanshi/Speaker-Recognition/blob/master/Speaker_Recognition_Baseline.ipynb\" target=\"_parent\"><img src=\"https://colab.research.google.com/assets/colab-badge.svg\" alt=\"Open In Colab\"/></a>"
      ]
    },
    {
      "cell_type": "code",
      "metadata": {
        "id": "wIhcp_zSutZ2",
        "colab_type": "code",
        "outputId": "03d028f9-96c8-4ff2-a7a9-3174e54607fb",
        "colab": {
          "base_uri": "https://localhost:8080/",
          "height": 124
        }
      },
      "source": [
        "from google.colab import drive\n",
        "drive.mount('/content/drive')"
      ],
      "execution_count": 0,
      "outputs": [
        {
          "output_type": "stream",
          "text": [
            "Go to this URL in a browser: https://accounts.google.com/o/oauth2/auth?client_id=947318989803-6bn6qk8qdgf4n4g3pfee6491hc0brc4i.apps.googleusercontent.com&redirect_uri=urn%3aietf%3awg%3aoauth%3a2.0%3aoob&response_type=code&scope=email%20https%3a%2f%2fwww.googleapis.com%2fauth%2fdocs.test%20https%3a%2f%2fwww.googleapis.com%2fauth%2fdrive%20https%3a%2f%2fwww.googleapis.com%2fauth%2fdrive.photos.readonly%20https%3a%2f%2fwww.googleapis.com%2fauth%2fpeopleapi.readonly\n",
            "\n",
            "Enter your authorization code:\n",
            "··········\n",
            "Mounted at /content/drive\n"
          ],
          "name": "stdout"
        }
      ]
    },
    {
      "cell_type": "code",
      "metadata": {
        "id": "3W2E-U1mGfX4",
        "colab_type": "code",
        "outputId": "4695706c-cc62-417d-c8d7-19c240438d09",
        "colab": {
          "base_uri": "https://localhost:8080/",
          "height": 193
        }
      },
      "source": [
        "!pip install python_speech_features"
      ],
      "execution_count": 0,
      "outputs": [
        {
          "output_type": "stream",
          "text": [
            "Collecting python_speech_features\n",
            "  Downloading https://files.pythonhosted.org/packages/ff/d1/94c59e20a2631985fbd2124c45177abaa9e0a4eee8ba8a305aa26fc02a8e/python_speech_features-0.6.tar.gz\n",
            "Building wheels for collected packages: python-speech-features\n",
            "  Building wheel for python-speech-features (setup.py) ... \u001b[?25l\u001b[?25hdone\n",
            "  Created wheel for python-speech-features: filename=python_speech_features-0.6-cp36-none-any.whl size=5889 sha256=1c77aabf0f8896b3334023f117734a0091dbefe9f1ae347f27f15f5b1fc90e3c\n",
            "  Stored in directory: /root/.cache/pip/wheels/3c/42/7c/f60e9d1b40015cd69b213ad90f7c18a9264cd745b9888134be\n",
            "Successfully built python-speech-features\n",
            "Installing collected packages: python-speech-features\n",
            "Successfully installed python-speech-features-0.6\n"
          ],
          "name": "stdout"
        }
      ]
    },
    {
      "cell_type": "code",
      "metadata": {
        "id": "n3aXjBySut8m",
        "colab_type": "code",
        "outputId": "ef390e48-a8bb-4ac0-919e-489fa1971239",
        "colab": {
          "base_uri": "https://localhost:8080/",
          "height": 81
        }
      },
      "source": [
        "import os\n",
        "import glob\n",
        "from collections import defaultdict\n",
        "import numpy as np\n",
        "import pandas as pd\n",
        "import matplotlib.pyplot as plt\n",
        "import librosa\n",
        "import keras.backend as K\n",
        "import keras\n",
        "from python_speech_features import fbank, delta\n",
        "import operator\n",
        "from collections import OrderedDict\n",
        "from multiprocessing import Pool\n",
        "from time import time\n",
        "import re\n",
        "from sklearn.metrics.pairwise import cosine_similarity\n",
        "from sklearn.preprocessing import LabelEncoder\n",
        "from sklearn.datasets import make_classification\n",
        "from sklearn.linear_model import LogisticRegression\n",
        "from sklearn.model_selection import train_test_split\n",
        "from sklearn.metrics import roc_curve\n",
        "from sklearn.metrics import precision_recall_fscore_support\n",
        "from sklearn.metrics import roc_auc_score\n",
        "from sklearn.metrics import accuracy_score\n",
        "from shutil import copyfile\n",
        "import pickle"
      ],
      "execution_count": 0,
      "outputs": [
        {
          "output_type": "stream",
          "text": [
            "Using TensorFlow backend.\n"
          ],
          "name": "stderr"
        },
        {
          "output_type": "display_data",
          "data": {
            "text/html": [
              "<p style=\"color: red;\">\n",
              "The default version of TensorFlow in Colab will soon switch to TensorFlow 2.x.<br>\n",
              "We recommend you <a href=\"https://www.tensorflow.org/guide/migrate\" target=\"_blank\">upgrade</a> now \n",
              "or ensure your notebook will continue to use TensorFlow 1.x via the <code>%tensorflow_version 1.x</code> magic:\n",
              "<a href=\"https://colab.research.google.com/notebooks/tensorflow_version.ipynb\" target=\"_blank\">more info</a>.</p>\n"
            ],
            "text/plain": [
              "<IPython.core.display.HTML object>"
            ]
          },
          "metadata": {
            "tags": []
          }
        }
      ]
    },
    {
      "cell_type": "code",
      "metadata": {
        "id": "-uust2hjFtzr",
        "colab_type": "code",
        "colab": {}
      },
      "source": [
        "sample_rate = 12000"
      ],
      "execution_count": 0,
      "outputs": []
    },
    {
      "cell_type": "code",
      "metadata": {
        "id": "AOP0aTz6fzqR",
        "colab_type": "code",
        "colab": {}
      },
      "source": [
        "def create_catalogue(path,pattern=\"*/*.wav\",flag=False):\n",
        "  data = pd.DataFrame()\n",
        "  data['filename'] = glob.glob(os.path.join(path, pattern), recursive=True)\n",
        "  if not flag:\n",
        "    data['class'] = data['filename'].apply(lambda x: x.split(\"/\")[1])\n",
        "  else:\n",
        "    data['class'] = data['filename'].apply(lambda x: x.split(\"/\")[1].split('_')[0])\n",
        "  num_speakers = len(data['class'].unique())\n",
        "  print('Found {} files with {} different speakers.'.format(str(len(data)), str(num_speakers)))\n",
        "  # print(data.head(10))\n",
        "  return data"
      ],
      "execution_count": 0,
      "outputs": []
    },
    {
      "cell_type": "code",
      "metadata": {
        "id": "l4yKKgDNP62x",
        "colab_type": "code",
        "colab": {}
      },
      "source": [
        "NUM_FRAMES=399\n",
        "BATCH_SIZE=32\n",
        "TRIPLET_PER_BATCH=3"
      ],
      "execution_count": 0,
      "outputs": []
    },
    {
      "cell_type": "markdown",
      "metadata": {
        "id": "rhc0TOxIWp-a",
        "colab_type": "text"
      },
      "source": [
        "# Test on test set"
      ]
    },
    {
      "cell_type": "code",
      "metadata": {
        "id": "rcHxXQ4eWsku",
        "colab_type": "code",
        "colab": {}
      },
      "source": [
        "!cp drive/My\\ Drive/vox_test_npy.zip .\n",
        "!unzip -q vox_test_npy.zip"
      ],
      "execution_count": 0,
      "outputs": []
    },
    {
      "cell_type": "code",
      "metadata": {
        "id": "Ln0nWPcKWwjt",
        "colab_type": "code",
        "outputId": "f1356a07-0184-422c-95fa-da88417af9e9",
        "colab": {
          "base_uri": "https://localhost:8080/",
          "height": 34
        }
      },
      "source": [
        "!ls"
      ],
      "execution_count": 0,
      "outputs": [
        {
          "output_type": "stream",
          "text": [
            "drive  sample_data  vox_test_npy  vox_test_npy.zip\n"
          ],
          "name": "stdout"
        }
      ]
    },
    {
      "cell_type": "code",
      "metadata": {
        "id": "qd6TBalXbKfG",
        "colab_type": "code",
        "outputId": "1d4eadd6-e51e-44f4-8f6c-a560f11bc321",
        "colab": {
          "base_uri": "https://localhost:8080/",
          "height": 441
        }
      },
      "source": [
        "test_catalog = create_catalogue(\"vox_test_npy\",\"*.npy\",flag=True)\n",
        "test_catalog"
      ],
      "execution_count": 0,
      "outputs": [
        {
          "output_type": "stream",
          "text": [
            "Found 4874 files with 40 different speakers.\n"
          ],
          "name": "stdout"
        },
        {
          "output_type": "execute_result",
          "data": {
            "text/html": [
              "<div>\n",
              "<style scoped>\n",
              "    .dataframe tbody tr th:only-of-type {\n",
              "        vertical-align: middle;\n",
              "    }\n",
              "\n",
              "    .dataframe tbody tr th {\n",
              "        vertical-align: top;\n",
              "    }\n",
              "\n",
              "    .dataframe thead th {\n",
              "        text-align: right;\n",
              "    }\n",
              "</style>\n",
              "<table border=\"1\" class=\"dataframe\">\n",
              "  <thead>\n",
              "    <tr style=\"text-align: right;\">\n",
              "      <th></th>\n",
              "      <th>filename</th>\n",
              "      <th>class</th>\n",
              "    </tr>\n",
              "  </thead>\n",
              "  <tbody>\n",
              "    <tr>\n",
              "      <th>0</th>\n",
              "      <td>vox_test_npy/id10292_29.npy</td>\n",
              "      <td>id10292</td>\n",
              "    </tr>\n",
              "    <tr>\n",
              "      <th>1</th>\n",
              "      <td>vox_test_npy/id10297_53.npy</td>\n",
              "      <td>id10297</td>\n",
              "    </tr>\n",
              "    <tr>\n",
              "      <th>2</th>\n",
              "      <td>vox_test_npy/id10276_76.npy</td>\n",
              "      <td>id10276</td>\n",
              "    </tr>\n",
              "    <tr>\n",
              "      <th>3</th>\n",
              "      <td>vox_test_npy/id10292_75.npy</td>\n",
              "      <td>id10292</td>\n",
              "    </tr>\n",
              "    <tr>\n",
              "      <th>4</th>\n",
              "      <td>vox_test_npy/id10283_14.npy</td>\n",
              "      <td>id10283</td>\n",
              "    </tr>\n",
              "    <tr>\n",
              "      <th>...</th>\n",
              "      <td>...</td>\n",
              "      <td>...</td>\n",
              "    </tr>\n",
              "    <tr>\n",
              "      <th>4869</th>\n",
              "      <td>vox_test_npy/id10300_258.npy</td>\n",
              "      <td>id10300</td>\n",
              "    </tr>\n",
              "    <tr>\n",
              "      <th>4870</th>\n",
              "      <td>vox_test_npy/id10307_148.npy</td>\n",
              "      <td>id10307</td>\n",
              "    </tr>\n",
              "    <tr>\n",
              "      <th>4871</th>\n",
              "      <td>vox_test_npy/id10277_60.npy</td>\n",
              "      <td>id10277</td>\n",
              "    </tr>\n",
              "    <tr>\n",
              "      <th>4872</th>\n",
              "      <td>vox_test_npy/id10276_23.npy</td>\n",
              "      <td>id10276</td>\n",
              "    </tr>\n",
              "    <tr>\n",
              "      <th>4873</th>\n",
              "      <td>vox_test_npy/id10270_122.npy</td>\n",
              "      <td>id10270</td>\n",
              "    </tr>\n",
              "  </tbody>\n",
              "</table>\n",
              "<p>4874 rows × 2 columns</p>\n",
              "</div>"
            ],
            "text/plain": [
              "                          filename    class\n",
              "0      vox_test_npy/id10292_29.npy  id10292\n",
              "1      vox_test_npy/id10297_53.npy  id10297\n",
              "2      vox_test_npy/id10276_76.npy  id10276\n",
              "3      vox_test_npy/id10292_75.npy  id10292\n",
              "4      vox_test_npy/id10283_14.npy  id10283\n",
              "...                            ...      ...\n",
              "4869  vox_test_npy/id10300_258.npy  id10300\n",
              "4870  vox_test_npy/id10307_148.npy  id10307\n",
              "4871   vox_test_npy/id10277_60.npy  id10277\n",
              "4872   vox_test_npy/id10276_23.npy  id10276\n",
              "4873  vox_test_npy/id10270_122.npy  id10270\n",
              "\n",
              "[4874 rows x 2 columns]"
            ]
          },
          "metadata": {
            "tags": []
          },
          "execution_count": 9
        }
      ]
    },
    {
      "cell_type": "code",
      "metadata": {
        "id": "P8AmlN8LjWuA",
        "colab_type": "code",
        "colab": {}
      },
      "source": [
        "from sklearn.preprocessing import LabelEncoder"
      ],
      "execution_count": 0,
      "outputs": []
    },
    {
      "cell_type": "code",
      "metadata": {
        "id": "yUDBlUFfjZdL",
        "colab_type": "code",
        "colab": {}
      },
      "source": [
        "le2 = LabelEncoder()\n",
        "test_catalog[\"class\"] = le2.fit_transform(test_catalog[\"class\"])"
      ],
      "execution_count": 0,
      "outputs": []
    },
    {
      "cell_type": "code",
      "metadata": {
        "id": "G15LM3sUnsTE",
        "colab_type": "code",
        "outputId": "cc70c2ea-0ac0-4783-cc24-b9319c379f85",
        "colab": {
          "base_uri": "https://localhost:8080/",
          "height": 139
        }
      },
      "source": [
        "le2.classes_"
      ],
      "execution_count": 0,
      "outputs": [
        {
          "output_type": "execute_result",
          "data": {
            "text/plain": [
              "array(['id10270', 'id10271', 'id10272', 'id10273', 'id10274', 'id10275',\n",
              "       'id10276', 'id10277', 'id10278', 'id10279', 'id10280', 'id10281',\n",
              "       'id10282', 'id10283', 'id10284', 'id10285', 'id10286', 'id10287',\n",
              "       'id10288', 'id10289', 'id10290', 'id10291', 'id10292', 'id10293',\n",
              "       'id10294', 'id10295', 'id10296', 'id10297', 'id10298', 'id10299',\n",
              "       'id10300', 'id10301', 'id10302', 'id10303', 'id10304', 'id10305',\n",
              "       'id10306', 'id10307', 'id10308', 'id10309'], dtype=object)"
            ]
          },
          "metadata": {
            "tags": []
          },
          "execution_count": 12
        }
      ]
    },
    {
      "cell_type": "code",
      "metadata": {
        "id": "vYKC9lKNq6sI",
        "colab_type": "code",
        "colab": {}
      },
      "source": [
        "def predict_model_batch(model,inp,batch_size=10):\n",
        "  i = 0\n",
        "  embedding = None\n",
        "  while i < len(inp) and i+batch_size<len(inp):\n",
        "    subset = inp[i:i+batch_size]\n",
        "    sub_embed = model.predict_on_batch(subset)\n",
        "    if embedding is None:\n",
        "        embedding = sub_embed\n",
        "    else:\n",
        "        embedding = np.concatenate([embedding, sub_embed], axis=0)\n",
        "    i+=batch_size\n",
        "  if i<len(inp):\n",
        "    subset = inp[i:]\n",
        "    sub_embed = model.predict_on_batch(subset)\n",
        "    if embedding is None:\n",
        "        embedding = sub_embed\n",
        "    else:\n",
        "        embedding = np.concatenate([embedding, sub_embed], axis=0)\n",
        "  return embedding"
      ],
      "execution_count": 0,
      "outputs": []
    },
    {
      "cell_type": "code",
      "metadata": {
        "id": "Wv-V8AkRdMoM",
        "colab_type": "code",
        "colab": {}
      },
      "source": [
        "def split_balanced_and_load_data(data,samples_per_class,model=None,batch_size=10,top_classes=None,seed=999):\n",
        "  if top_classes is None:\n",
        "    classes = data[\"class\"].unique()\n",
        "  else:\n",
        "    classes = data[\"class\"].value_counts()[:top_classes].index.to_list()\n",
        "    data = data[data[\"class\"].isin(classes)]\n",
        "  train = pd.DataFrame()\n",
        "  removed_indices = []\n",
        "  for cl in classes:\n",
        "    data_class = data[data[\"class\"]==cl]\n",
        "    if samples_per_class<len(data_class)/2:\n",
        "      sample = data_class.sample(samples_per_class,random_state=seed)\n",
        "      removed_indices.extend(sample.index.to_list())\n",
        "      train = pd.concat([train,sample], axis=0)\n",
        "    else:\n",
        "      sample = data_class.sample(int(len(data_class)/2),random_state=seed)\n",
        "      removed_indices.extend(sample.index.to_list())\n",
        "      train = pd.concat([train,sample], axis=0)\n",
        "        \n",
        "  test = data.loc[~data.index.isin(removed_indices)]\n",
        "  train = train.reset_index(drop=True)\n",
        "  test = test.reset_index(drop=True)\n",
        "  trainX, trainY, testX, testY = np.array(train[\"filename\"]),np.array(train[\"class\"]),np.array(test[\"filename\"]),np.array(test[\"class\"])\n",
        "\n",
        "  if model is not None:\n",
        "    trainX = predict_model_batch(model,np.array([np.load(x) for x in trainX]),batch_size=batch_size)\n",
        "    testX = predict_model_batch(model,np.array([np.load(x) for x in testX]),batch_size=batch_size)\n",
        "  else:\n",
        "    trainX = np.array([np.load(x) for x in trainX])\n",
        "    testX = np.array([np.load(x) for x in testX])\n",
        "    trainX = np.reshape(trainX,(trainX.shape[0],trainX.shape[1]*trainX.shape[2]*trainX.shape[3]))\n",
        "    testX = np.reshape(testX,(testX.shape[0],testX.shape[1]*testX.shape[2]*testX.shape[3]))\n",
        "  return trainX, trainY, testX, testY\n",
        "\n",
        "\n"
      ],
      "execution_count": 0,
      "outputs": []
    },
    {
      "cell_type": "code",
      "metadata": {
        "id": "XInqNQlQv1nW",
        "colab_type": "code",
        "colab": {}
      },
      "source": [
        "best_model = None\n",
        "samples_per_class = 80\n",
        "num_classes = len(test_catalog[\"class\"].unique())\n",
        "top_classes = None"
      ],
      "execution_count": 0,
      "outputs": []
    },
    {
      "cell_type": "code",
      "metadata": {
        "id": "DdFKRIo5iW_8",
        "colab_type": "code",
        "colab": {}
      },
      "source": [
        "trainX, trainY, testX, testY = split_balanced_and_load_data(test_catalog,samples_per_class,best_model,batch_size=20,top_classes=top_classes)"
      ],
      "execution_count": 0,
      "outputs": []
    },
    {
      "cell_type": "code",
      "metadata": {
        "id": "XeNXn6ReqBhi",
        "colab_type": "code",
        "outputId": "25d1bf9c-2493-4283-81e6-3342b1ccd2c4",
        "colab": {
          "base_uri": "https://localhost:8080/",
          "height": 34
        }
      },
      "source": [
        "print(trainX.shape,trainY.shape,testX.shape,testY.shape)"
      ],
      "execution_count": 0,
      "outputs": [
        {
          "output_type": "stream",
          "text": [
            "(2168, 25536) (2168,) (2706, 25536) (2706,)\n"
          ],
          "name": "stdout"
        }
      ]
    },
    {
      "cell_type": "code",
      "metadata": {
        "id": "lOE6pLua5Er5",
        "colab_type": "code",
        "outputId": "c38fce53-2651-41cc-ab5c-e39ce1999a08",
        "colab": {
          "base_uri": "https://localhost:8080/",
          "height": 34
        }
      },
      "source": [
        "trainX.shape[1]"
      ],
      "execution_count": 0,
      "outputs": [
        {
          "output_type": "execute_result",
          "data": {
            "text/plain": [
              "25536"
            ]
          },
          "metadata": {
            "tags": []
          },
          "execution_count": 129
        }
      ]
    },
    {
      "cell_type": "code",
      "metadata": {
        "id": "sV7BC1ObogGH",
        "colab_type": "code",
        "colab": {}
      },
      "source": [
        "from sklearn.svm import LinearSVC\n",
        "clf = LinearSVC()"
      ],
      "execution_count": 0,
      "outputs": []
    },
    {
      "cell_type": "code",
      "metadata": {
        "id": "Kw0ZX1hlr_wY",
        "colab_type": "code",
        "outputId": "c53faab5-d2be-4b6e-ebc3-6d32609a8b33",
        "colab": {
          "base_uri": "https://localhost:8080/",
          "height": 86
        }
      },
      "source": [
        "clf.fit(trainX,trainY)"
      ],
      "execution_count": 0,
      "outputs": [
        {
          "output_type": "execute_result",
          "data": {
            "text/plain": [
              "LinearSVC(C=1.0, class_weight=None, dual=True, fit_intercept=True,\n",
              "          intercept_scaling=1, loss='squared_hinge', max_iter=1000,\n",
              "          multi_class='ovr', penalty='l2', random_state=None, tol=0.0001,\n",
              "          verbose=0)"
            ]
          },
          "metadata": {
            "tags": []
          },
          "execution_count": 134
        }
      ]
    },
    {
      "cell_type": "code",
      "metadata": {
        "id": "0k2Lm0p708We",
        "colab_type": "code",
        "colab": {}
      },
      "source": [
        "y_pred_Linear_SVC = clf.predict(testX)"
      ],
      "execution_count": 0,
      "outputs": []
    },
    {
      "cell_type": "code",
      "metadata": {
        "id": "YHSh_mlF1DAc",
        "colab_type": "code",
        "outputId": "92e11920-26df-4227-eb46-8ebe2d289cc3",
        "colab": {
          "base_uri": "https://localhost:8080/",
          "height": 34
        }
      },
      "source": [
        "accuracy_score(testY,y_pred_Linear_SVC)"
      ],
      "execution_count": 0,
      "outputs": [
        {
          "output_type": "execute_result",
          "data": {
            "text/plain": [
              "0.34146341463414637"
            ]
          },
          "metadata": {
            "tags": []
          },
          "execution_count": 136
        }
      ]
    },
    {
      "cell_type": "code",
      "metadata": {
        "id": "-FqlDmKisZK6",
        "colab_type": "code",
        "colab": {}
      },
      "source": [
        "logisticRegressionclf = LogisticRegression()"
      ],
      "execution_count": 0,
      "outputs": []
    },
    {
      "cell_type": "code",
      "metadata": {
        "id": "Fu_F8nZD1oBe",
        "colab_type": "code",
        "outputId": "a59d458c-fb9d-48f8-a587-2853304690ee",
        "colab": {
          "base_uri": "https://localhost:8080/",
          "height": 193
        }
      },
      "source": [
        "logisticRegressionclf.fit(trainX,trainY)"
      ],
      "execution_count": 0,
      "outputs": [
        {
          "output_type": "stream",
          "text": [
            "/usr/local/lib/python3.6/dist-packages/sklearn/linear_model/logistic.py:432: FutureWarning: Default solver will be changed to 'lbfgs' in 0.22. Specify a solver to silence this warning.\n",
            "  FutureWarning)\n",
            "/usr/local/lib/python3.6/dist-packages/sklearn/linear_model/logistic.py:469: FutureWarning: Default multi_class will be changed to 'auto' in 0.22. Specify the multi_class option to silence this warning.\n",
            "  \"this warning.\", FutureWarning)\n"
          ],
          "name": "stderr"
        },
        {
          "output_type": "execute_result",
          "data": {
            "text/plain": [
              "LogisticRegression(C=1.0, class_weight=None, dual=False, fit_intercept=True,\n",
              "                   intercept_scaling=1, l1_ratio=None, max_iter=100,\n",
              "                   multi_class='warn', n_jobs=None, penalty='l2',\n",
              "                   random_state=None, solver='warn', tol=0.0001, verbose=0,\n",
              "                   warm_start=False)"
            ]
          },
          "metadata": {
            "tags": []
          },
          "execution_count": 138
        }
      ]
    },
    {
      "cell_type": "code",
      "metadata": {
        "id": "zi53PNLG1rw9",
        "colab_type": "code",
        "outputId": "7429cda8-a4b1-45a1-db2d-92ef9fdca806",
        "colab": {
          "base_uri": "https://localhost:8080/",
          "height": 34
        }
      },
      "source": [
        "accuracy_score(testY,logisticRegressionclf.predict(testX))"
      ],
      "execution_count": 0,
      "outputs": [
        {
          "output_type": "execute_result",
          "data": {
            "text/plain": [
              "0.369179600886918"
            ]
          },
          "metadata": {
            "tags": []
          },
          "execution_count": 139
        }
      ]
    },
    {
      "cell_type": "code",
      "metadata": {
        "id": "egi5tXlc2IPo",
        "colab_type": "code",
        "outputId": "d182fd47-76aa-4f6b-bc82-0ef173564ad9",
        "colab": {
          "base_uri": "https://localhost:8080/",
          "height": 139
        }
      },
      "source": [
        "from sklearn.neural_network import MLPClassifier\n",
        "mlpclf = MLPClassifier()\n",
        "mlpclf.fit(trainX,trainY)"
      ],
      "execution_count": 0,
      "outputs": [
        {
          "output_type": "execute_result",
          "data": {
            "text/plain": [
              "MLPClassifier(activation='relu', alpha=0.0001, batch_size='auto', beta_1=0.9,\n",
              "              beta_2=0.999, early_stopping=False, epsilon=1e-08,\n",
              "              hidden_layer_sizes=(100,), learning_rate='constant',\n",
              "              learning_rate_init=0.001, max_iter=200, momentum=0.9,\n",
              "              n_iter_no_change=10, nesterovs_momentum=True, power_t=0.5,\n",
              "              random_state=None, shuffle=True, solver='adam', tol=0.0001,\n",
              "              validation_fraction=0.1, verbose=False, warm_start=False)"
            ]
          },
          "metadata": {
            "tags": []
          },
          "execution_count": 140
        }
      ]
    },
    {
      "cell_type": "code",
      "metadata": {
        "id": "Gdko_flw2qdf",
        "colab_type": "code",
        "outputId": "959b07d6-3e2f-45df-d6d2-8fa3de28174a",
        "colab": {
          "base_uri": "https://localhost:8080/",
          "height": 34
        }
      },
      "source": [
        "accuracy_score(testY,mlpclf.predict(testX))"
      ],
      "execution_count": 0,
      "outputs": [
        {
          "output_type": "execute_result",
          "data": {
            "text/plain": [
              "0.32852919438285294"
            ]
          },
          "metadata": {
            "tags": []
          },
          "execution_count": 141
        }
      ]
    },
    {
      "cell_type": "code",
      "metadata": {
        "id": "4Hhevl172zHf",
        "colab_type": "code",
        "outputId": "33ce2099-501a-4165-b566-d7c79e4be34b",
        "colab": {
          "base_uri": "https://localhost:8080/",
          "height": 141
        }
      },
      "source": [
        "from sklearn.svm import SVC\n",
        "rbfSVCclf = SVC()\n",
        "rbfSVCclf.fit(trainX,trainY)\n"
      ],
      "execution_count": 0,
      "outputs": [
        {
          "output_type": "stream",
          "text": [
            "/usr/local/lib/python3.6/dist-packages/sklearn/svm/base.py:193: FutureWarning: The default value of gamma will change from 'auto' to 'scale' in version 0.22 to account better for unscaled features. Set gamma explicitly to 'auto' or 'scale' to avoid this warning.\n",
            "  \"avoid this warning.\", FutureWarning)\n"
          ],
          "name": "stderr"
        },
        {
          "output_type": "execute_result",
          "data": {
            "text/plain": [
              "SVC(C=1.0, cache_size=200, class_weight=None, coef0=0.0,\n",
              "    decision_function_shape='ovr', degree=3, gamma='auto_deprecated',\n",
              "    kernel='rbf', max_iter=-1, probability=False, random_state=None,\n",
              "    shrinking=True, tol=0.001, verbose=False)"
            ]
          },
          "metadata": {
            "tags": []
          },
          "execution_count": 142
        }
      ]
    },
    {
      "cell_type": "code",
      "metadata": {
        "id": "l5W4Nyxi3tvT",
        "colab_type": "code",
        "outputId": "c15e31f2-d2da-4fe3-edd0-6d0c6a259331",
        "colab": {
          "base_uri": "https://localhost:8080/",
          "height": 34
        }
      },
      "source": [
        "accuracy_score(testY,rbfSVCclf.predict(testX))"
      ],
      "execution_count": 0,
      "outputs": [
        {
          "output_type": "execute_result",
          "data": {
            "text/plain": [
              "0.3632668144863267"
            ]
          },
          "metadata": {
            "tags": []
          },
          "execution_count": 143
        }
      ]
    },
    {
      "cell_type": "code",
      "metadata": {
        "id": "4NXetGDT3wPT",
        "colab_type": "code",
        "colab": {}
      },
      "source": [
        "from keras import optimizers, losses, activations, models\n",
        "from keras.callbacks import ModelCheckpoint, EarlyStopping, LearningRateScheduler\n",
        "from keras.layers import Dense, Input, Dropout, Convolution1D, MaxPool1D, GlobalMaxPool1D, GlobalAveragePooling1D, concatenate\n",
        "from numpy import random"
      ],
      "execution_count": 0,
      "outputs": []
    },
    {
      "cell_type": "code",
      "metadata": {
        "id": "Y3HN_oee4lB_",
        "colab_type": "code",
        "outputId": "e4d64675-2199-4739-d79e-11f84e347970",
        "colab": {
          "base_uri": "https://localhost:8080/",
          "height": 851
        }
      },
      "source": [
        "inp = Input(shape=(trainX.shape[1], 1))\n",
        "img_1 = Convolution1D(16, kernel_size=9, activation=activations.relu, padding=\"valid\")(inp)\n",
        "img_1 = Convolution1D(16, kernel_size=9, activation=activations.relu, padding=\"valid\")(img_1)\n",
        "img_1 = MaxPool1D(pool_size=16)(img_1)\n",
        "img_1 = Dropout(rate=0.5)(img_1)\n",
        "img_1 = Convolution1D(32, kernel_size=3, activation=activations.relu, padding=\"valid\")(img_1)\n",
        "img_1 = Convolution1D(32, kernel_size=3, activation=activations.relu, padding=\"valid\")(img_1)\n",
        "img_1 = MaxPool1D(pool_size=4)(img_1)\n",
        "img_1 = Dropout(rate=0.5)(img_1)\n",
        "img_1 = Convolution1D(32, kernel_size=3, activation=activations.relu, padding=\"valid\")(img_1)\n",
        "img_1 = Convolution1D(32, kernel_size=3, activation=activations.relu, padding=\"valid\")(img_1)\n",
        "img_1 = MaxPool1D(pool_size=4)(img_1)\n",
        "img_1 = Dropout(rate=0.5)(img_1)\n",
        "img_1 = Convolution1D(256, kernel_size=3, activation=activations.relu, padding=\"valid\")(img_1)\n",
        "img_1 = Convolution1D(256, kernel_size=3, activation=activations.relu, padding=\"valid\")(img_1)\n",
        "img_1 = GlobalMaxPool1D()(img_1)\n",
        "img_1 = Dropout(rate=0.5)(img_1)\n",
        "\n",
        "dense_1 = Dense(64, activation=activations.relu)(img_1)\n",
        "dense_1 = Dense(1028, activation=activations.relu)(dense_1)\n",
        "dense_1 = Dense(len(le2.classes_), activation=activations.softmax)(dense_1)\n",
        "\n",
        "model = models.Model(inputs=inp, outputs=dense_1)\n",
        "opt = optimizers.Adam()\n",
        "\n",
        "model.compile(optimizer=opt, loss=losses.sparse_categorical_crossentropy, metrics=['acc'])\n",
        "model.summary()"
      ],
      "execution_count": 0,
      "outputs": [
        {
          "output_type": "stream",
          "text": [
            "Model: \"model_6\"\n",
            "_________________________________________________________________\n",
            "Layer (type)                 Output Shape              Param #   \n",
            "=================================================================\n",
            "input_6 (InputLayer)         (None, 25536, 1)          0         \n",
            "_________________________________________________________________\n",
            "conv1d_41 (Conv1D)           (None, 25528, 16)         160       \n",
            "_________________________________________________________________\n",
            "conv1d_42 (Conv1D)           (None, 25520, 16)         2320      \n",
            "_________________________________________________________________\n",
            "max_pooling1d_16 (MaxPooling (None, 1595, 16)          0         \n",
            "_________________________________________________________________\n",
            "dropout_21 (Dropout)         (None, 1595, 16)          0         \n",
            "_________________________________________________________________\n",
            "conv1d_43 (Conv1D)           (None, 1593, 32)          1568      \n",
            "_________________________________________________________________\n",
            "conv1d_44 (Conv1D)           (None, 1591, 32)          3104      \n",
            "_________________________________________________________________\n",
            "max_pooling1d_17 (MaxPooling (None, 397, 32)           0         \n",
            "_________________________________________________________________\n",
            "dropout_22 (Dropout)         (None, 397, 32)           0         \n",
            "_________________________________________________________________\n",
            "conv1d_45 (Conv1D)           (None, 395, 32)           3104      \n",
            "_________________________________________________________________\n",
            "conv1d_46 (Conv1D)           (None, 393, 32)           3104      \n",
            "_________________________________________________________________\n",
            "max_pooling1d_18 (MaxPooling (None, 98, 32)            0         \n",
            "_________________________________________________________________\n",
            "dropout_23 (Dropout)         (None, 98, 32)            0         \n",
            "_________________________________________________________________\n",
            "conv1d_47 (Conv1D)           (None, 96, 256)           24832     \n",
            "_________________________________________________________________\n",
            "conv1d_48 (Conv1D)           (None, 94, 256)           196864    \n",
            "_________________________________________________________________\n",
            "global_max_pooling1d_6 (Glob (None, 256)               0         \n",
            "_________________________________________________________________\n",
            "dropout_24 (Dropout)         (None, 256)               0         \n",
            "_________________________________________________________________\n",
            "dense_16 (Dense)             (None, 64)                16448     \n",
            "_________________________________________________________________\n",
            "dense_17 (Dense)             (None, 1028)              66820     \n",
            "_________________________________________________________________\n",
            "dense_18 (Dense)             (None, 40)                41160     \n",
            "=================================================================\n",
            "Total params: 359,484\n",
            "Trainable params: 359,484\n",
            "Non-trainable params: 0\n",
            "_________________________________________________________________\n"
          ],
          "name": "stdout"
        }
      ]
    },
    {
      "cell_type": "code",
      "metadata": {
        "id": "28E75s095wZk",
        "colab_type": "code",
        "outputId": "846b4d02-03d0-48e5-d1b9-1e546d56fe68",
        "colab": {
          "base_uri": "https://localhost:8080/",
          "height": 1000
        }
      },
      "source": [
        "model.fit(np.reshape(trainX,(trainX.shape[0],trainX.shape[1],1)),trainY,epochs=100)"
      ],
      "execution_count": 0,
      "outputs": [
        {
          "output_type": "stream",
          "text": [
            "Epoch 1/100\n",
            "2168/2168 [==============================] - 3s 2ms/step - loss: 3.6483 - acc: 0.0295\n",
            "Epoch 2/100\n",
            "2168/2168 [==============================] - 2s 778us/step - loss: 3.6267 - acc: 0.0295\n",
            "Epoch 3/100\n",
            "2168/2168 [==============================] - 2s 800us/step - loss: 3.6199 - acc: 0.0286\n",
            "Epoch 4/100\n",
            "2168/2168 [==============================] - 2s 781us/step - loss: 3.6129 - acc: 0.0355\n",
            "Epoch 5/100\n",
            "2168/2168 [==============================] - 2s 788us/step - loss: 3.6138 - acc: 0.0355\n",
            "Epoch 6/100\n",
            "2168/2168 [==============================] - 2s 795us/step - loss: 3.6069 - acc: 0.0401\n",
            "Epoch 7/100\n",
            "2168/2168 [==============================] - 2s 752us/step - loss: 3.5522 - acc: 0.0507\n",
            "Epoch 8/100\n",
            "2168/2168 [==============================] - 2s 770us/step - loss: 3.5288 - acc: 0.0540\n",
            "Epoch 9/100\n",
            "2168/2168 [==============================] - 2s 800us/step - loss: 3.4815 - acc: 0.0581\n",
            "Epoch 10/100\n",
            "2168/2168 [==============================] - 2s 785us/step - loss: 3.4285 - acc: 0.0641\n",
            "Epoch 11/100\n",
            "2168/2168 [==============================] - 2s 809us/step - loss: 3.3755 - acc: 0.0729\n",
            "Epoch 12/100\n",
            "2168/2168 [==============================] - 2s 773us/step - loss: 3.3404 - acc: 0.0770\n",
            "Epoch 13/100\n",
            "2168/2168 [==============================] - 2s 787us/step - loss: 3.3120 - acc: 0.0770\n",
            "Epoch 14/100\n",
            "2168/2168 [==============================] - 2s 790us/step - loss: 3.2818 - acc: 0.0756\n",
            "Epoch 15/100\n",
            "2168/2168 [==============================] - 2s 797us/step - loss: 3.2491 - acc: 0.0872\n",
            "Epoch 16/100\n",
            "2168/2168 [==============================] - 2s 771us/step - loss: 3.2332 - acc: 0.0858\n",
            "Epoch 17/100\n",
            "2168/2168 [==============================] - 2s 794us/step - loss: 3.1763 - acc: 0.0858\n",
            "Epoch 18/100\n",
            "2168/2168 [==============================] - 2s 772us/step - loss: 3.1566 - acc: 0.0927\n",
            "Epoch 19/100\n",
            "2168/2168 [==============================] - 2s 793us/step - loss: 3.1711 - acc: 0.0775\n",
            "Epoch 20/100\n",
            "2168/2168 [==============================] - 2s 803us/step - loss: 3.1430 - acc: 0.0761\n",
            "Epoch 21/100\n",
            "2168/2168 [==============================] - 2s 773us/step - loss: 3.1164 - acc: 0.1042\n",
            "Epoch 22/100\n",
            "2168/2168 [==============================] - 2s 790us/step - loss: 3.1028 - acc: 0.1052\n",
            "Epoch 23/100\n",
            "2168/2168 [==============================] - 2s 800us/step - loss: 3.0816 - acc: 0.1153\n",
            "Epoch 24/100\n",
            "2168/2168 [==============================] - 2s 760us/step - loss: 3.0882 - acc: 0.1042\n",
            "Epoch 25/100\n",
            "2168/2168 [==============================] - 2s 762us/step - loss: 3.0534 - acc: 0.1130\n",
            "Epoch 26/100\n",
            "2168/2168 [==============================] - 2s 759us/step - loss: 3.0348 - acc: 0.1176\n",
            "Epoch 27/100\n",
            "2168/2168 [==============================] - 2s 813us/step - loss: 3.0521 - acc: 0.1079\n",
            "Epoch 28/100\n",
            "2168/2168 [==============================] - 2s 806us/step - loss: 3.0221 - acc: 0.1139\n",
            "Epoch 29/100\n",
            "2168/2168 [==============================] - 2s 793us/step - loss: 3.0205 - acc: 0.1162\n",
            "Epoch 30/100\n",
            "2168/2168 [==============================] - 2s 801us/step - loss: 2.9950 - acc: 0.1181\n",
            "Epoch 31/100\n",
            "2168/2168 [==============================] - 2s 823us/step - loss: 2.9953 - acc: 0.1153\n",
            "Epoch 32/100\n",
            "2168/2168 [==============================] - 2s 806us/step - loss: 2.9772 - acc: 0.1218\n",
            "Epoch 33/100\n",
            "2168/2168 [==============================] - 2s 837us/step - loss: 2.9969 - acc: 0.1227\n",
            "Epoch 34/100\n",
            "2168/2168 [==============================] - 2s 820us/step - loss: 2.9769 - acc: 0.1236\n",
            "Epoch 35/100\n",
            "2168/2168 [==============================] - 2s 823us/step - loss: 2.9575 - acc: 0.1282\n",
            "Epoch 36/100\n",
            "2168/2168 [==============================] - 2s 820us/step - loss: 2.9732 - acc: 0.1282\n",
            "Epoch 37/100\n",
            "2168/2168 [==============================] - 2s 803us/step - loss: 2.9522 - acc: 0.1292\n",
            "Epoch 38/100\n",
            "2168/2168 [==============================] - 2s 804us/step - loss: 2.9136 - acc: 0.1310\n",
            "Epoch 39/100\n",
            "2168/2168 [==============================] - 2s 819us/step - loss: 2.9314 - acc: 0.1379\n",
            "Epoch 40/100\n",
            "2168/2168 [==============================] - 2s 808us/step - loss: 2.8916 - acc: 0.1499\n",
            "Epoch 41/100\n",
            "2168/2168 [==============================] - 2s 801us/step - loss: 2.9073 - acc: 0.1315\n",
            "Epoch 42/100\n",
            "2168/2168 [==============================] - 2s 808us/step - loss: 2.9057 - acc: 0.1305\n",
            "Epoch 43/100\n",
            "2168/2168 [==============================] - 2s 796us/step - loss: 2.8883 - acc: 0.1361\n",
            "Epoch 44/100\n",
            "2168/2168 [==============================] - 2s 801us/step - loss: 2.8991 - acc: 0.1361\n",
            "Epoch 45/100\n",
            "2168/2168 [==============================] - 2s 815us/step - loss: 2.8848 - acc: 0.1448\n",
            "Epoch 46/100\n",
            "2168/2168 [==============================] - 2s 808us/step - loss: 2.8670 - acc: 0.1471\n",
            "Epoch 47/100\n",
            "2168/2168 [==============================] - 2s 825us/step - loss: 2.8779 - acc: 0.1361\n",
            "Epoch 48/100\n",
            "2168/2168 [==============================] - 2s 828us/step - loss: 2.8635 - acc: 0.1499\n",
            "Epoch 49/100\n",
            "2168/2168 [==============================] - 2s 833us/step - loss: 2.8513 - acc: 0.1504\n",
            "Epoch 50/100\n",
            "2168/2168 [==============================] - 2s 809us/step - loss: 2.8328 - acc: 0.1527\n",
            "Epoch 51/100\n",
            "2168/2168 [==============================] - 2s 829us/step - loss: 2.8546 - acc: 0.1467\n",
            "Epoch 52/100\n",
            "2168/2168 [==============================] - 2s 797us/step - loss: 2.8302 - acc: 0.1605\n",
            "Epoch 53/100\n",
            "2168/2168 [==============================] - 2s 799us/step - loss: 2.8127 - acc: 0.1619\n",
            "Epoch 54/100\n",
            "2168/2168 [==============================] - 2s 789us/step - loss: 2.8303 - acc: 0.1596\n",
            "Epoch 55/100\n",
            "2168/2168 [==============================] - 2s 799us/step - loss: 2.7958 - acc: 0.1633\n",
            "Epoch 56/100\n",
            "2168/2168 [==============================] - 2s 813us/step - loss: 2.7728 - acc: 0.1716\n",
            "Epoch 57/100\n",
            "2168/2168 [==============================] - 2s 853us/step - loss: 2.7837 - acc: 0.1637\n",
            "Epoch 58/100\n",
            "2168/2168 [==============================] - 2s 810us/step - loss: 2.7813 - acc: 0.1656\n",
            "Epoch 59/100\n",
            "2168/2168 [==============================] - 2s 829us/step - loss: 2.7688 - acc: 0.1614\n",
            "Epoch 60/100\n",
            "2168/2168 [==============================] - 2s 810us/step - loss: 2.7543 - acc: 0.1693\n",
            "Epoch 61/100\n",
            "2168/2168 [==============================] - 2s 826us/step - loss: 2.7427 - acc: 0.1605\n",
            "Epoch 62/100\n",
            "2168/2168 [==============================] - 2s 817us/step - loss: 2.7386 - acc: 0.1734\n",
            "Epoch 63/100\n",
            "2168/2168 [==============================] - 2s 800us/step - loss: 2.6984 - acc: 0.1785\n",
            "Epoch 64/100\n",
            "2168/2168 [==============================] - 2s 800us/step - loss: 2.7244 - acc: 0.1813\n",
            "Epoch 65/100\n",
            "2168/2168 [==============================] - 2s 810us/step - loss: 2.7349 - acc: 0.1780\n",
            "Epoch 66/100\n",
            "2168/2168 [==============================] - 2s 769us/step - loss: 2.7154 - acc: 0.1753\n",
            "Epoch 67/100\n",
            "2168/2168 [==============================] - 2s 787us/step - loss: 2.7164 - acc: 0.1780\n",
            "Epoch 68/100\n",
            "2168/2168 [==============================] - 2s 820us/step - loss: 2.6659 - acc: 0.1854\n",
            "Epoch 69/100\n",
            "2168/2168 [==============================] - 2s 849us/step - loss: 2.6730 - acc: 0.1804\n",
            "Epoch 70/100\n",
            "2168/2168 [==============================] - 2s 830us/step - loss: 2.6801 - acc: 0.1845\n",
            "Epoch 71/100\n",
            "2168/2168 [==============================] - 2s 821us/step - loss: 2.6654 - acc: 0.1900\n",
            "Epoch 72/100\n",
            "2168/2168 [==============================] - 2s 822us/step - loss: 2.6714 - acc: 0.1946\n",
            "Epoch 73/100\n",
            "2168/2168 [==============================] - 2s 832us/step - loss: 2.6496 - acc: 0.1896\n",
            "Epoch 74/100\n",
            "2168/2168 [==============================] - 2s 846us/step - loss: 2.6519 - acc: 0.1850\n",
            "Epoch 75/100\n",
            "2168/2168 [==============================] - 2s 831us/step - loss: 2.6604 - acc: 0.1822\n",
            "Epoch 76/100\n",
            "2168/2168 [==============================] - 2s 846us/step - loss: 2.6390 - acc: 0.1970\n",
            "Epoch 77/100\n",
            "2168/2168 [==============================] - 2s 835us/step - loss: 2.6468 - acc: 0.1979\n",
            "Epoch 78/100\n",
            "2168/2168 [==============================] - 2s 800us/step - loss: 2.6628 - acc: 0.1873\n",
            "Epoch 79/100\n",
            "2168/2168 [==============================] - 2s 804us/step - loss: 2.6269 - acc: 0.1928\n",
            "Epoch 80/100\n",
            "2168/2168 [==============================] - 2s 832us/step - loss: 2.6163 - acc: 0.2094\n",
            "Epoch 81/100\n",
            "2168/2168 [==============================] - 2s 818us/step - loss: 2.6246 - acc: 0.1914\n",
            "Epoch 82/100\n",
            "2168/2168 [==============================] - 2s 818us/step - loss: 2.6345 - acc: 0.1970\n",
            "Epoch 83/100\n",
            "2168/2168 [==============================] - 2s 815us/step - loss: 2.6380 - acc: 0.1970\n",
            "Epoch 84/100\n",
            "2168/2168 [==============================] - 2s 797us/step - loss: 2.6190 - acc: 0.2011\n",
            "Epoch 85/100\n",
            "2168/2168 [==============================] - 2s 795us/step - loss: 2.6123 - acc: 0.1942\n",
            "Epoch 86/100\n",
            "2168/2168 [==============================] - 2s 800us/step - loss: 2.5869 - acc: 0.2025\n",
            "Epoch 87/100\n",
            "2168/2168 [==============================] - 2s 803us/step - loss: 2.5742 - acc: 0.2108\n",
            "Epoch 88/100\n",
            "2168/2168 [==============================] - 2s 803us/step - loss: 2.5974 - acc: 0.2053\n",
            "Epoch 89/100\n",
            "2168/2168 [==============================] - 2s 836us/step - loss: 2.5638 - acc: 0.2089\n",
            "Epoch 90/100\n",
            "2168/2168 [==============================] - 2s 822us/step - loss: 2.5826 - acc: 0.2173\n",
            "Epoch 91/100\n",
            "2168/2168 [==============================] - 2s 815us/step - loss: 2.5879 - acc: 0.2131\n",
            "Epoch 92/100\n",
            "2168/2168 [==============================] - 2s 816us/step - loss: 2.5893 - acc: 0.2006\n",
            "Epoch 93/100\n",
            "2168/2168 [==============================] - 2s 819us/step - loss: 2.5872 - acc: 0.2076\n",
            "Epoch 94/100\n",
            "2168/2168 [==============================] - 2s 824us/step - loss: 2.5769 - acc: 0.2030\n",
            "Epoch 95/100\n",
            "2168/2168 [==============================] - 2s 821us/step - loss: 2.5694 - acc: 0.2173\n",
            "Epoch 96/100\n",
            "2168/2168 [==============================] - 2s 822us/step - loss: 2.5441 - acc: 0.2274\n",
            "Epoch 97/100\n",
            "2168/2168 [==============================] - 2s 806us/step - loss: 2.5737 - acc: 0.2223\n",
            "Epoch 98/100\n",
            "2168/2168 [==============================] - 2s 824us/step - loss: 2.5808 - acc: 0.2039\n",
            "Epoch 99/100\n",
            "2168/2168 [==============================] - 2s 827us/step - loss: 2.5612 - acc: 0.2177\n",
            "Epoch 100/100\n",
            "2168/2168 [==============================] - 2s 813us/step - loss: 2.5903 - acc: 0.2122\n"
          ],
          "name": "stdout"
        },
        {
          "output_type": "execute_result",
          "data": {
            "text/plain": [
              "<keras.callbacks.History at 0x7f03b6b60240>"
            ]
          },
          "metadata": {
            "tags": []
          },
          "execution_count": 146
        }
      ]
    },
    {
      "cell_type": "code",
      "metadata": {
        "id": "-8L0hpaU5wrx",
        "colab_type": "code",
        "outputId": "d9124e41-73b1-45f2-8f37-0c00ab46fb6f",
        "colab": {
          "base_uri": "https://localhost:8080/",
          "height": 34
        }
      },
      "source": [
        "accuracy_score(testY,model.predict(np.reshape(testX,(testX.shape[0],testX.shape[1],1))).argmax(axis=-1))"
      ],
      "execution_count": 0,
      "outputs": [
        {
          "output_type": "execute_result",
          "data": {
            "text/plain": [
              "0.09682187730968218"
            ]
          },
          "metadata": {
            "tags": []
          },
          "execution_count": 147
        }
      ]
    },
    {
      "cell_type": "code",
      "metadata": {
        "id": "BDy2_wY38d3L",
        "colab_type": "code",
        "colab": {}
      },
      "source": [
        ""
      ],
      "execution_count": 0,
      "outputs": []
    }
  ]
}