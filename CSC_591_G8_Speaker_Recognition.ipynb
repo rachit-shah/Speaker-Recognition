{
  "nbformat": 4,
  "nbformat_minor": 0,
  "metadata": {
    "colab": {
      "name": "CSC 591-G8-Speaker Recognition",
      "provenance": [],
      "collapsed_sections": [],
      "toc_visible": true,
      "include_colab_link": true
    },
    "kernelspec": {
      "name": "python3",
      "display_name": "Python 3"
    },
    "accelerator": "GPU"
  },
  "cells": [
    {
      "cell_type": "markdown",
      "metadata": {
        "id": "view-in-github",
        "colab_type": "text"
      },
      "source": [
        "<a href=\"https://colab.research.google.com/github/ssandanshi/Speaker-Recognition/blob/master/CSC_591_G8_Speaker_Recognition.ipynb\" target=\"_parent\"><img src=\"https://colab.research.google.com/assets/colab-badge.svg\" alt=\"Open In Colab\"/></a>"
      ]
    },
    {
      "cell_type": "code",
      "metadata": {
        "id": "wIhcp_zSutZ2",
        "colab_type": "code",
        "outputId": "8f025b9f-a935-45a5-e323-fcf0d28caf35",
        "colab": {
          "base_uri": "https://localhost:8080/",
          "height": 34
        }
      },
      "source": [
        "from google.colab import drive\n",
        "drive.mount('/content/drive')"
      ],
      "execution_count": 129,
      "outputs": [
        {
          "output_type": "stream",
          "text": [
            "Drive already mounted at /content/drive; to attempt to forcibly remount, call drive.mount(\"/content/drive\", force_remount=True).\n"
          ],
          "name": "stdout"
        }
      ]
    },
    {
      "cell_type": "code",
      "metadata": {
        "id": "3W2E-U1mGfX4",
        "colab_type": "code",
        "outputId": "e6b9cd1b-eeff-4e12-9790-a18a03db7d8b",
        "colab": {
          "base_uri": "https://localhost:8080/",
          "height": 34
        }
      },
      "source": [
        "!pip install python_speech_features"
      ],
      "execution_count": 130,
      "outputs": [
        {
          "output_type": "stream",
          "text": [
            "Requirement already satisfied: python_speech_features in /usr/local/lib/python3.6/dist-packages (0.6)\n"
          ],
          "name": "stdout"
        }
      ]
    },
    {
      "cell_type": "markdown",
      "metadata": {
        "colab_type": "text",
        "id": "usdN3jU2nYw2"
      },
      "source": [
        "# Importing Libraries"
      ]
    },
    {
      "cell_type": "code",
      "metadata": {
        "colab_type": "code",
        "id": "_PrwnIySnYws",
        "colab": {}
      },
      "source": [
        "import os\n",
        "import glob\n",
        "from collections import defaultdict\n",
        "import numpy as np\n",
        "import pandas as pd\n",
        "import matplotlib.pyplot as plt\n",
        "import librosa\n",
        "import keras.backend as K\n",
        "import keras\n",
        "from python_speech_features import fbank, delta\n",
        "import operator\n",
        "from collections import OrderedDict\n",
        "from multiprocessing import Pool\n",
        "from time import time\n",
        "import re\n",
        "from sklearn.preprocessing import LabelEncoder"
      ],
      "execution_count": 0,
      "outputs": []
    },
    {
      "cell_type": "markdown",
      "metadata": {
        "id": "iORWv-ZcnRan",
        "colab_type": "text"
      },
      "source": [
        "# Reading Data and Preprocessing"
      ]
    },
    {
      "cell_type": "markdown",
      "metadata": {
        "id": "vbuVgQY7ndA1",
        "colab_type": "text"
      },
      "source": [
        "## Reading Data"
      ]
    },
    {
      "cell_type": "code",
      "metadata": {
        "id": "-uust2hjFtzr",
        "colab_type": "code",
        "colab": {}
      },
      "source": [
        "# Constant to be used throughout the code\n",
        "sample_rate = 12000"
      ],
      "execution_count": 0,
      "outputs": []
    },
    {
      "cell_type": "code",
      "metadata": {
        "id": "FxJ0hHhmPZ_A",
        "colab_type": "code",
        "colab": {}
      },
      "source": [
        "def read_audio(filename,sample_rate):\n",
        "  audio, _ = librosa.load(filename, sr=sample_rate, mono=True)\n",
        "  return audio.flatten()"
      ],
      "execution_count": 0,
      "outputs": []
    },
    {
      "cell_type": "code",
      "metadata": {
        "id": "6f6_dlTymU1y",
        "colab_type": "code",
        "colab": {}
      },
      "source": [
        "def normalize_frames(m,epsilon=1e-12):\n",
        "    return [(v - np.mean(v)) / max(np.std(v),epsilon) for v in m]"
      ],
      "execution_count": 0,
      "outputs": []
    },
    {
      "cell_type": "code",
      "metadata": {
        "id": "hNLtTFa7Og58",
        "colab_type": "code",
        "colab": {}
      },
      "source": [
        "def load_audio(filename, cnn=True):\n",
        "  audio = read_audio(filename,sample_rate)\n",
        "  # capture audio only from second 1 to second 5\n",
        "  start_sec, end_sec = 1,5\n",
        "  start_frame = int(start_sec * sample_rate)\n",
        "  end_frame = int(end_sec * sample_rate)\n",
        "  audio = audio[start_frame:end_frame]\n",
        "\n",
        "  #Padding with zeros if audio length less than 4 secs\n",
        "  if len(audio)<(end_frame-start_frame):\n",
        "    au = [0]*(end_frame-start_frame)\n",
        "    for i in range(len(audio)):\n",
        "        au[i] = audio[i]\n",
        "    audio = np.array(au)\n",
        "  #print(len(audio),sample_rate)\n",
        "\n",
        "  filter_banks, energies = fbank(audio, samplerate=sample_rate, nfilt=64, winlen=0.025) #filter_bank (num_frames , 64),energies (num_frames ,)\n",
        "  #Standardize with mean and std\n",
        "  filter_banks = normalize_frames(filter_banks)\n",
        "  #print(\"filterbanks:\" + str(len(filter_banks)))\n",
        "  frames_features = filter_banks\n",
        "\n",
        "  num_frames = len(frames_features)\n",
        "  #print(num_frames)\n",
        "  return np.reshape(np.array(frames_features),(num_frames, 64, 1))\n",
        "\n"
      ],
      "execution_count": 0,
      "outputs": []
    },
    {
      "cell_type": "code",
      "metadata": {
        "id": "AOP0aTz6fzqR",
        "colab_type": "code",
        "colab": {}
      },
      "source": [
        "'''\n",
        "This function will read the data into a dataframe.\n",
        "If the pattern is  .wav and flag is false, It will read the actual audio files (before preprocessing)\n",
        "If flag is True and pattern is npy, It will read preprocessed files stored as npy (numpy arrays)\n",
        "'''\n",
        "def create_catalogue(path,pattern=\"*/*.wav\",flag=False):\n",
        "  data = pd.DataFrame()\n",
        "  data['filename'] = glob.glob(os.path.join(path, pattern), recursive=True)\n",
        "  if not flag:\n",
        "    data['class'] = data['filename'].apply(lambda x: x.split(\"/\")[1])\n",
        "  else:\n",
        "    data['class'] = data['filename'].apply(lambda x: x.split(\"/\")[1].split('_')[0])\n",
        "  num_speakers = len(data['class'].unique())\n",
        "  print('Retrieved {} files with {} different speakers.'.format(str(len(data)), str(num_speakers)))\n",
        "  # print(data.head(10))\n",
        "  return data"
      ],
      "execution_count": 0,
      "outputs": []
    },
    {
      "cell_type": "code",
      "metadata": {
        "id": "OcxKC8OCiS0R",
        "colab_type": "code",
        "colab": {}
      },
      "source": [
        "#catalog = create_catalogue(\"subset3_npy\",\"*.npy\",True)"
      ],
      "execution_count": 0,
      "outputs": []
    },
    {
      "cell_type": "markdown",
      "metadata": {
        "id": "jG8SHMH8nMln",
        "colab_type": "text"
      },
      "source": [
        "## Preprocessing"
      ]
    },
    {
      "cell_type": "code",
      "metadata": {
        "id": "G8kXp9bheVvE",
        "colab_type": "code",
        "colab": {}
      },
      "source": [
        "#Used to preprocess a batch of files using. To be run inside each thread of he Mutlpithread preprocess call.\n",
        "def preprocess_batch(data,out_dir=\"subset2_npy\",task_num=\"0\"):\n",
        "  start_time = time()\n",
        "  i=0\n",
        "  for i in range(len(data)):\n",
        "    orig_time = time()\n",
        "    filename = data.iloc[i]['filename']\n",
        "    target_filename = out_dir+\"/\" + filename.split(\"/\")[1]+\"_\"+filename.split(\"/\")[-1].split('.')[0] + '.npy'\n",
        "    \n",
        "    if os.path.exists(target_filename):\n",
        "      if i % 10 == 0: print(\"Task ID:{0} File No.: {1} Existing File Name:{2}\".format(task_num, i, filename))\n",
        "      continue\n",
        "    feature = load_audio(filename)\n",
        "    #print('!!!',feature.ndim,feature.shape[0],feature.shape[1],feature.shape[2])\n",
        "    if feature.ndim != 3 or feature.shape[0] < 399 or feature.shape[1] !=64 or feature.shape[2] != 1:\n",
        "      print('Error in loading file:',filename)\n",
        "      continue\n",
        "    np.save(target_filename, feature)\n",
        "    if i % 100 == 0:\n",
        "      print(\"Task ID:{0} Time taken per file: {1:.3f}s Current File No.:{2} File name:{3}\".format(task_num, time() - orig_time, i, filename))\n",
        "  print(\"Task ID {} with {} files completed in {} seconds.\".format(task_num, i, time()-start_time))"
      ],
      "execution_count": 0,
      "outputs": []
    },
    {
      "cell_type": "code",
      "metadata": {
        "id": "Sfr2WKALdBrl",
        "colab_type": "code",
        "colab": {}
      },
      "source": [
        "#Master preprocessing function. Runs 10 threads in parralel to perform Feature Preprocessing.\n",
        "def preprocess(data_dir,out_dir):\n",
        "  orig_time = time()\n",
        "  data = create_catalogue(data_dir)\n",
        "  print(\"STARTING PREPROCESSING\")\n",
        "  print(\"Starting 10 threads to exttra ct audio, feature banks and store as npy files.\")\n",
        "  p = Pool(10)\n",
        "  print(len(data))\n",
        "  patch = int(len(data)/10)\n",
        "  for i in range(10):\n",
        "      if i < 9:\n",
        "          sdata=data[i*patch: (i+1)*patch]\n",
        "      else:\n",
        "          #Last patch gets leftover data\n",
        "          sdata = data[i*patch:]\n",
        "      p.apply_async(preprocess_batch, args=(sdata,out_dir,i))\n",
        "  print('Waiting for all subprocesses done...')\n",
        "  p.close()\n",
        "  p.join()\n",
        "\n",
        "  print(\"Preprocessing Finished. Took {} seconds\".format(time()-orig_time))"
      ],
      "execution_count": 0,
      "outputs": []
    },
    {
      "cell_type": "markdown",
      "metadata": {
        "id": "E9d1kmkNm81H",
        "colab_type": "text"
      },
      "source": [
        "### Running the preprocessing on original data. We have shared the output of this in form of npy files in order to save computation time"
      ]
    },
    {
      "cell_type": "code",
      "metadata": {
        "id": "JLs_bYmEkz1W",
        "colab_type": "code",
        "colab": {}
      },
      "source": [
        "#preprocess(\"subset2\",\"subset3_npy\")\n",
        "#!zip -rq subset3_npy.zip subset3_npy\n",
        "#!cp subset3_npy.zip drive/My\\ Drive"
      ],
      "execution_count": 0,
      "outputs": []
    },
    {
      "cell_type": "markdown",
      "metadata": {
        "id": "94RoFFLEpywG",
        "colab_type": "text"
      },
      "source": [
        "Reading saved npy files from google drive"
      ]
    },
    {
      "cell_type": "code",
      "metadata": {
        "id": "XKDXvs--QXf5",
        "colab_type": "code",
        "colab": {}
      },
      "source": [
        "# !cp drive/My\\ Drive/subset3_npy.zip .\n",
        "# !unzip -q subset3_npy.zip"
      ],
      "execution_count": 0,
      "outputs": []
    },
    {
      "cell_type": "code",
      "metadata": {
        "id": "COOx4b6AqJf4",
        "colab_type": "code",
        "outputId": "65167160-3d09-4191-bbcc-30cb5e57f575",
        "colab": {
          "base_uri": "https://localhost:8080/",
          "height": 34
        }
      },
      "source": [
        "catalog = create_catalogue(\"subset3_npy\",\"*.npy\",True)"
      ],
      "execution_count": 142,
      "outputs": [
        {
          "output_type": "stream",
          "text": [
            "Retrieved 44998 files with 300 different speakers.\n"
          ],
          "name": "stdout"
        }
      ]
    },
    {
      "cell_type": "markdown",
      "metadata": {
        "id": "NkgdyynVqLM1",
        "colab_type": "text"
      },
      "source": [
        "# Training Triplet Loss"
      ]
    },
    {
      "cell_type": "code",
      "metadata": {
        "id": "l4yKKgDNP62x",
        "colab_type": "code",
        "colab": {}
      },
      "source": [
        "NUM_FRAMES=399\n",
        "BATCH_SIZE=32\n",
        "TRIPLET_PER_BATCH=3"
      ],
      "execution_count": 0,
      "outputs": []
    },
    {
      "cell_type": "markdown",
      "metadata": {
        "id": "ANbGoKdytwk3",
        "colab_type": "text"
      },
      "source": [
        "## Creating Mini Batches\n",
        "refer to report for details"
      ]
    },
    {
      "cell_type": "code",
      "metadata": {
        "id": "eEtQ7krRPcUZ",
        "colab_type": "code",
        "colab": {}
      },
      "source": [
        "def clipped_audio(x, num_frames=NUM_FRAMES):\n",
        "    if x.shape[0] > num_frames:\n",
        "        bias = np.random.randint(0, x.shape[0] - num_frames)\n",
        "        clipped_x = x[bias: num_frames + bias]\n",
        "    else:\n",
        "        clipped_x = x\n",
        "\n",
        "    return clipped_x\n",
        "\n",
        "\n",
        "class MiniBatch:\n",
        "    def __init__(self, data, batch_size, unique_speakers=None):    \n",
        "        if unique_speakers is None:\n",
        "            unique_speakers = list(data['class'].unique())\n",
        "        num_triplets = batch_size\n",
        "\n",
        "        anchor_batch = None\n",
        "        positive_batch = None\n",
        "        negative_batch = None\n",
        "        for ii in range(num_triplets):\n",
        "            two_different_speakers = np.random.choice(unique_speakers, size=2, replace=False)\n",
        "            anchor_positive_speaker = two_different_speakers[0]\n",
        "            negative_speaker = two_different_speakers[1]\n",
        "            #print(two_different_speakers)\n",
        "            anchor_positive_file = data[data['class'] == anchor_positive_speaker].sample(n=2, replace=False)\n",
        "            anchor_df = pd.DataFrame(anchor_positive_file[0:1])\n",
        "            anchor_df['training_type'] = 'anchor'\n",
        "            positive_df = pd.DataFrame(anchor_positive_file[1:2])\n",
        "            positive_df['training_type'] = 'positive'\n",
        "            negative_df = data[data['class'] == negative_speaker].sample(n=1)\n",
        "            negative_df['training_type'] = 'negative'\n",
        "\n",
        "            if anchor_batch is None:\n",
        "                anchor_batch = anchor_df.copy()\n",
        "            else:\n",
        "                anchor_batch = pd.concat([anchor_batch, anchor_df], axis=0)\n",
        "            if positive_batch is None:\n",
        "                positive_batch = positive_df.copy()\n",
        "            else:\n",
        "                positive_batch = pd.concat([positive_batch, positive_df], axis=0)\n",
        "            if negative_batch is None:\n",
        "                negative_batch = negative_df.copy()\n",
        "            else:\n",
        "                negative_batch = pd.concat([negative_batch, negative_df], axis=0)\n",
        "\n",
        "        self.data_batch = pd.DataFrame(pd.concat([anchor_batch, positive_batch, negative_batch], axis=0))\n",
        "        self.num_triplets = num_triplets\n",
        "\n",
        "    def to_inputs(self,le=None):\n",
        "\n",
        "        new_x = []\n",
        "        for i in range(len(self.data_batch)):\n",
        "            filename = self.data_batch.iloc[i]['filename']\n",
        "            x = np.load(filename)\n",
        "            new_x.append(x)\n",
        "        x = np.array(new_x) #(batchsize, num_frames, 64, 1)\n",
        "        y = self.data_batch['class'].values\n",
        "        if le is not None:\n",
        "          y = le.transform(y)\n",
        "          no_of_speakers = len(le.classes_)\n",
        "          y = np.eye(no_of_speakers)[y_]    #one-hot\n",
        "\n",
        "        # anchor examples [speakers] == positive examples [speakers]\n",
        "        np.testing.assert_array_equal(y[0:self.num_triplets], y[self.num_triplets:2 * self.num_triplets])\n",
        "        return x, y\n",
        "\n",
        "\n",
        "def stochastic_mini_batch(data, batch_size=BATCH_SIZE,unique_speakers=None):\n",
        "    mini_batch = MiniBatch(data, batch_size,unique_speakers)\n",
        "    return mini_batch"
      ],
      "execution_count": 0,
      "outputs": []
    },
    {
      "cell_type": "code",
      "metadata": {
        "id": "Tsyq7-trUGbV",
        "colab_type": "code",
        "outputId": "11c1d501-8a2c-41da-a39d-37320ec798ad",
        "colab": {
          "base_uri": "https://localhost:8080/",
          "height": 34
        }
      },
      "source": [
        "data_npy = create_catalogue(\"subset3_npy\",\"*.npy\",flag=True) \n",
        "unique_speakers = data_npy[\"class\"].unique()\n",
        "batch = stochastic_mini_batch(data_npy, batch_size=BATCH_SIZE, unique_speakers=unique_speakers)\n",
        "batch_size = BATCH_SIZE * TRIPLET_PER_BATCH\n",
        "x, y = batch.to_inputs()"
      ],
      "execution_count": 145,
      "outputs": [
        {
          "output_type": "stream",
          "text": [
            "Retrieved 44998 files with 300 different speakers.\n"
          ],
          "name": "stdout"
        }
      ]
    },
    {
      "cell_type": "code",
      "metadata": {
        "id": "qdvPE-xjUF9I",
        "colab_type": "code",
        "colab": {}
      },
      "source": [
        "# finding input shape\n",
        "audio_file = x[0]\n",
        "num_frames = audio_file.shape[0]\n",
        "train_batch_size = batch_size\n",
        "#batch_shape = [batch_size * num_frames] + list(audio_file.shape[1:])  # A triplet has 3 parts.\n",
        "input_shape = (num_frames, audio_file.shape[1], audio_file.shape[2])"
      ],
      "execution_count": 0,
      "outputs": []
    },
    {
      "cell_type": "markdown",
      "metadata": {
        "id": "aCT2MN2pWbEk",
        "colab_type": "text"
      },
      "source": [
        "# Pretraining Input Generator"
      ]
    },
    {
      "cell_type": "code",
      "metadata": {
        "id": "F65PpQq3Wywz",
        "colab_type": "code",
        "outputId": "b4ee3de2-87fb-44b8-ecd1-2af6362c041d",
        "colab": {
          "base_uri": "https://localhost:8080/",
          "height": 34
        }
      },
      "source": [
        "le = LabelEncoder()\n",
        "le.fit(data_npy[\"class\"])"
      ],
      "execution_count": 147,
      "outputs": [
        {
          "output_type": "execute_result",
          "data": {
            "text/plain": [
              "LabelEncoder()"
            ]
          },
          "metadata": {
            "tags": []
          },
          "execution_count": 147
        }
      ]
    },
    {
      "cell_type": "markdown",
      "metadata": {
        "id": "1oQXQo7AzRw0",
        "colab_type": "text"
      },
      "source": [
        "### Loading Mini batches \n",
        "used to load train and test data as iterators/generators."
      ]
    },
    {
      "cell_type": "code",
      "metadata": {
        "id": "KEjDyxr0X0ce",
        "colab_type": "code",
        "colab": {}
      },
      "source": [
        "def load_from_list(x_paths, batch_start, limit, le):\n",
        "    x = []\n",
        "    y_ = []\n",
        "    for i in range(batch_start, limit):\n",
        "        x.append(np.load(x_paths[i]))\n",
        "        y_.append(x_paths[i].split(\"/\")[-1].split(\"_\")[0])\n",
        "    y_ = le.transform(y_)\n",
        "    no_of_speakers = len(le.classes_)\n",
        "    x = np.asarray(x)\n",
        "    y = np.eye(no_of_speakers)[y_]    #one hot encoding\n",
        "    y = np.asarray(y)\n",
        "    return x, y"
      ],
      "execution_count": 0,
      "outputs": []
    },
    {
      "cell_type": "code",
      "metadata": {
        "id": "1KIEDFQkXegN",
        "colab_type": "code",
        "colab": {}
      },
      "source": [
        "def batch_training_data_generator(paths, le, batch_size=BATCH_SIZE * TRIPLET_PER_BATCH):\n",
        "  L = len(paths)\n",
        "  while True:\n",
        "    np.random.shuffle(paths)\n",
        "    batch_start = 0\n",
        "    batch_end = batch_size\n",
        "\n",
        "    while batch_end < L:\n",
        "      x_train_t, y_train_t = load_from_list(paths, batch_start, batch_end, le)\n",
        "      randnum = random.randint(0, 100)\n",
        "      random.seed(randnum)\n",
        "      random.shuffle(x_train_t)\n",
        "      random.seed(randnum)\n",
        "      random.shuffle(y_train_t)\n",
        "      yield (x_train_t, y_train_t)\n",
        "      batch_start += batch_size\n",
        "      batch_end += batch_size\n"
      ],
      "execution_count": 0,
      "outputs": []
    },
    {
      "cell_type": "code",
      "metadata": {
        "id": "3FAO5ItdYGvZ",
        "colab_type": "code",
        "colab": {}
      },
      "source": [
        "def batch_test_data_generator(paths, le, batch_size=BATCH_SIZE * TRIPLET_PER_BATCH):\n",
        "  L = len(paths)\n",
        "  while True:\n",
        "    np.random.shuffle(paths)\n",
        "    batch_start = 0\n",
        "    batch_end = batch_size\n",
        "\n",
        "    while batch_end < L:\n",
        "      x_test_t, y_test_t = load_from_list(paths, batch_start, batch_end, le)\n",
        "      yield (x_test_t, y_test_t)\n",
        "      batch_start += batch_size\n",
        "      batch_end += batch_size"
      ],
      "execution_count": 0,
      "outputs": []
    },
    {
      "cell_type": "code",
      "metadata": {
        "id": "oiil2lo2YXJT",
        "colab_type": "code",
        "colab": {}
      },
      "source": [
        "def split_data(files, labels, batch_size):\n",
        "  test_size = max(batch_size/len(labels),0.05)\n",
        "  train_paths, test_paths, y_train, y_test = train_test_split(files, labels, test_size=test_size, random_state=42)\n",
        "  return np.array(train_paths), np.array(test_paths)"
      ],
      "execution_count": 0,
      "outputs": []
    },
    {
      "cell_type": "markdown",
      "metadata": {
        "id": "yasIu1_qX6Go",
        "colab_type": "text"
      },
      "source": [
        "# CNN Model"
      ]
    },
    {
      "cell_type": "code",
      "metadata": {
        "id": "ksqaoGVCX7hg",
        "colab_type": "code",
        "colab": {}
      },
      "source": [
        "import keras.backend as K\n",
        "import math\n",
        "from keras import layers\n",
        "from keras import regularizers\n",
        "from keras.layers import Input, GRU\n",
        "from keras.layers.convolutional import Conv2D\n",
        "from keras.layers.core import Lambda, Dense, RepeatVector\n",
        "from keras.layers.core import Reshape\n",
        "from keras.layers.normalization import BatchNormalization\n",
        "from keras.models import Model\n",
        "import tensorflow as tf"
      ],
      "execution_count": 0,
      "outputs": []
    },
    {
      "cell_type": "code",
      "metadata": {
        "id": "rjeG9pi7YRMA",
        "colab_type": "code",
        "colab": {}
      },
      "source": [
        "#restrictting input to range (0,20) - Clipping the ReLU\n",
        "def clipped_relu(inputs):\n",
        "    return Lambda(lambda y: K.minimum(K.maximum(y, 0), 20))(inputs)"
      ],
      "execution_count": 0,
      "outputs": []
    },
    {
      "cell_type": "code",
      "metadata": {
        "id": "IKKFBiPXYPfQ",
        "colab_type": "code",
        "colab": {}
      },
      "source": [
        "def identity_block(input_tensor, kernel_size, filters, stage, block):\n",
        "    conv_name_base = 'res{}_{}_branch'.format(stage, block)\n",
        "\n",
        "    x = Conv2D(filters,\n",
        "                   kernel_size=kernel_size,\n",
        "                   strides=1,\n",
        "                   activation=None,\n",
        "                   padding='same',\n",
        "                   kernel_initializer='glorot_uniform',\n",
        "                   kernel_regularizer=regularizers.l2(l=0.00001),\n",
        "                   name=conv_name_base + '_2a')(input_tensor)\n",
        "    x = BatchNormalization(name=conv_name_base + '_2a_bn')(x)\n",
        "    x = clipped_relu(x)\n",
        "\n",
        "    x = Conv2D(filters,\n",
        "                   kernel_size=kernel_size,\n",
        "                   strides=1,\n",
        "                   activation=None,\n",
        "                   padding='same',\n",
        "                   kernel_initializer='glorot_uniform',\n",
        "                   kernel_regularizer=regularizers.l2(l=0.00001),\n",
        "                   name=conv_name_base + '_2b')(x)\n",
        "    x = BatchNormalization(name=conv_name_base + '_2b_bn')(x)\n",
        "\n",
        "\n",
        "    x = layers.add([x, input_tensor])\n",
        "    x = clipped_relu(x)\n",
        "    return x\n"
      ],
      "execution_count": 0,
      "outputs": []
    },
    {
      "cell_type": "code",
      "metadata": {
        "id": "bUqH6fZKYdYu",
        "colab_type": "code",
        "colab": {}
      },
      "source": [
        "def convolutional_model(input_shape=(NUM_FRAMES,64, 1),    #input_shape(32,32,3)\n",
        "                        batch_size=BATCH_SIZE * TRIPLET_PER_BATCH , num_frames=NUM_FRAMES):\n",
        "    # http://cs231n.github.io/convolutional-networks/\n",
        "    # conv weights\n",
        "    # #params = ks * ks * nb_filters * num_channels_input\n",
        "\n",
        "    # Conv128-s\n",
        "    # 5*5*128*128/2+128\n",
        "    # ks*ks*nb_filters*channels/strides+bias(=nb_filters)\n",
        "\n",
        "    # take 100 ms -> 4 frames.\n",
        "    # if signal is 3 seconds, then take 100ms per 100ms and average out this network.\n",
        "    # 8*8 = 64 features.\n",
        "\n",
        "    # used to share all the layers across the inputs\n",
        "\n",
        "    # num_frames = K.shape() - do it dynamically after.\n",
        "\n",
        "    def conv_and_res_block(inp, filters, stage):\n",
        "        conv_name = 'conv{}-s'.format(filters)\n",
        "        o = Conv2D(filters,\n",
        "                       kernel_size=5,\n",
        "                       strides=2,\n",
        "                       padding='same',\n",
        "                       kernel_initializer='glorot_uniform',\n",
        "                       kernel_regularizer=regularizers.l2(l=0.00001), name=conv_name)(inp)\n",
        "        o = BatchNormalization(name=conv_name + '_bn')(o)\n",
        "        o = clipped_relu(o)\n",
        "        for i in range(3):\n",
        "            o = identity_block(o, kernel_size=3, filters=filters, stage=stage, block=i)\n",
        "        return o\n",
        "\n",
        "    def cnn_component(inp):\n",
        "        x_ = conv_and_res_block(inp, 64, stage=1)\n",
        "        x_ = conv_and_res_block(x_, 128, stage=2)\n",
        "        x_ = conv_and_res_block(x_, 256, stage=3)\n",
        "        x_ = conv_and_res_block(x_, 512, stage=4)\n",
        "        return x_\n",
        "\n",
        "    inputs = Input(shape=input_shape)\n",
        "    \n",
        "    x = cnn_component(inputs)  # shape = (BATCH_SIZE , num_frames/16, 64/16, 512)\n",
        "    \n",
        "    x = Lambda(lambda y: K.reshape(y, (-1, math.ceil(num_frames/16), 2048)), name='reshape')(x)\n",
        "    x = Lambda(lambda y: K.mean(y, axis=1), name='average')(x)  #shape = (BATCH_SIZE, 512)\n",
        "    x = Dense(512, name='affine')(x)  # .shape = (BATCH_SIZE , 512)\n",
        "    x = Lambda(lambda y: K.l2_normalize(y, axis=1), name='ln')(x)\n",
        "\n",
        "    model = Model(inputs, x, name='convolutional')\n",
        "\n",
        "    #print(model.summary())\n",
        "    return model"
      ],
      "execution_count": 0,
      "outputs": []
    },
    {
      "cell_type": "code",
      "metadata": {
        "id": "kk1FUIJyZUWB",
        "colab_type": "code",
        "colab": {}
      },
      "source": [
        "def find_last_checkpoint_if_exists(checkpoint_folder):\n",
        "  os.makedirs(checkpoint_folder, exist_ok=True)\n",
        "  files = glob.glob('{}/*.h5'.format(checkpoint_folder), recursive=True)\n",
        "  if len(files) == 0:\n",
        "      return None\n",
        "  return sort_filenames(files)[-1]"
      ],
      "execution_count": 0,
      "outputs": []
    },
    {
      "cell_type": "code",
      "metadata": {
        "id": "Z7sTDio1eMKy",
        "colab_type": "code",
        "colab": {}
      },
      "source": [
        "def create_dir_and_delete_content(directory):\n",
        "  os.makedirs(directory, exist_ok=True)\n",
        "  files = sorted(filter(lambda f: os.path.isfile(f) and f.endswith(\".h5\"), \n",
        "      map(lambda f: os.path.join(directory, f), os.listdir(directory))),\n",
        "      key=os.path.getmtime)\n",
        "  # delete all but most current file to assure the latest model is availabel even if process is killed\n",
        "  for file in files[:-4]:\n",
        "      print(\"removing old model: {}\".format(file))\n",
        "      os.remove(file)"
      ],
      "execution_count": 0,
      "outputs": []
    },
    {
      "cell_type": "code",
      "metadata": {
        "id": "xqrc_kk_Z9KW",
        "colab_type": "code",
        "colab": {}
      },
      "source": [
        "#Sorting the file names\n",
        "def sort_filenames(l):\n",
        "    convert = lambda text: int(text) if text.isdigit() else text.lower()\n",
        "    alphanum_key = lambda key: [convert(c) for c in re.split('([0-9]+)', key)]\n",
        "    return sorted(l, key=alphanum_key)"
      ],
      "execution_count": 0,
      "outputs": []
    },
    {
      "cell_type": "code",
      "metadata": {
        "id": "bqAlSVu5aSsY",
        "colab_type": "code",
        "colab": {}
      },
      "source": [
        "#calculating Triplet Loss\n",
        "def triplet_loss(y_true, y_pred):\n",
        "  elements = BATCH_SIZE\n",
        "  anchor = y_pred[0:elements]\n",
        "  positive_ex = y_pred[elements:2 * elements]\n",
        "  negative_ex = y_pred[2 * elements:]\n",
        "\n",
        "  sap = batch_cosine_similarity(anchor, positive_ex)\n",
        "  san = batch_cosine_similarity(anchor, negative_ex)\n",
        "  loss = K.maximum(san - sap + ALPHA, 0.0)\n",
        "  total_loss = K.sum(loss)\n",
        "  return total_loss"
      ],
      "execution_count": 0,
      "outputs": []
    },
    {
      "cell_type": "code",
      "metadata": {
        "id": "Hz4LBIWPadVH",
        "colab_type": "code",
        "colab": {}
      },
      "source": [
        "def batch_cosine_similarity(x1, x2):\n",
        "  # https://en.wikipedia.org/wiki/Cosine_similarity\n",
        "  # 1 = equal direction ; -1 = opposite direction\n",
        "  dot = K.squeeze(K.batch_dot(x1, x2, axes=1), axis=1)\n",
        "  return dot"
      ],
      "execution_count": 0,
      "outputs": []
    },
    {
      "cell_type": "markdown",
      "metadata": {
        "id": "9UltGEnJa6RI",
        "colab_type": "text"
      },
      "source": [
        "# Pre-Training"
      ]
    },
    {
      "cell_type": "code",
      "metadata": {
        "id": "By5qRQiX8FQS",
        "colab_type": "code",
        "colab": {}
      },
      "source": [
        "from sklearn.metrics.pairwise import cosine_similarity\n",
        "from sklearn.datasets import make_classification\n",
        "from sklearn.linear_model import LogisticRegression\n",
        "from sklearn.model_selection import train_test_split\n",
        "from sklearn.metrics import accuracy_score"
      ],
      "execution_count": 0,
      "outputs": []
    },
    {
      "cell_type": "code",
      "metadata": {
        "id": "W_qXSd5kd-Ih",
        "colab_type": "code",
        "colab": {}
      },
      "source": [
        "NUM_NEGATIVE_TEST = 99\n",
        "TEST_DIR = \"subset3_npy\"\n",
        "CHECKPOINT_FOLDER = \"drive/My Drive/MLSP2\"\n",
        "ALPHA = 0.2\n",
        "batch_size = BATCH_SIZE * TRIPLET_PER_BATCH\n",
        "SAVE_PER_EPOCHS=200\n",
        "DATA_DIR = \"subset3_npy\"\n",
        "TEST_DIR = \"vox_test_npy\"\n",
        "TEST_PER_EPOCHS = 50\n",
        "BEST_CHECKPOINT_FOLDER = \"drive/My Drive/MLSP_BEST\""
      ],
      "execution_count": 0,
      "outputs": []
    },
    {
      "cell_type": "code",
      "metadata": {
        "id": "Q_YfMwuNZT3N",
        "colab_type": "code",
        "outputId": "e6672751-aa4d-4b82-a3b3-403a89118f37",
        "colab": {
          "base_uri": "https://localhost:8080/",
          "height": 1000
        }
      },
      "source": [
        "train_data, test_data = split_data(data_npy[\"filename\"], data_npy[\"class\"], batch_size)\n",
        "train_batch_iterator = batch_training_data_generator(train_data,le, batch_size=batch_size)\n",
        "test_batch_iterator = batch_test_data_generator(test_data, le, batch_size=batch_size)\n",
        "test_steps = int(len(test_data)/batch_size)\n",
        "x_test, y_test = test_batch_iterator.__next__()\n",
        "audio_file = x_test[0]\n",
        "num_frames = audio_file.shape[0]\n",
        "print('Numer of Frames : {}'.format(num_frames))\n",
        "print('Batch Size: {}'.format(batch_size))\n",
        "no_of_speakers = len(le.classes_)\n",
        "base_model = convolutional_model(input_shape=x_test.shape[1:], batch_size=batch_size, num_frames=num_frames)\n",
        "x = base_model.output\n",
        "x = Dense(no_of_speakers, activation='softmax',name='softmax_layer')(x)\n",
        "\n",
        "model = Model(base_model.input, x)\n",
        "print(model.summary())\n",
        "model.compile(optimizer='adam', loss='categorical_crossentropy', metrics=['accuracy'])"
      ],
      "execution_count": 168,
      "outputs": [
        {
          "output_type": "stream",
          "text": [
            "Numer of Frames : 399\n",
            "Batch Size: 96\n",
            "Model: \"model_9\"\n",
            "__________________________________________________________________________________________________\n",
            "Layer (type)                    Output Shape         Param #     Connected to                     \n",
            "==================================================================================================\n",
            "input_10 (InputLayer)           (None, 399, 64, 1)   0                                            \n",
            "__________________________________________________________________________________________________\n",
            "conv64-s (Conv2D)               (None, 200, 32, 64)  1664        input_10[0][0]                   \n",
            "__________________________________________________________________________________________________\n",
            "conv64-s_bn (BatchNormalization (None, 200, 32, 64)  256         conv64-s[0][0]                   \n",
            "__________________________________________________________________________________________________\n",
            "lambda_253 (Lambda)             (None, 200, 32, 64)  0           conv64-s_bn[0][0]                \n",
            "__________________________________________________________________________________________________\n",
            "res1_0_branch_2a (Conv2D)       (None, 200, 32, 64)  36928       lambda_253[0][0]                 \n",
            "__________________________________________________________________________________________________\n",
            "res1_0_branch_2a_bn (BatchNorma (None, 200, 32, 64)  256         res1_0_branch_2a[0][0]           \n",
            "__________________________________________________________________________________________________\n",
            "lambda_254 (Lambda)             (None, 200, 32, 64)  0           res1_0_branch_2a_bn[0][0]        \n",
            "__________________________________________________________________________________________________\n",
            "res1_0_branch_2b (Conv2D)       (None, 200, 32, 64)  36928       lambda_254[0][0]                 \n",
            "__________________________________________________________________________________________________\n",
            "res1_0_branch_2b_bn (BatchNorma (None, 200, 32, 64)  256         res1_0_branch_2b[0][0]           \n",
            "__________________________________________________________________________________________________\n",
            "add_109 (Add)                   (None, 200, 32, 64)  0           res1_0_branch_2b_bn[0][0]        \n",
            "                                                                 lambda_253[0][0]                 \n",
            "__________________________________________________________________________________________________\n",
            "lambda_255 (Lambda)             (None, 200, 32, 64)  0           add_109[0][0]                    \n",
            "__________________________________________________________________________________________________\n",
            "res1_1_branch_2a (Conv2D)       (None, 200, 32, 64)  36928       lambda_255[0][0]                 \n",
            "__________________________________________________________________________________________________\n",
            "res1_1_branch_2a_bn (BatchNorma (None, 200, 32, 64)  256         res1_1_branch_2a[0][0]           \n",
            "__________________________________________________________________________________________________\n",
            "lambda_256 (Lambda)             (None, 200, 32, 64)  0           res1_1_branch_2a_bn[0][0]        \n",
            "__________________________________________________________________________________________________\n",
            "res1_1_branch_2b (Conv2D)       (None, 200, 32, 64)  36928       lambda_256[0][0]                 \n",
            "__________________________________________________________________________________________________\n",
            "res1_1_branch_2b_bn (BatchNorma (None, 200, 32, 64)  256         res1_1_branch_2b[0][0]           \n",
            "__________________________________________________________________________________________________\n",
            "add_110 (Add)                   (None, 200, 32, 64)  0           res1_1_branch_2b_bn[0][0]        \n",
            "                                                                 lambda_255[0][0]                 \n",
            "__________________________________________________________________________________________________\n",
            "lambda_257 (Lambda)             (None, 200, 32, 64)  0           add_110[0][0]                    \n",
            "__________________________________________________________________________________________________\n",
            "res1_2_branch_2a (Conv2D)       (None, 200, 32, 64)  36928       lambda_257[0][0]                 \n",
            "__________________________________________________________________________________________________\n",
            "res1_2_branch_2a_bn (BatchNorma (None, 200, 32, 64)  256         res1_2_branch_2a[0][0]           \n",
            "__________________________________________________________________________________________________\n",
            "lambda_258 (Lambda)             (None, 200, 32, 64)  0           res1_2_branch_2a_bn[0][0]        \n",
            "__________________________________________________________________________________________________\n",
            "res1_2_branch_2b (Conv2D)       (None, 200, 32, 64)  36928       lambda_258[0][0]                 \n",
            "__________________________________________________________________________________________________\n",
            "res1_2_branch_2b_bn (BatchNorma (None, 200, 32, 64)  256         res1_2_branch_2b[0][0]           \n",
            "__________________________________________________________________________________________________\n",
            "add_111 (Add)                   (None, 200, 32, 64)  0           res1_2_branch_2b_bn[0][0]        \n",
            "                                                                 lambda_257[0][0]                 \n",
            "__________________________________________________________________________________________________\n",
            "lambda_259 (Lambda)             (None, 200, 32, 64)  0           add_111[0][0]                    \n",
            "__________________________________________________________________________________________________\n",
            "conv128-s (Conv2D)              (None, 100, 16, 128) 204928      lambda_259[0][0]                 \n",
            "__________________________________________________________________________________________________\n",
            "conv128-s_bn (BatchNormalizatio (None, 100, 16, 128) 512         conv128-s[0][0]                  \n",
            "__________________________________________________________________________________________________\n",
            "lambda_260 (Lambda)             (None, 100, 16, 128) 0           conv128-s_bn[0][0]               \n",
            "__________________________________________________________________________________________________\n",
            "res2_0_branch_2a (Conv2D)       (None, 100, 16, 128) 147584      lambda_260[0][0]                 \n",
            "__________________________________________________________________________________________________\n",
            "res2_0_branch_2a_bn (BatchNorma (None, 100, 16, 128) 512         res2_0_branch_2a[0][0]           \n",
            "__________________________________________________________________________________________________\n",
            "lambda_261 (Lambda)             (None, 100, 16, 128) 0           res2_0_branch_2a_bn[0][0]        \n",
            "__________________________________________________________________________________________________\n",
            "res2_0_branch_2b (Conv2D)       (None, 100, 16, 128) 147584      lambda_261[0][0]                 \n",
            "__________________________________________________________________________________________________\n",
            "res2_0_branch_2b_bn (BatchNorma (None, 100, 16, 128) 512         res2_0_branch_2b[0][0]           \n",
            "__________________________________________________________________________________________________\n",
            "add_112 (Add)                   (None, 100, 16, 128) 0           res2_0_branch_2b_bn[0][0]        \n",
            "                                                                 lambda_260[0][0]                 \n",
            "__________________________________________________________________________________________________\n",
            "lambda_262 (Lambda)             (None, 100, 16, 128) 0           add_112[0][0]                    \n",
            "__________________________________________________________________________________________________\n",
            "res2_1_branch_2a (Conv2D)       (None, 100, 16, 128) 147584      lambda_262[0][0]                 \n",
            "__________________________________________________________________________________________________\n",
            "res2_1_branch_2a_bn (BatchNorma (None, 100, 16, 128) 512         res2_1_branch_2a[0][0]           \n",
            "__________________________________________________________________________________________________\n",
            "lambda_263 (Lambda)             (None, 100, 16, 128) 0           res2_1_branch_2a_bn[0][0]        \n",
            "__________________________________________________________________________________________________\n",
            "res2_1_branch_2b (Conv2D)       (None, 100, 16, 128) 147584      lambda_263[0][0]                 \n",
            "__________________________________________________________________________________________________\n",
            "res2_1_branch_2b_bn (BatchNorma (None, 100, 16, 128) 512         res2_1_branch_2b[0][0]           \n",
            "__________________________________________________________________________________________________\n",
            "add_113 (Add)                   (None, 100, 16, 128) 0           res2_1_branch_2b_bn[0][0]        \n",
            "                                                                 lambda_262[0][0]                 \n",
            "__________________________________________________________________________________________________\n",
            "lambda_264 (Lambda)             (None, 100, 16, 128) 0           add_113[0][0]                    \n",
            "__________________________________________________________________________________________________\n",
            "res2_2_branch_2a (Conv2D)       (None, 100, 16, 128) 147584      lambda_264[0][0]                 \n",
            "__________________________________________________________________________________________________\n",
            "res2_2_branch_2a_bn (BatchNorma (None, 100, 16, 128) 512         res2_2_branch_2a[0][0]           \n",
            "__________________________________________________________________________________________________\n",
            "lambda_265 (Lambda)             (None, 100, 16, 128) 0           res2_2_branch_2a_bn[0][0]        \n",
            "__________________________________________________________________________________________________\n",
            "res2_2_branch_2b (Conv2D)       (None, 100, 16, 128) 147584      lambda_265[0][0]                 \n",
            "__________________________________________________________________________________________________\n",
            "res2_2_branch_2b_bn (BatchNorma (None, 100, 16, 128) 512         res2_2_branch_2b[0][0]           \n",
            "__________________________________________________________________________________________________\n",
            "add_114 (Add)                   (None, 100, 16, 128) 0           res2_2_branch_2b_bn[0][0]        \n",
            "                                                                 lambda_264[0][0]                 \n",
            "__________________________________________________________________________________________________\n",
            "lambda_266 (Lambda)             (None, 100, 16, 128) 0           add_114[0][0]                    \n",
            "__________________________________________________________________________________________________\n",
            "conv256-s (Conv2D)              (None, 50, 8, 256)   819456      lambda_266[0][0]                 \n",
            "__________________________________________________________________________________________________\n",
            "conv256-s_bn (BatchNormalizatio (None, 50, 8, 256)   1024        conv256-s[0][0]                  \n",
            "__________________________________________________________________________________________________\n",
            "lambda_267 (Lambda)             (None, 50, 8, 256)   0           conv256-s_bn[0][0]               \n",
            "__________________________________________________________________________________________________\n",
            "res3_0_branch_2a (Conv2D)       (None, 50, 8, 256)   590080      lambda_267[0][0]                 \n",
            "__________________________________________________________________________________________________\n",
            "res3_0_branch_2a_bn (BatchNorma (None, 50, 8, 256)   1024        res3_0_branch_2a[0][0]           \n",
            "__________________________________________________________________________________________________\n",
            "lambda_268 (Lambda)             (None, 50, 8, 256)   0           res3_0_branch_2a_bn[0][0]        \n",
            "__________________________________________________________________________________________________\n",
            "res3_0_branch_2b (Conv2D)       (None, 50, 8, 256)   590080      lambda_268[0][0]                 \n",
            "__________________________________________________________________________________________________\n",
            "res3_0_branch_2b_bn (BatchNorma (None, 50, 8, 256)   1024        res3_0_branch_2b[0][0]           \n",
            "__________________________________________________________________________________________________\n",
            "add_115 (Add)                   (None, 50, 8, 256)   0           res3_0_branch_2b_bn[0][0]        \n",
            "                                                                 lambda_267[0][0]                 \n",
            "__________________________________________________________________________________________________\n",
            "lambda_269 (Lambda)             (None, 50, 8, 256)   0           add_115[0][0]                    \n",
            "__________________________________________________________________________________________________\n",
            "res3_1_branch_2a (Conv2D)       (None, 50, 8, 256)   590080      lambda_269[0][0]                 \n",
            "__________________________________________________________________________________________________\n",
            "res3_1_branch_2a_bn (BatchNorma (None, 50, 8, 256)   1024        res3_1_branch_2a[0][0]           \n",
            "__________________________________________________________________________________________________\n",
            "lambda_270 (Lambda)             (None, 50, 8, 256)   0           res3_1_branch_2a_bn[0][0]        \n",
            "__________________________________________________________________________________________________\n",
            "res3_1_branch_2b (Conv2D)       (None, 50, 8, 256)   590080      lambda_270[0][0]                 \n",
            "__________________________________________________________________________________________________\n",
            "res3_1_branch_2b_bn (BatchNorma (None, 50, 8, 256)   1024        res3_1_branch_2b[0][0]           \n",
            "__________________________________________________________________________________________________\n",
            "add_116 (Add)                   (None, 50, 8, 256)   0           res3_1_branch_2b_bn[0][0]        \n",
            "                                                                 lambda_269[0][0]                 \n",
            "__________________________________________________________________________________________________\n",
            "lambda_271 (Lambda)             (None, 50, 8, 256)   0           add_116[0][0]                    \n",
            "__________________________________________________________________________________________________\n",
            "res3_2_branch_2a (Conv2D)       (None, 50, 8, 256)   590080      lambda_271[0][0]                 \n",
            "__________________________________________________________________________________________________\n",
            "res3_2_branch_2a_bn (BatchNorma (None, 50, 8, 256)   1024        res3_2_branch_2a[0][0]           \n",
            "__________________________________________________________________________________________________\n",
            "lambda_272 (Lambda)             (None, 50, 8, 256)   0           res3_2_branch_2a_bn[0][0]        \n",
            "__________________________________________________________________________________________________\n",
            "res3_2_branch_2b (Conv2D)       (None, 50, 8, 256)   590080      lambda_272[0][0]                 \n",
            "__________________________________________________________________________________________________\n",
            "res3_2_branch_2b_bn (BatchNorma (None, 50, 8, 256)   1024        res3_2_branch_2b[0][0]           \n",
            "__________________________________________________________________________________________________\n",
            "add_117 (Add)                   (None, 50, 8, 256)   0           res3_2_branch_2b_bn[0][0]        \n",
            "                                                                 lambda_271[0][0]                 \n",
            "__________________________________________________________________________________________________\n",
            "lambda_273 (Lambda)             (None, 50, 8, 256)   0           add_117[0][0]                    \n",
            "__________________________________________________________________________________________________\n",
            "conv512-s (Conv2D)              (None, 25, 4, 512)   3277312     lambda_273[0][0]                 \n",
            "__________________________________________________________________________________________________\n",
            "conv512-s_bn (BatchNormalizatio (None, 25, 4, 512)   2048        conv512-s[0][0]                  \n",
            "__________________________________________________________________________________________________\n",
            "lambda_274 (Lambda)             (None, 25, 4, 512)   0           conv512-s_bn[0][0]               \n",
            "__________________________________________________________________________________________________\n",
            "res4_0_branch_2a (Conv2D)       (None, 25, 4, 512)   2359808     lambda_274[0][0]                 \n",
            "__________________________________________________________________________________________________\n",
            "res4_0_branch_2a_bn (BatchNorma (None, 25, 4, 512)   2048        res4_0_branch_2a[0][0]           \n",
            "__________________________________________________________________________________________________\n",
            "lambda_275 (Lambda)             (None, 25, 4, 512)   0           res4_0_branch_2a_bn[0][0]        \n",
            "__________________________________________________________________________________________________\n",
            "res4_0_branch_2b (Conv2D)       (None, 25, 4, 512)   2359808     lambda_275[0][0]                 \n",
            "__________________________________________________________________________________________________\n",
            "res4_0_branch_2b_bn (BatchNorma (None, 25, 4, 512)   2048        res4_0_branch_2b[0][0]           \n",
            "__________________________________________________________________________________________________\n",
            "add_118 (Add)                   (None, 25, 4, 512)   0           res4_0_branch_2b_bn[0][0]        \n",
            "                                                                 lambda_274[0][0]                 \n",
            "__________________________________________________________________________________________________\n",
            "lambda_276 (Lambda)             (None, 25, 4, 512)   0           add_118[0][0]                    \n",
            "__________________________________________________________________________________________________\n",
            "res4_1_branch_2a (Conv2D)       (None, 25, 4, 512)   2359808     lambda_276[0][0]                 \n",
            "__________________________________________________________________________________________________\n",
            "res4_1_branch_2a_bn (BatchNorma (None, 25, 4, 512)   2048        res4_1_branch_2a[0][0]           \n",
            "__________________________________________________________________________________________________\n",
            "lambda_277 (Lambda)             (None, 25, 4, 512)   0           res4_1_branch_2a_bn[0][0]        \n",
            "__________________________________________________________________________________________________\n",
            "res4_1_branch_2b (Conv2D)       (None, 25, 4, 512)   2359808     lambda_277[0][0]                 \n",
            "__________________________________________________________________________________________________\n",
            "res4_1_branch_2b_bn (BatchNorma (None, 25, 4, 512)   2048        res4_1_branch_2b[0][0]           \n",
            "__________________________________________________________________________________________________\n",
            "add_119 (Add)                   (None, 25, 4, 512)   0           res4_1_branch_2b_bn[0][0]        \n",
            "                                                                 lambda_276[0][0]                 \n",
            "__________________________________________________________________________________________________\n",
            "lambda_278 (Lambda)             (None, 25, 4, 512)   0           add_119[0][0]                    \n",
            "__________________________________________________________________________________________________\n",
            "res4_2_branch_2a (Conv2D)       (None, 25, 4, 512)   2359808     lambda_278[0][0]                 \n",
            "__________________________________________________________________________________________________\n",
            "res4_2_branch_2a_bn (BatchNorma (None, 25, 4, 512)   2048        res4_2_branch_2a[0][0]           \n",
            "__________________________________________________________________________________________________\n",
            "lambda_279 (Lambda)             (None, 25, 4, 512)   0           res4_2_branch_2a_bn[0][0]        \n",
            "__________________________________________________________________________________________________\n",
            "res4_2_branch_2b (Conv2D)       (None, 25, 4, 512)   2359808     lambda_279[0][0]                 \n",
            "__________________________________________________________________________________________________\n",
            "res4_2_branch_2b_bn (BatchNorma (None, 25, 4, 512)   2048        res4_2_branch_2b[0][0]           \n",
            "__________________________________________________________________________________________________\n",
            "add_120 (Add)                   (None, 25, 4, 512)   0           res4_2_branch_2b_bn[0][0]        \n",
            "                                                                 lambda_278[0][0]                 \n",
            "__________________________________________________________________________________________________\n",
            "lambda_280 (Lambda)             (None, 25, 4, 512)   0           add_120[0][0]                    \n",
            "__________________________________________________________________________________________________\n",
            "reshape (Lambda)                (None, 25, 2048)     0           lambda_280[0][0]                 \n",
            "__________________________________________________________________________________________________\n",
            "average (Lambda)                (None, 2048)         0           reshape[0][0]                    \n",
            "__________________________________________________________________________________________________\n",
            "affine (Dense)                  (None, 512)          1049088     average[0][0]                    \n",
            "__________________________________________________________________________________________________\n",
            "ln (Lambda)                     (None, 512)          0           affine[0][0]                     \n",
            "__________________________________________________________________________________________________\n",
            "softmax_layer (Dense)           (None, 300)          153900      ln[0][0]                         \n",
            "==================================================================================================\n",
            "Total params: 24,339,628\n",
            "Trainable params: 24,326,188\n",
            "Non-trainable params: 13,440\n",
            "__________________________________________________________________________________________________\n",
            "None\n"
          ],
          "name": "stdout"
        }
      ]
    },
    {
      "cell_type": "code",
      "metadata": {
        "id": "_1cZSRT2a3Da",
        "colab_type": "code",
        "colab": {}
      },
      "source": [
        "PRE_CHECKPOINT_FOLDER = 'drive/My Drive/MLSP_PRE'"
      ],
      "execution_count": 0,
      "outputs": []
    },
    {
      "cell_type": "code",
      "metadata": {
        "id": "QPN4p1vPb3e4",
        "colab_type": "code",
        "colab": {}
      },
      "source": [
        "import random"
      ],
      "execution_count": 0,
      "outputs": []
    },
    {
      "cell_type": "code",
      "metadata": {
        "id": "GJFnAUcRbNEQ",
        "colab_type": "code",
        "outputId": "4c4823ee-6e0a-41c2-eef9-3c124b8c63ec",
        "colab": {
          "base_uri": "https://localhost:8080/",
          "height": 34
        }
      },
      "source": [
        "grad_steps = 0\n",
        "# last_checkpoint = find_last_checkpoint_if_exists(PRE_CHECKPOINT_FOLDER)\n",
        "# last_checkpoint = None\n",
        "last_checkpoint = 'drive/My Drive/model_8000_1.72135.h5'\n",
        "if last_checkpoint is not None:\n",
        "    print('Found checkpoint [{}]. Resume from here...'.format(last_checkpoint))\n",
        "    model.load_weights(last_checkpoint)\n",
        "    grad_steps = int(last_checkpoint.split('_')[-2])"
      ],
      "execution_count": 171,
      "outputs": [
        {
          "output_type": "stream",
          "text": [
            "Found checkpoint [drive/My Drive/model_8000_1.72135.h5]. Resume from here...\n"
          ],
          "name": "stdout"
        }
      ]
    },
    {
      "cell_type": "code",
      "metadata": {
        "id": "0Mt6-jMRbVLZ",
        "colab_type": "code",
        "outputId": "12437476-666d-44e6-86d7-1573df1a5dbf",
        "colab": {
          "base_uri": "https://localhost:8080/",
          "height": 392
        }
      },
      "source": [
        "while True:\n",
        "    orig_time = time()\n",
        "    # Gettting next batch from iterator\n",
        "    x_train, y_train = train_batch_iterator.__next__()\n",
        "    [loss, acc] = model.train_on_batch(x_train, y_train)  # return [loss, acc]\n",
        "    print('Train Steps:{0}, Time:{1:.2f}s, Loss={2}, Accuracy={3}'.format(grad_steps,time() - orig_time, loss,acc))\n",
        "\n",
        "    if grad_steps % TEST_PER_EPOCHS == 0:\n",
        "        losses = []; accs = []\n",
        "        for ss in range(test_steps):\n",
        "            [loss, acc] = model.test_on_batch(x_test, y_test)\n",
        "            x_test, y_test = test_batch_iterator.__next__()\n",
        "            losses.append(loss); accs.append(acc)\n",
        "        loss = np.mean(np.array(losses)); acc = np.mean(np.array(accs))\n",
        "        print('Test the Data ---------- Steps:{0}, Loss={1}, Accuracy={2}, '.format(grad_steps,loss,acc))\n",
        "\n",
        "    if grad_steps  % SAVE_PER_EPOCHS == 0:\n",
        "        create_dir_and_delete_content(PRE_CHECKPOINT_FOLDER)\n",
        "        model.save_weights('{0}/model_{1}_{2:.5f}.h5'.format(PRE_CHECKPOINT_FOLDER, grad_steps, loss))\n",
        "\n",
        "    grad_steps += 1"
      ],
      "execution_count": 172,
      "outputs": [
        {
          "output_type": "stream",
          "text": [
            "Train Steps:8000, Time:16.23s, Loss=1.8429365158081055, Accuracy=0.6666666865348816\n"
          ],
          "name": "stdout"
        },
        {
          "output_type": "error",
          "ename": "KeyboardInterrupt",
          "evalue": "ignored",
          "traceback": [
            "\u001b[0;31m---------------------------------------------------------------------------\u001b[0m",
            "\u001b[0;31mKeyboardInterrupt\u001b[0m                         Traceback (most recent call last)",
            "\u001b[0;32m<ipython-input-172-ac7b6e12db32>\u001b[0m in \u001b[0;36m<module>\u001b[0;34m()\u001b[0m\n\u001b[1;32m      9\u001b[0m         \u001b[0mlosses\u001b[0m \u001b[0;34m=\u001b[0m \u001b[0;34m[\u001b[0m\u001b[0;34m]\u001b[0m\u001b[0;34m;\u001b[0m \u001b[0maccs\u001b[0m \u001b[0;34m=\u001b[0m \u001b[0;34m[\u001b[0m\u001b[0;34m]\u001b[0m\u001b[0;34m\u001b[0m\u001b[0;34m\u001b[0m\u001b[0m\n\u001b[1;32m     10\u001b[0m         \u001b[0;32mfor\u001b[0m \u001b[0mss\u001b[0m \u001b[0;32min\u001b[0m \u001b[0mrange\u001b[0m\u001b[0;34m(\u001b[0m\u001b[0mtest_steps\u001b[0m\u001b[0;34m)\u001b[0m\u001b[0;34m:\u001b[0m\u001b[0;34m\u001b[0m\u001b[0;34m\u001b[0m\u001b[0m\n\u001b[0;32m---> 11\u001b[0;31m             \u001b[0;34m[\u001b[0m\u001b[0mloss\u001b[0m\u001b[0;34m,\u001b[0m \u001b[0macc\u001b[0m\u001b[0;34m]\u001b[0m \u001b[0;34m=\u001b[0m \u001b[0mmodel\u001b[0m\u001b[0;34m.\u001b[0m\u001b[0mtest_on_batch\u001b[0m\u001b[0;34m(\u001b[0m\u001b[0mx_test\u001b[0m\u001b[0;34m,\u001b[0m \u001b[0my_test\u001b[0m\u001b[0;34m)\u001b[0m\u001b[0;34m\u001b[0m\u001b[0;34m\u001b[0m\u001b[0m\n\u001b[0m\u001b[1;32m     12\u001b[0m             \u001b[0mx_test\u001b[0m\u001b[0;34m,\u001b[0m \u001b[0my_test\u001b[0m \u001b[0;34m=\u001b[0m \u001b[0mtest_batch_iterator\u001b[0m\u001b[0;34m.\u001b[0m\u001b[0m__next__\u001b[0m\u001b[0;34m(\u001b[0m\u001b[0;34m)\u001b[0m\u001b[0;34m\u001b[0m\u001b[0;34m\u001b[0m\u001b[0m\n\u001b[1;32m     13\u001b[0m             \u001b[0mlosses\u001b[0m\u001b[0;34m.\u001b[0m\u001b[0mappend\u001b[0m\u001b[0;34m(\u001b[0m\u001b[0mloss\u001b[0m\u001b[0;34m)\u001b[0m\u001b[0;34m;\u001b[0m \u001b[0maccs\u001b[0m\u001b[0;34m.\u001b[0m\u001b[0mappend\u001b[0m\u001b[0;34m(\u001b[0m\u001b[0macc\u001b[0m\u001b[0;34m)\u001b[0m\u001b[0;34m\u001b[0m\u001b[0;34m\u001b[0m\u001b[0m\n",
            "\u001b[0;32m/usr/local/lib/python3.6/dist-packages/keras/engine/training.py\u001b[0m in \u001b[0;36mtest_on_batch\u001b[0;34m(self, x, y, sample_weight)\u001b[0m\n\u001b[1;32m   1486\u001b[0m             \u001b[0mins\u001b[0m \u001b[0;34m=\u001b[0m \u001b[0mx\u001b[0m \u001b[0;34m+\u001b[0m \u001b[0my\u001b[0m \u001b[0;34m+\u001b[0m \u001b[0msample_weights\u001b[0m\u001b[0;34m\u001b[0m\u001b[0;34m\u001b[0m\u001b[0m\n\u001b[1;32m   1487\u001b[0m         \u001b[0mself\u001b[0m\u001b[0;34m.\u001b[0m\u001b[0m_make_test_function\u001b[0m\u001b[0;34m(\u001b[0m\u001b[0;34m)\u001b[0m\u001b[0;34m\u001b[0m\u001b[0;34m\u001b[0m\u001b[0m\n\u001b[0;32m-> 1488\u001b[0;31m         \u001b[0moutputs\u001b[0m \u001b[0;34m=\u001b[0m \u001b[0mself\u001b[0m\u001b[0;34m.\u001b[0m\u001b[0mtest_function\u001b[0m\u001b[0;34m(\u001b[0m\u001b[0mins\u001b[0m\u001b[0;34m)\u001b[0m\u001b[0;34m\u001b[0m\u001b[0;34m\u001b[0m\u001b[0m\n\u001b[0m\u001b[1;32m   1489\u001b[0m         \u001b[0;32mreturn\u001b[0m \u001b[0munpack_singleton\u001b[0m\u001b[0;34m(\u001b[0m\u001b[0moutputs\u001b[0m\u001b[0;34m)\u001b[0m\u001b[0;34m\u001b[0m\u001b[0;34m\u001b[0m\u001b[0m\n\u001b[1;32m   1490\u001b[0m \u001b[0;34m\u001b[0m\u001b[0m\n",
            "\u001b[0;32m/usr/local/lib/python3.6/dist-packages/keras/backend/tensorflow_backend.py\u001b[0m in \u001b[0;36m__call__\u001b[0;34m(self, inputs)\u001b[0m\n\u001b[1;32m   2977\u001b[0m                     \u001b[0;32mreturn\u001b[0m \u001b[0mself\u001b[0m\u001b[0;34m.\u001b[0m\u001b[0m_legacy_call\u001b[0m\u001b[0;34m(\u001b[0m\u001b[0minputs\u001b[0m\u001b[0;34m)\u001b[0m\u001b[0;34m\u001b[0m\u001b[0;34m\u001b[0m\u001b[0m\n\u001b[1;32m   2978\u001b[0m \u001b[0;34m\u001b[0m\u001b[0m\n\u001b[0;32m-> 2979\u001b[0;31m             \u001b[0;32mreturn\u001b[0m \u001b[0mself\u001b[0m\u001b[0;34m.\u001b[0m\u001b[0m_call\u001b[0m\u001b[0;34m(\u001b[0m\u001b[0minputs\u001b[0m\u001b[0;34m)\u001b[0m\u001b[0;34m\u001b[0m\u001b[0;34m\u001b[0m\u001b[0m\n\u001b[0m\u001b[1;32m   2980\u001b[0m         \u001b[0;32melse\u001b[0m\u001b[0;34m:\u001b[0m\u001b[0;34m\u001b[0m\u001b[0;34m\u001b[0m\u001b[0m\n\u001b[1;32m   2981\u001b[0m             \u001b[0;32mif\u001b[0m \u001b[0mpy_any\u001b[0m\u001b[0;34m(\u001b[0m\u001b[0mis_tensor\u001b[0m\u001b[0;34m(\u001b[0m\u001b[0mx\u001b[0m\u001b[0;34m)\u001b[0m \u001b[0;32mfor\u001b[0m \u001b[0mx\u001b[0m \u001b[0;32min\u001b[0m \u001b[0minputs\u001b[0m\u001b[0;34m)\u001b[0m\u001b[0;34m:\u001b[0m\u001b[0;34m\u001b[0m\u001b[0;34m\u001b[0m\u001b[0m\n",
            "\u001b[0;32m/usr/local/lib/python3.6/dist-packages/keras/backend/tensorflow_backend.py\u001b[0m in \u001b[0;36m_call\u001b[0;34m(self, inputs)\u001b[0m\n\u001b[1;32m   2935\u001b[0m             \u001b[0mfetched\u001b[0m \u001b[0;34m=\u001b[0m \u001b[0mself\u001b[0m\u001b[0;34m.\u001b[0m\u001b[0m_callable_fn\u001b[0m\u001b[0;34m(\u001b[0m\u001b[0;34m*\u001b[0m\u001b[0marray_vals\u001b[0m\u001b[0;34m,\u001b[0m \u001b[0mrun_metadata\u001b[0m\u001b[0;34m=\u001b[0m\u001b[0mself\u001b[0m\u001b[0;34m.\u001b[0m\u001b[0mrun_metadata\u001b[0m\u001b[0;34m)\u001b[0m\u001b[0;34m\u001b[0m\u001b[0;34m\u001b[0m\u001b[0m\n\u001b[1;32m   2936\u001b[0m         \u001b[0;32melse\u001b[0m\u001b[0;34m:\u001b[0m\u001b[0;34m\u001b[0m\u001b[0;34m\u001b[0m\u001b[0m\n\u001b[0;32m-> 2937\u001b[0;31m             \u001b[0mfetched\u001b[0m \u001b[0;34m=\u001b[0m \u001b[0mself\u001b[0m\u001b[0;34m.\u001b[0m\u001b[0m_callable_fn\u001b[0m\u001b[0;34m(\u001b[0m\u001b[0;34m*\u001b[0m\u001b[0marray_vals\u001b[0m\u001b[0;34m)\u001b[0m\u001b[0;34m\u001b[0m\u001b[0;34m\u001b[0m\u001b[0m\n\u001b[0m\u001b[1;32m   2938\u001b[0m         \u001b[0;32mreturn\u001b[0m \u001b[0mfetched\u001b[0m\u001b[0;34m[\u001b[0m\u001b[0;34m:\u001b[0m\u001b[0mlen\u001b[0m\u001b[0;34m(\u001b[0m\u001b[0mself\u001b[0m\u001b[0;34m.\u001b[0m\u001b[0moutputs\u001b[0m\u001b[0;34m)\u001b[0m\u001b[0;34m]\u001b[0m\u001b[0;34m\u001b[0m\u001b[0;34m\u001b[0m\u001b[0m\n\u001b[1;32m   2939\u001b[0m \u001b[0;34m\u001b[0m\u001b[0m\n",
            "\u001b[0;32m/usr/local/lib/python3.6/dist-packages/tensorflow_core/python/client/session.py\u001b[0m in \u001b[0;36m__call__\u001b[0;34m(self, *args, **kwargs)\u001b[0m\n\u001b[1;32m   1470\u001b[0m         ret = tf_session.TF_SessionRunCallable(self._session._session,\n\u001b[1;32m   1471\u001b[0m                                                \u001b[0mself\u001b[0m\u001b[0;34m.\u001b[0m\u001b[0m_handle\u001b[0m\u001b[0;34m,\u001b[0m \u001b[0margs\u001b[0m\u001b[0;34m,\u001b[0m\u001b[0;34m\u001b[0m\u001b[0;34m\u001b[0m\u001b[0m\n\u001b[0;32m-> 1472\u001b[0;31m                                                run_metadata_ptr)\n\u001b[0m\u001b[1;32m   1473\u001b[0m         \u001b[0;32mif\u001b[0m \u001b[0mrun_metadata\u001b[0m\u001b[0;34m:\u001b[0m\u001b[0;34m\u001b[0m\u001b[0;34m\u001b[0m\u001b[0m\n\u001b[1;32m   1474\u001b[0m           \u001b[0mproto_data\u001b[0m \u001b[0;34m=\u001b[0m \u001b[0mtf_session\u001b[0m\u001b[0;34m.\u001b[0m\u001b[0mTF_GetBuffer\u001b[0m\u001b[0;34m(\u001b[0m\u001b[0mrun_metadata_ptr\u001b[0m\u001b[0;34m)\u001b[0m\u001b[0;34m\u001b[0m\u001b[0;34m\u001b[0m\u001b[0m\n",
            "\u001b[0;31mKeyboardInterrupt\u001b[0m: "
          ]
        }
      ]
    },
    {
      "cell_type": "markdown",
      "metadata": {
        "id": "uSHUr5q3a9wu",
        "colab_type": "text"
      },
      "source": [
        "# Training"
      ]
    },
    {
      "cell_type": "code",
      "metadata": {
        "id": "8IdUIJL07zGc",
        "colab_type": "code",
        "outputId": "91642c75-c4c0-49f4-bf1f-2343ce6a0d69",
        "colab": {
          "base_uri": "https://localhost:8080/",
          "height": 34
        }
      },
      "source": [
        "data_npy = create_catalogue(\"subset3_npy\",\"*.npy\",flag=True) \n",
        "unique_speakers = data_npy[\"class\"].unique()\n",
        "batch = stochastic_mini_batch(data_npy, batch_size=BATCH_SIZE, unique_speakers=unique_speakers)\n",
        "batch_size = BATCH_SIZE * TRIPLET_PER_BATCH\n",
        "x, y = batch.to_inputs()"
      ],
      "execution_count": 173,
      "outputs": [
        {
          "output_type": "stream",
          "text": [
            "Retrieved 44998 files with 300 different speakers.\n"
          ],
          "name": "stdout"
        }
      ]
    },
    {
      "cell_type": "code",
      "metadata": {
        "id": "8RT0APs37_0Y",
        "colab_type": "code",
        "colab": {}
      },
      "source": [
        "audio_file = x[0]\n",
        "num_frames = audio_file.shape[0]\n",
        "train_batch_size = batch_size\n",
        "#batch_shape = [batch_size * num_frames] + list(audio_file.shape[1:])  # A triplet has 3 parts.\n",
        "input_shape = (num_frames, audio_file.shape[1], audio_file.shape[2])"
      ],
      "execution_count": 0,
      "outputs": []
    },
    {
      "cell_type": "code",
      "metadata": {
        "id": "CrdyB8zv8ELG",
        "colab_type": "code",
        "outputId": "08ea638c-ff94-4077-c654-9d610502f567",
        "colab": {
          "base_uri": "https://localhost:8080/",
          "height": 1000
        }
      },
      "source": [
        "model = convolutional_model(input_shape=input_shape, batch_size=batch_size, num_frames=num_frames)\n",
        "model.summary()"
      ],
      "execution_count": 175,
      "outputs": [
        {
          "output_type": "stream",
          "text": [
            "Model: \"convolutional\"\n",
            "__________________________________________________________________________________________________\n",
            "Layer (type)                    Output Shape         Param #     Connected to                     \n",
            "==================================================================================================\n",
            "input_11 (InputLayer)           (None, 399, 64, 1)   0                                            \n",
            "__________________________________________________________________________________________________\n",
            "conv64-s (Conv2D)               (None, 200, 32, 64)  1664        input_11[0][0]                   \n",
            "__________________________________________________________________________________________________\n",
            "conv64-s_bn (BatchNormalization (None, 200, 32, 64)  256         conv64-s[0][0]                   \n",
            "__________________________________________________________________________________________________\n",
            "lambda_281 (Lambda)             (None, 200, 32, 64)  0           conv64-s_bn[0][0]                \n",
            "__________________________________________________________________________________________________\n",
            "res1_0_branch_2a (Conv2D)       (None, 200, 32, 64)  36928       lambda_281[0][0]                 \n",
            "__________________________________________________________________________________________________\n",
            "res1_0_branch_2a_bn (BatchNorma (None, 200, 32, 64)  256         res1_0_branch_2a[0][0]           \n",
            "__________________________________________________________________________________________________\n",
            "lambda_282 (Lambda)             (None, 200, 32, 64)  0           res1_0_branch_2a_bn[0][0]        \n",
            "__________________________________________________________________________________________________\n",
            "res1_0_branch_2b (Conv2D)       (None, 200, 32, 64)  36928       lambda_282[0][0]                 \n",
            "__________________________________________________________________________________________________\n",
            "res1_0_branch_2b_bn (BatchNorma (None, 200, 32, 64)  256         res1_0_branch_2b[0][0]           \n",
            "__________________________________________________________________________________________________\n",
            "add_121 (Add)                   (None, 200, 32, 64)  0           res1_0_branch_2b_bn[0][0]        \n",
            "                                                                 lambda_281[0][0]                 \n",
            "__________________________________________________________________________________________________\n",
            "lambda_283 (Lambda)             (None, 200, 32, 64)  0           add_121[0][0]                    \n",
            "__________________________________________________________________________________________________\n",
            "res1_1_branch_2a (Conv2D)       (None, 200, 32, 64)  36928       lambda_283[0][0]                 \n",
            "__________________________________________________________________________________________________\n",
            "res1_1_branch_2a_bn (BatchNorma (None, 200, 32, 64)  256         res1_1_branch_2a[0][0]           \n",
            "__________________________________________________________________________________________________\n",
            "lambda_284 (Lambda)             (None, 200, 32, 64)  0           res1_1_branch_2a_bn[0][0]        \n",
            "__________________________________________________________________________________________________\n",
            "res1_1_branch_2b (Conv2D)       (None, 200, 32, 64)  36928       lambda_284[0][0]                 \n",
            "__________________________________________________________________________________________________\n",
            "res1_1_branch_2b_bn (BatchNorma (None, 200, 32, 64)  256         res1_1_branch_2b[0][0]           \n",
            "__________________________________________________________________________________________________\n",
            "add_122 (Add)                   (None, 200, 32, 64)  0           res1_1_branch_2b_bn[0][0]        \n",
            "                                                                 lambda_283[0][0]                 \n",
            "__________________________________________________________________________________________________\n",
            "lambda_285 (Lambda)             (None, 200, 32, 64)  0           add_122[0][0]                    \n",
            "__________________________________________________________________________________________________\n",
            "res1_2_branch_2a (Conv2D)       (None, 200, 32, 64)  36928       lambda_285[0][0]                 \n",
            "__________________________________________________________________________________________________\n",
            "res1_2_branch_2a_bn (BatchNorma (None, 200, 32, 64)  256         res1_2_branch_2a[0][0]           \n",
            "__________________________________________________________________________________________________\n",
            "lambda_286 (Lambda)             (None, 200, 32, 64)  0           res1_2_branch_2a_bn[0][0]        \n",
            "__________________________________________________________________________________________________\n",
            "res1_2_branch_2b (Conv2D)       (None, 200, 32, 64)  36928       lambda_286[0][0]                 \n",
            "__________________________________________________________________________________________________\n",
            "res1_2_branch_2b_bn (BatchNorma (None, 200, 32, 64)  256         res1_2_branch_2b[0][0]           \n",
            "__________________________________________________________________________________________________\n",
            "add_123 (Add)                   (None, 200, 32, 64)  0           res1_2_branch_2b_bn[0][0]        \n",
            "                                                                 lambda_285[0][0]                 \n",
            "__________________________________________________________________________________________________\n",
            "lambda_287 (Lambda)             (None, 200, 32, 64)  0           add_123[0][0]                    \n",
            "__________________________________________________________________________________________________\n",
            "conv128-s (Conv2D)              (None, 100, 16, 128) 204928      lambda_287[0][0]                 \n",
            "__________________________________________________________________________________________________\n",
            "conv128-s_bn (BatchNormalizatio (None, 100, 16, 128) 512         conv128-s[0][0]                  \n",
            "__________________________________________________________________________________________________\n",
            "lambda_288 (Lambda)             (None, 100, 16, 128) 0           conv128-s_bn[0][0]               \n",
            "__________________________________________________________________________________________________\n",
            "res2_0_branch_2a (Conv2D)       (None, 100, 16, 128) 147584      lambda_288[0][0]                 \n",
            "__________________________________________________________________________________________________\n",
            "res2_0_branch_2a_bn (BatchNorma (None, 100, 16, 128) 512         res2_0_branch_2a[0][0]           \n",
            "__________________________________________________________________________________________________\n",
            "lambda_289 (Lambda)             (None, 100, 16, 128) 0           res2_0_branch_2a_bn[0][0]        \n",
            "__________________________________________________________________________________________________\n",
            "res2_0_branch_2b (Conv2D)       (None, 100, 16, 128) 147584      lambda_289[0][0]                 \n",
            "__________________________________________________________________________________________________\n",
            "res2_0_branch_2b_bn (BatchNorma (None, 100, 16, 128) 512         res2_0_branch_2b[0][0]           \n",
            "__________________________________________________________________________________________________\n",
            "add_124 (Add)                   (None, 100, 16, 128) 0           res2_0_branch_2b_bn[0][0]        \n",
            "                                                                 lambda_288[0][0]                 \n",
            "__________________________________________________________________________________________________\n",
            "lambda_290 (Lambda)             (None, 100, 16, 128) 0           add_124[0][0]                    \n",
            "__________________________________________________________________________________________________\n",
            "res2_1_branch_2a (Conv2D)       (None, 100, 16, 128) 147584      lambda_290[0][0]                 \n",
            "__________________________________________________________________________________________________\n",
            "res2_1_branch_2a_bn (BatchNorma (None, 100, 16, 128) 512         res2_1_branch_2a[0][0]           \n",
            "__________________________________________________________________________________________________\n",
            "lambda_291 (Lambda)             (None, 100, 16, 128) 0           res2_1_branch_2a_bn[0][0]        \n",
            "__________________________________________________________________________________________________\n",
            "res2_1_branch_2b (Conv2D)       (None, 100, 16, 128) 147584      lambda_291[0][0]                 \n",
            "__________________________________________________________________________________________________\n",
            "res2_1_branch_2b_bn (BatchNorma (None, 100, 16, 128) 512         res2_1_branch_2b[0][0]           \n",
            "__________________________________________________________________________________________________\n",
            "add_125 (Add)                   (None, 100, 16, 128) 0           res2_1_branch_2b_bn[0][0]        \n",
            "                                                                 lambda_290[0][0]                 \n",
            "__________________________________________________________________________________________________\n",
            "lambda_292 (Lambda)             (None, 100, 16, 128) 0           add_125[0][0]                    \n",
            "__________________________________________________________________________________________________\n",
            "res2_2_branch_2a (Conv2D)       (None, 100, 16, 128) 147584      lambda_292[0][0]                 \n",
            "__________________________________________________________________________________________________\n",
            "res2_2_branch_2a_bn (BatchNorma (None, 100, 16, 128) 512         res2_2_branch_2a[0][0]           \n",
            "__________________________________________________________________________________________________\n",
            "lambda_293 (Lambda)             (None, 100, 16, 128) 0           res2_2_branch_2a_bn[0][0]        \n",
            "__________________________________________________________________________________________________\n",
            "res2_2_branch_2b (Conv2D)       (None, 100, 16, 128) 147584      lambda_293[0][0]                 \n",
            "__________________________________________________________________________________________________\n",
            "res2_2_branch_2b_bn (BatchNorma (None, 100, 16, 128) 512         res2_2_branch_2b[0][0]           \n",
            "__________________________________________________________________________________________________\n",
            "add_126 (Add)                   (None, 100, 16, 128) 0           res2_2_branch_2b_bn[0][0]        \n",
            "                                                                 lambda_292[0][0]                 \n",
            "__________________________________________________________________________________________________\n",
            "lambda_294 (Lambda)             (None, 100, 16, 128) 0           add_126[0][0]                    \n",
            "__________________________________________________________________________________________________\n",
            "conv256-s (Conv2D)              (None, 50, 8, 256)   819456      lambda_294[0][0]                 \n",
            "__________________________________________________________________________________________________\n",
            "conv256-s_bn (BatchNormalizatio (None, 50, 8, 256)   1024        conv256-s[0][0]                  \n",
            "__________________________________________________________________________________________________\n",
            "lambda_295 (Lambda)             (None, 50, 8, 256)   0           conv256-s_bn[0][0]               \n",
            "__________________________________________________________________________________________________\n",
            "res3_0_branch_2a (Conv2D)       (None, 50, 8, 256)   590080      lambda_295[0][0]                 \n",
            "__________________________________________________________________________________________________\n",
            "res3_0_branch_2a_bn (BatchNorma (None, 50, 8, 256)   1024        res3_0_branch_2a[0][0]           \n",
            "__________________________________________________________________________________________________\n",
            "lambda_296 (Lambda)             (None, 50, 8, 256)   0           res3_0_branch_2a_bn[0][0]        \n",
            "__________________________________________________________________________________________________\n",
            "res3_0_branch_2b (Conv2D)       (None, 50, 8, 256)   590080      lambda_296[0][0]                 \n",
            "__________________________________________________________________________________________________\n",
            "res3_0_branch_2b_bn (BatchNorma (None, 50, 8, 256)   1024        res3_0_branch_2b[0][0]           \n",
            "__________________________________________________________________________________________________\n",
            "add_127 (Add)                   (None, 50, 8, 256)   0           res3_0_branch_2b_bn[0][0]        \n",
            "                                                                 lambda_295[0][0]                 \n",
            "__________________________________________________________________________________________________\n",
            "lambda_297 (Lambda)             (None, 50, 8, 256)   0           add_127[0][0]                    \n",
            "__________________________________________________________________________________________________\n",
            "res3_1_branch_2a (Conv2D)       (None, 50, 8, 256)   590080      lambda_297[0][0]                 \n",
            "__________________________________________________________________________________________________\n",
            "res3_1_branch_2a_bn (BatchNorma (None, 50, 8, 256)   1024        res3_1_branch_2a[0][0]           \n",
            "__________________________________________________________________________________________________\n",
            "lambda_298 (Lambda)             (None, 50, 8, 256)   0           res3_1_branch_2a_bn[0][0]        \n",
            "__________________________________________________________________________________________________\n",
            "res3_1_branch_2b (Conv2D)       (None, 50, 8, 256)   590080      lambda_298[0][0]                 \n",
            "__________________________________________________________________________________________________\n",
            "res3_1_branch_2b_bn (BatchNorma (None, 50, 8, 256)   1024        res3_1_branch_2b[0][0]           \n",
            "__________________________________________________________________________________________________\n",
            "add_128 (Add)                   (None, 50, 8, 256)   0           res3_1_branch_2b_bn[0][0]        \n",
            "                                                                 lambda_297[0][0]                 \n",
            "__________________________________________________________________________________________________\n",
            "lambda_299 (Lambda)             (None, 50, 8, 256)   0           add_128[0][0]                    \n",
            "__________________________________________________________________________________________________\n",
            "res3_2_branch_2a (Conv2D)       (None, 50, 8, 256)   590080      lambda_299[0][0]                 \n",
            "__________________________________________________________________________________________________\n",
            "res3_2_branch_2a_bn (BatchNorma (None, 50, 8, 256)   1024        res3_2_branch_2a[0][0]           \n",
            "__________________________________________________________________________________________________\n",
            "lambda_300 (Lambda)             (None, 50, 8, 256)   0           res3_2_branch_2a_bn[0][0]        \n",
            "__________________________________________________________________________________________________\n",
            "res3_2_branch_2b (Conv2D)       (None, 50, 8, 256)   590080      lambda_300[0][0]                 \n",
            "__________________________________________________________________________________________________\n",
            "res3_2_branch_2b_bn (BatchNorma (None, 50, 8, 256)   1024        res3_2_branch_2b[0][0]           \n",
            "__________________________________________________________________________________________________\n",
            "add_129 (Add)                   (None, 50, 8, 256)   0           res3_2_branch_2b_bn[0][0]        \n",
            "                                                                 lambda_299[0][0]                 \n",
            "__________________________________________________________________________________________________\n",
            "lambda_301 (Lambda)             (None, 50, 8, 256)   0           add_129[0][0]                    \n",
            "__________________________________________________________________________________________________\n",
            "conv512-s (Conv2D)              (None, 25, 4, 512)   3277312     lambda_301[0][0]                 \n",
            "__________________________________________________________________________________________________\n",
            "conv512-s_bn (BatchNormalizatio (None, 25, 4, 512)   2048        conv512-s[0][0]                  \n",
            "__________________________________________________________________________________________________\n",
            "lambda_302 (Lambda)             (None, 25, 4, 512)   0           conv512-s_bn[0][0]               \n",
            "__________________________________________________________________________________________________\n",
            "res4_0_branch_2a (Conv2D)       (None, 25, 4, 512)   2359808     lambda_302[0][0]                 \n",
            "__________________________________________________________________________________________________\n",
            "res4_0_branch_2a_bn (BatchNorma (None, 25, 4, 512)   2048        res4_0_branch_2a[0][0]           \n",
            "__________________________________________________________________________________________________\n",
            "lambda_303 (Lambda)             (None, 25, 4, 512)   0           res4_0_branch_2a_bn[0][0]        \n",
            "__________________________________________________________________________________________________\n",
            "res4_0_branch_2b (Conv2D)       (None, 25, 4, 512)   2359808     lambda_303[0][0]                 \n",
            "__________________________________________________________________________________________________\n",
            "res4_0_branch_2b_bn (BatchNorma (None, 25, 4, 512)   2048        res4_0_branch_2b[0][0]           \n",
            "__________________________________________________________________________________________________\n",
            "add_130 (Add)                   (None, 25, 4, 512)   0           res4_0_branch_2b_bn[0][0]        \n",
            "                                                                 lambda_302[0][0]                 \n",
            "__________________________________________________________________________________________________\n",
            "lambda_304 (Lambda)             (None, 25, 4, 512)   0           add_130[0][0]                    \n",
            "__________________________________________________________________________________________________\n",
            "res4_1_branch_2a (Conv2D)       (None, 25, 4, 512)   2359808     lambda_304[0][0]                 \n",
            "__________________________________________________________________________________________________\n",
            "res4_1_branch_2a_bn (BatchNorma (None, 25, 4, 512)   2048        res4_1_branch_2a[0][0]           \n",
            "__________________________________________________________________________________________________\n",
            "lambda_305 (Lambda)             (None, 25, 4, 512)   0           res4_1_branch_2a_bn[0][0]        \n",
            "__________________________________________________________________________________________________\n",
            "res4_1_branch_2b (Conv2D)       (None, 25, 4, 512)   2359808     lambda_305[0][0]                 \n",
            "__________________________________________________________________________________________________\n",
            "res4_1_branch_2b_bn (BatchNorma (None, 25, 4, 512)   2048        res4_1_branch_2b[0][0]           \n",
            "__________________________________________________________________________________________________\n",
            "add_131 (Add)                   (None, 25, 4, 512)   0           res4_1_branch_2b_bn[0][0]        \n",
            "                                                                 lambda_304[0][0]                 \n",
            "__________________________________________________________________________________________________\n",
            "lambda_306 (Lambda)             (None, 25, 4, 512)   0           add_131[0][0]                    \n",
            "__________________________________________________________________________________________________\n",
            "res4_2_branch_2a (Conv2D)       (None, 25, 4, 512)   2359808     lambda_306[0][0]                 \n",
            "__________________________________________________________________________________________________\n",
            "res4_2_branch_2a_bn (BatchNorma (None, 25, 4, 512)   2048        res4_2_branch_2a[0][0]           \n",
            "__________________________________________________________________________________________________\n",
            "lambda_307 (Lambda)             (None, 25, 4, 512)   0           res4_2_branch_2a_bn[0][0]        \n",
            "__________________________________________________________________________________________________\n",
            "res4_2_branch_2b (Conv2D)       (None, 25, 4, 512)   2359808     lambda_307[0][0]                 \n",
            "__________________________________________________________________________________________________\n",
            "res4_2_branch_2b_bn (BatchNorma (None, 25, 4, 512)   2048        res4_2_branch_2b[0][0]           \n",
            "__________________________________________________________________________________________________\n",
            "add_132 (Add)                   (None, 25, 4, 512)   0           res4_2_branch_2b_bn[0][0]        \n",
            "                                                                 lambda_306[0][0]                 \n",
            "__________________________________________________________________________________________________\n",
            "lambda_308 (Lambda)             (None, 25, 4, 512)   0           add_132[0][0]                    \n",
            "__________________________________________________________________________________________________\n",
            "reshape (Lambda)                (None, 25, 2048)     0           lambda_308[0][0]                 \n",
            "__________________________________________________________________________________________________\n",
            "average (Lambda)                (None, 2048)         0           reshape[0][0]                    \n",
            "__________________________________________________________________________________________________\n",
            "affine (Dense)                  (None, 512)          1049088     average[0][0]                    \n",
            "__________________________________________________________________________________________________\n",
            "ln (Lambda)                     (None, 512)          0           affine[0][0]                     \n",
            "==================================================================================================\n",
            "Total params: 24,185,728\n",
            "Trainable params: 24,172,288\n",
            "Non-trainable params: 13,440\n",
            "__________________________________________________________________________________________________\n"
          ],
          "name": "stdout"
        }
      ]
    },
    {
      "cell_type": "code",
      "metadata": {
        "id": "p1AcJGtHEsEW",
        "colab_type": "code",
        "colab": {}
      },
      "source": [
        "NUM_NEGATIVE_TEST = 99\n",
        "TEST_DIR = \"vox_test_npy\"\n",
        "CHECKPOINT_FOLDER = \"drive/My Drive\"\n",
        "ALPHA = 0.2"
      ],
      "execution_count": 0,
      "outputs": []
    },
    {
      "cell_type": "markdown",
      "metadata": {
        "id": "apbhkh0914t-",
        "colab_type": "text"
      },
      "source": [
        "## Loading Pre-training weights"
      ]
    },
    {
      "cell_type": "code",
      "metadata": {
        "id": "R85HAZeb6h7K",
        "colab_type": "code",
        "outputId": "a7a7f6be-e574-43d9-f8e1-17c71e8aca27",
        "colab": {
          "base_uri": "https://localhost:8080/",
          "height": 51
        }
      },
      "source": [
        "last_checkpoint = find_last_checkpoint_if_exists(PRE_CHECKPOINT_FOLDER)\n",
        "last_checkpoint = \"drive/My Drive/model_8000_1.72135.h5\"\n",
        "if last_checkpoint is not None:\n",
        "    print('Found pre-training checkpoint [{}]. Resume from here...'.format(last_checkpoint))\n",
        "    x = model.output\n",
        "    x = Dense(len(unique_speakers), activation='softmax', name='softmax_layer')(x)\n",
        "    pre_model = Model(model.input, x)\n",
        "    pre_model.load_weights(last_checkpoint)\n",
        "    grad_steps = int(last_checkpoint.split('_')[-2])\n",
        "    print('Successfully loaded pre-training model')"
      ],
      "execution_count": 177,
      "outputs": [
        {
          "output_type": "stream",
          "text": [
            "Found pre-training checkpoint [drive/My Drive/model_8000_1.72135.h5]. Resume from here...\n",
            "Successfully loaded pre-training model\n"
          ],
          "name": "stdout"
        }
      ]
    },
    {
      "cell_type": "code",
      "metadata": {
        "id": "zYalppEeE0tK",
        "colab_type": "code",
        "colab": {}
      },
      "source": [
        "grad_steps=0"
      ],
      "execution_count": 0,
      "outputs": []
    },
    {
      "cell_type": "markdown",
      "metadata": {
        "id": "2Cub5P7f2AMq",
        "colab_type": "text"
      },
      "source": [
        "Loading Checkpoints for Pretraining + triplet Loss"
      ]
    },
    {
      "cell_type": "code",
      "metadata": {
        "id": "ssjTaPxzEHhV",
        "colab_type": "code",
        "outputId": "d5d9749f-c3dd-4cc3-9c3e-ad9f9f8778fe",
        "colab": {
          "base_uri": "https://localhost:8080/",
          "height": 34
        }
      },
      "source": [
        "# last_checkpoint = find_last_checkpoint_if_exists(CHECKPOINT_FOLDER)\n",
        "last_checkpoint = \"drive/My Drive/model_1152_0.21762_0.17803.h5\"\n",
        "if last_checkpoint is not None:\n",
        "    print('Found checkpoint [{}]. Resume from here...'.format(last_checkpoint))\n",
        "    model.load_weights(last_checkpoint)\n",
        "    grad_steps = int(last_checkpoint.split('_')[-3])\n",
        "    min_loss = float(last_checkpoint.split('_')[-2].split(\".\")[0])\n",
        "else:\n",
        "    min_loss = float('inf')"
      ],
      "execution_count": 179,
      "outputs": [
        {
          "output_type": "stream",
          "text": [
            "Found checkpoint [drive/My Drive/model_1152_0.21762_0.17803.h5]. Resume from here...\n"
          ],
          "name": "stdout"
        }
      ]
    },
    {
      "cell_type": "code",
      "metadata": {
        "id": "IHbBHdIc8t4U",
        "colab_type": "code",
        "colab": {}
      },
      "source": [
        "#adam = Adam(lr=0.01, beta_1=0.9, beta_2=0.999, epsilon=None, decay=0.0, amsgrad=False)\n",
        "model.compile(optimizer='adam', loss=triplet_loss)"
      ],
      "execution_count": 0,
      "outputs": []
    },
    {
      "cell_type": "code",
      "metadata": {
        "id": "-g8Largs83qM",
        "colab_type": "code",
        "colab": {}
      },
      "source": [
        "from shutil import copyfile\n",
        "import pickle"
      ],
      "execution_count": 0,
      "outputs": []
    },
    {
      "cell_type": "code",
      "metadata": {
        "id": "qPmPkKZraghe",
        "colab_type": "code",
        "outputId": "80434d2d-b5bb-446d-cafe-be5da6c3d07d",
        "colab": {
          "base_uri": "https://localhost:8080/",
          "height": 477
        }
      },
      "source": [
        "steps = 0\n",
        "max_steps = 1000\n",
        "hist_loss = {}\n",
        "while steps<max_steps:\n",
        "    steps+=1\n",
        "    batch = stochastic_mini_batch(data_npy, batch_size=BATCH_SIZE, unique_speakers=unique_speakers)\n",
        "    batch_size = BATCH_SIZE * TRIPLET_PER_BATCH\n",
        "    x, _ = batch.to_inputs()\n",
        "    y = np.random.uniform(size=(x.shape[0], 1))\n",
        "    loss = model.train_on_batch(x, y)\n",
        "    print(\"Step\",grad_steps,loss)\n",
        "    hist_loss[grad_steps]=loss\n",
        "  \n",
        "    #checkpoint to save weights\n",
        "    if (grad_steps ) % SAVE_PER_EPOCHS == 0:\n",
        "        create_dir_and_delete_content(CHECKPOINT_FOLDER)\n",
        "        model.save_weights('{0}/model_{1}_{2:.5f}.h5'.format(CHECKPOINT_FOLDER, grad_steps, loss))\n",
        "    grad_steps += 1"
      ],
      "execution_count": 183,
      "outputs": [
        {
          "output_type": "stream",
          "text": [
            "Step 1152 0.5489491\n",
            "Step 1153 0.4757245\n",
            "Step 1154 0.6082143\n",
            "Step 1155 0.45742002\n",
            "Step 1156 0.77682966\n",
            "Step 1157 0.33235633\n"
          ],
          "name": "stdout"
        },
        {
          "output_type": "error",
          "ename": "KeyboardInterrupt",
          "evalue": "ignored",
          "traceback": [
            "\u001b[0;31m---------------------------------------------------------------------------\u001b[0m",
            "\u001b[0;31mKeyboardInterrupt\u001b[0m                         Traceback (most recent call last)",
            "\u001b[0;32m<ipython-input-183-0fcddb0f5a20>\u001b[0m in \u001b[0;36m<module>\u001b[0;34m()\u001b[0m\n\u001b[1;32m      4\u001b[0m \u001b[0;32mwhile\u001b[0m \u001b[0msteps\u001b[0m\u001b[0;34m<\u001b[0m\u001b[0mmax_steps\u001b[0m\u001b[0;34m:\u001b[0m\u001b[0;34m\u001b[0m\u001b[0;34m\u001b[0m\u001b[0m\n\u001b[1;32m      5\u001b[0m     \u001b[0msteps\u001b[0m\u001b[0;34m+=\u001b[0m\u001b[0;36m1\u001b[0m\u001b[0;34m\u001b[0m\u001b[0;34m\u001b[0m\u001b[0m\n\u001b[0;32m----> 6\u001b[0;31m     \u001b[0mbatch\u001b[0m \u001b[0;34m=\u001b[0m \u001b[0mstochastic_mini_batch\u001b[0m\u001b[0;34m(\u001b[0m\u001b[0mdata_npy\u001b[0m\u001b[0;34m,\u001b[0m \u001b[0mbatch_size\u001b[0m\u001b[0;34m=\u001b[0m\u001b[0mBATCH_SIZE\u001b[0m\u001b[0;34m,\u001b[0m \u001b[0munique_speakers\u001b[0m\u001b[0;34m=\u001b[0m\u001b[0munique_speakers\u001b[0m\u001b[0;34m)\u001b[0m\u001b[0;34m\u001b[0m\u001b[0;34m\u001b[0m\u001b[0m\n\u001b[0m\u001b[1;32m      7\u001b[0m     \u001b[0mbatch_size\u001b[0m \u001b[0;34m=\u001b[0m \u001b[0mBATCH_SIZE\u001b[0m \u001b[0;34m*\u001b[0m \u001b[0mTRIPLET_PER_BATCH\u001b[0m\u001b[0;34m\u001b[0m\u001b[0;34m\u001b[0m\u001b[0m\n\u001b[1;32m      8\u001b[0m     \u001b[0mx\u001b[0m\u001b[0;34m,\u001b[0m \u001b[0m_\u001b[0m \u001b[0;34m=\u001b[0m \u001b[0mbatch\u001b[0m\u001b[0;34m.\u001b[0m\u001b[0mto_inputs\u001b[0m\u001b[0;34m(\u001b[0m\u001b[0;34m)\u001b[0m\u001b[0;34m\u001b[0m\u001b[0;34m\u001b[0m\u001b[0m\n",
            "\u001b[0;32m<ipython-input-144-be8564b6fdb2>\u001b[0m in \u001b[0;36mstochastic_mini_batch\u001b[0;34m(data, batch_size, unique_speakers)\u001b[0m\n\u001b[1;32m     67\u001b[0m \u001b[0;34m\u001b[0m\u001b[0m\n\u001b[1;32m     68\u001b[0m \u001b[0;32mdef\u001b[0m \u001b[0mstochastic_mini_batch\u001b[0m\u001b[0;34m(\u001b[0m\u001b[0mdata\u001b[0m\u001b[0;34m,\u001b[0m \u001b[0mbatch_size\u001b[0m\u001b[0;34m=\u001b[0m\u001b[0mBATCH_SIZE\u001b[0m\u001b[0;34m,\u001b[0m\u001b[0munique_speakers\u001b[0m\u001b[0;34m=\u001b[0m\u001b[0;32mNone\u001b[0m\u001b[0;34m)\u001b[0m\u001b[0;34m:\u001b[0m\u001b[0;34m\u001b[0m\u001b[0;34m\u001b[0m\u001b[0m\n\u001b[0;32m---> 69\u001b[0;31m     \u001b[0mmini_batch\u001b[0m \u001b[0;34m=\u001b[0m \u001b[0mMiniBatch\u001b[0m\u001b[0;34m(\u001b[0m\u001b[0mdata\u001b[0m\u001b[0;34m,\u001b[0m \u001b[0mbatch_size\u001b[0m\u001b[0;34m,\u001b[0m\u001b[0munique_speakers\u001b[0m\u001b[0;34m)\u001b[0m\u001b[0;34m\u001b[0m\u001b[0;34m\u001b[0m\u001b[0m\n\u001b[0m\u001b[1;32m     70\u001b[0m     \u001b[0;32mreturn\u001b[0m \u001b[0mmini_batch\u001b[0m\u001b[0;34m\u001b[0m\u001b[0;34m\u001b[0m\u001b[0m\n",
            "\u001b[0;32m<ipython-input-144-be8564b6fdb2>\u001b[0m in \u001b[0;36m__init__\u001b[0;34m(self, data, batch_size, unique_speakers)\u001b[0m\n\u001b[1;32m     23\u001b[0m             \u001b[0mnegative_speaker\u001b[0m \u001b[0;34m=\u001b[0m \u001b[0mtwo_different_speakers\u001b[0m\u001b[0;34m[\u001b[0m\u001b[0;36m1\u001b[0m\u001b[0;34m]\u001b[0m\u001b[0;34m\u001b[0m\u001b[0;34m\u001b[0m\u001b[0m\n\u001b[1;32m     24\u001b[0m             \u001b[0;31m#print(two_different_speakers)\u001b[0m\u001b[0;34m\u001b[0m\u001b[0;34m\u001b[0m\u001b[0;34m\u001b[0m\u001b[0m\n\u001b[0;32m---> 25\u001b[0;31m             \u001b[0manchor_positive_file\u001b[0m \u001b[0;34m=\u001b[0m \u001b[0mdata\u001b[0m\u001b[0;34m[\u001b[0m\u001b[0mdata\u001b[0m\u001b[0;34m[\u001b[0m\u001b[0;34m'class'\u001b[0m\u001b[0;34m]\u001b[0m \u001b[0;34m==\u001b[0m \u001b[0manchor_positive_speaker\u001b[0m\u001b[0;34m]\u001b[0m\u001b[0;34m.\u001b[0m\u001b[0msample\u001b[0m\u001b[0;34m(\u001b[0m\u001b[0mn\u001b[0m\u001b[0;34m=\u001b[0m\u001b[0;36m2\u001b[0m\u001b[0;34m,\u001b[0m \u001b[0mreplace\u001b[0m\u001b[0;34m=\u001b[0m\u001b[0;32mFalse\u001b[0m\u001b[0;34m)\u001b[0m\u001b[0;34m\u001b[0m\u001b[0;34m\u001b[0m\u001b[0m\n\u001b[0m\u001b[1;32m     26\u001b[0m             \u001b[0manchor_df\u001b[0m \u001b[0;34m=\u001b[0m \u001b[0mpd\u001b[0m\u001b[0;34m.\u001b[0m\u001b[0mDataFrame\u001b[0m\u001b[0;34m(\u001b[0m\u001b[0manchor_positive_file\u001b[0m\u001b[0;34m[\u001b[0m\u001b[0;36m0\u001b[0m\u001b[0;34m:\u001b[0m\u001b[0;36m1\u001b[0m\u001b[0;34m]\u001b[0m\u001b[0;34m)\u001b[0m\u001b[0;34m\u001b[0m\u001b[0;34m\u001b[0m\u001b[0m\n\u001b[1;32m     27\u001b[0m             \u001b[0manchor_df\u001b[0m\u001b[0;34m[\u001b[0m\u001b[0;34m'training_type'\u001b[0m\u001b[0;34m]\u001b[0m \u001b[0;34m=\u001b[0m \u001b[0;34m'anchor'\u001b[0m\u001b[0;34m\u001b[0m\u001b[0;34m\u001b[0m\u001b[0m\n",
            "\u001b[0;32m/usr/local/lib/python3.6/dist-packages/pandas/core/frame.py\u001b[0m in \u001b[0;36m__getitem__\u001b[0;34m(self, key)\u001b[0m\n\u001b[1;32m   2984\u001b[0m         \u001b[0;31m# Do we have a (boolean) 1d indexer?\u001b[0m\u001b[0;34m\u001b[0m\u001b[0;34m\u001b[0m\u001b[0;34m\u001b[0m\u001b[0m\n\u001b[1;32m   2985\u001b[0m         \u001b[0;32mif\u001b[0m \u001b[0mcom\u001b[0m\u001b[0;34m.\u001b[0m\u001b[0mis_bool_indexer\u001b[0m\u001b[0;34m(\u001b[0m\u001b[0mkey\u001b[0m\u001b[0;34m)\u001b[0m\u001b[0;34m:\u001b[0m\u001b[0;34m\u001b[0m\u001b[0;34m\u001b[0m\u001b[0m\n\u001b[0;32m-> 2986\u001b[0;31m             \u001b[0;32mreturn\u001b[0m \u001b[0mself\u001b[0m\u001b[0;34m.\u001b[0m\u001b[0m_getitem_bool_array\u001b[0m\u001b[0;34m(\u001b[0m\u001b[0mkey\u001b[0m\u001b[0;34m)\u001b[0m\u001b[0;34m\u001b[0m\u001b[0;34m\u001b[0m\u001b[0m\n\u001b[0m\u001b[1;32m   2987\u001b[0m \u001b[0;34m\u001b[0m\u001b[0m\n\u001b[1;32m   2988\u001b[0m         \u001b[0;31m# We are left with two options: a single key, and a collection of keys,\u001b[0m\u001b[0;34m\u001b[0m\u001b[0;34m\u001b[0m\u001b[0;34m\u001b[0m\u001b[0m\n",
            "\u001b[0;32m/usr/local/lib/python3.6/dist-packages/pandas/core/frame.py\u001b[0m in \u001b[0;36m_getitem_bool_array\u001b[0;34m(self, key)\u001b[0m\n\u001b[1;32m   3037\u001b[0m         \u001b[0;31m# be reindexed to match DataFrame rows\u001b[0m\u001b[0;34m\u001b[0m\u001b[0;34m\u001b[0m\u001b[0;34m\u001b[0m\u001b[0m\n\u001b[1;32m   3038\u001b[0m         \u001b[0mkey\u001b[0m \u001b[0;34m=\u001b[0m \u001b[0mcheck_bool_indexer\u001b[0m\u001b[0;34m(\u001b[0m\u001b[0mself\u001b[0m\u001b[0;34m.\u001b[0m\u001b[0mindex\u001b[0m\u001b[0;34m,\u001b[0m \u001b[0mkey\u001b[0m\u001b[0;34m)\u001b[0m\u001b[0;34m\u001b[0m\u001b[0;34m\u001b[0m\u001b[0m\n\u001b[0;32m-> 3039\u001b[0;31m         \u001b[0mindexer\u001b[0m \u001b[0;34m=\u001b[0m \u001b[0mkey\u001b[0m\u001b[0;34m.\u001b[0m\u001b[0mnonzero\u001b[0m\u001b[0;34m(\u001b[0m\u001b[0;34m)\u001b[0m\u001b[0;34m[\u001b[0m\u001b[0;36m0\u001b[0m\u001b[0;34m]\u001b[0m\u001b[0;34m\u001b[0m\u001b[0;34m\u001b[0m\u001b[0m\n\u001b[0m\u001b[1;32m   3040\u001b[0m         \u001b[0;32mreturn\u001b[0m \u001b[0mself\u001b[0m\u001b[0;34m.\u001b[0m\u001b[0mtake\u001b[0m\u001b[0;34m(\u001b[0m\u001b[0mindexer\u001b[0m\u001b[0;34m,\u001b[0m \u001b[0maxis\u001b[0m\u001b[0;34m=\u001b[0m\u001b[0;36m0\u001b[0m\u001b[0;34m)\u001b[0m\u001b[0;34m\u001b[0m\u001b[0;34m\u001b[0m\u001b[0m\n\u001b[1;32m   3041\u001b[0m \u001b[0;34m\u001b[0m\u001b[0m\n",
            "\u001b[0;31mKeyboardInterrupt\u001b[0m: "
          ]
        }
      ]
    },
    {
      "cell_type": "code",
      "metadata": {
        "id": "2bO4XCSTcZAg",
        "colab_type": "code",
        "colab": {}
      },
      "source": [
        ""
      ],
      "execution_count": 0,
      "outputs": []
    },
    {
      "cell_type": "markdown",
      "metadata": {
        "id": "rhc0TOxIWp-a",
        "colab_type": "text"
      },
      "source": [
        "# Testing Embeddings on test set"
      ]
    },
    {
      "cell_type": "markdown",
      "metadata": {
        "id": "UZ5sUqmts5kR",
        "colab_type": "text"
      },
      "source": [
        "Using the 40 speaker test subset to train a SVC classifier on ttop of speaker embeddings"
      ]
    },
    {
      "cell_type": "code",
      "metadata": {
        "id": "rcHxXQ4eWsku",
        "colab_type": "code",
        "colab": {
          "base_uri": "https://localhost:8080/",
          "height": 34
        },
        "outputId": "469144a0-5255-4fa3-c9a0-b3411bf20a49"
      },
      "source": [
        "!cp drive/My\\ Drive/vox_test_npy.zip .\n",
        "!unzip -q vox_test_npy.zip"
      ],
      "execution_count": 184,
      "outputs": [
        {
          "output_type": "stream",
          "text": [
            "replace vox_test_npy/id10292_29.npy? [y]es, [n]o, [A]ll, [N]one, [r]ename: N\n"
          ],
          "name": "stdout"
        }
      ]
    },
    {
      "cell_type": "code",
      "metadata": {
        "id": "Ln0nWPcKWwjt",
        "colab_type": "code",
        "outputId": "7636b442-5111-41a0-8bc2-d607a5674d01",
        "colab": {
          "base_uri": "https://localhost:8080/",
          "height": 51
        }
      },
      "source": [
        "!ls"
      ],
      "execution_count": 185,
      "outputs": [
        {
          "output_type": "stream",
          "text": [
            "drive\t     subset3_npy      train_loss_acc.txt  vox_test_npy.zip\n",
            "sample_data  subset3_npy.zip  vox_test_npy\n"
          ],
          "name": "stdout"
        }
      ]
    },
    {
      "cell_type": "code",
      "metadata": {
        "id": "-PeViLGgaUQs",
        "colab_type": "code",
        "colab": {}
      },
      "source": [
        "best_model_checkpoint = \"drive/My Drive/model_1152_0.21762_0.17803.h5\"\n",
        "#best_model_checkpoint = \"drive/My Drive/MLSP/model_4000_2.21986.h5\"\n",
        "if best_model_checkpoint is not None:\n",
        "    model.load_weights(best_model_checkpoint)"
      ],
      "execution_count": 0,
      "outputs": []
    },
    {
      "cell_type": "code",
      "metadata": {
        "id": "qd6TBalXbKfG",
        "colab_type": "code",
        "colab": {
          "base_uri": "https://localhost:8080/",
          "height": 436
        },
        "outputId": "f947e192-4600-48b3-e88e-687dc7ae9908"
      },
      "source": [
        "test_catalog = create_catalogue(\"vox_test_npy\",\"*.npy\",flag=True)\n",
        "test_catalog"
      ],
      "execution_count": 187,
      "outputs": [
        {
          "output_type": "stream",
          "text": [
            "Retrieved 4874 files with 40 different speakers.\n"
          ],
          "name": "stdout"
        },
        {
          "output_type": "execute_result",
          "data": {
            "text/html": [
              "<div>\n",
              "<style scoped>\n",
              "    .dataframe tbody tr th:only-of-type {\n",
              "        vertical-align: middle;\n",
              "    }\n",
              "\n",
              "    .dataframe tbody tr th {\n",
              "        vertical-align: top;\n",
              "    }\n",
              "\n",
              "    .dataframe thead th {\n",
              "        text-align: right;\n",
              "    }\n",
              "</style>\n",
              "<table border=\"1\" class=\"dataframe\">\n",
              "  <thead>\n",
              "    <tr style=\"text-align: right;\">\n",
              "      <th></th>\n",
              "      <th>filename</th>\n",
              "      <th>class</th>\n",
              "    </tr>\n",
              "  </thead>\n",
              "  <tbody>\n",
              "    <tr>\n",
              "      <th>0</th>\n",
              "      <td>vox_test_npy/id10289_26.npy</td>\n",
              "      <td>id10289</td>\n",
              "    </tr>\n",
              "    <tr>\n",
              "      <th>1</th>\n",
              "      <td>vox_test_npy/id10273_182.npy</td>\n",
              "      <td>id10273</td>\n",
              "    </tr>\n",
              "    <tr>\n",
              "      <th>2</th>\n",
              "      <td>vox_test_npy/id10275_66.npy</td>\n",
              "      <td>id10275</td>\n",
              "    </tr>\n",
              "    <tr>\n",
              "      <th>3</th>\n",
              "      <td>vox_test_npy/id10273_21.npy</td>\n",
              "      <td>id10273</td>\n",
              "    </tr>\n",
              "    <tr>\n",
              "      <th>4</th>\n",
              "      <td>vox_test_npy/id10271_67.npy</td>\n",
              "      <td>id10271</td>\n",
              "    </tr>\n",
              "    <tr>\n",
              "      <th>...</th>\n",
              "      <td>...</td>\n",
              "      <td>...</td>\n",
              "    </tr>\n",
              "    <tr>\n",
              "      <th>4869</th>\n",
              "      <td>vox_test_npy/id10307_151.npy</td>\n",
              "      <td>id10307</td>\n",
              "    </tr>\n",
              "    <tr>\n",
              "      <th>4870</th>\n",
              "      <td>vox_test_npy/id10305_42.npy</td>\n",
              "      <td>id10305</td>\n",
              "    </tr>\n",
              "    <tr>\n",
              "      <th>4871</th>\n",
              "      <td>vox_test_npy/id10298_19.npy</td>\n",
              "      <td>id10298</td>\n",
              "    </tr>\n",
              "    <tr>\n",
              "      <th>4872</th>\n",
              "      <td>vox_test_npy/id10309_27.npy</td>\n",
              "      <td>id10309</td>\n",
              "    </tr>\n",
              "    <tr>\n",
              "      <th>4873</th>\n",
              "      <td>vox_test_npy/id10302_130.npy</td>\n",
              "      <td>id10302</td>\n",
              "    </tr>\n",
              "  </tbody>\n",
              "</table>\n",
              "<p>4874 rows × 2 columns</p>\n",
              "</div>"
            ],
            "text/plain": [
              "                          filename    class\n",
              "0      vox_test_npy/id10289_26.npy  id10289\n",
              "1     vox_test_npy/id10273_182.npy  id10273\n",
              "2      vox_test_npy/id10275_66.npy  id10275\n",
              "3      vox_test_npy/id10273_21.npy  id10273\n",
              "4      vox_test_npy/id10271_67.npy  id10271\n",
              "...                            ...      ...\n",
              "4869  vox_test_npy/id10307_151.npy  id10307\n",
              "4870   vox_test_npy/id10305_42.npy  id10305\n",
              "4871   vox_test_npy/id10298_19.npy  id10298\n",
              "4872   vox_test_npy/id10309_27.npy  id10309\n",
              "4873  vox_test_npy/id10302_130.npy  id10302\n",
              "\n",
              "[4874 rows x 2 columns]"
            ]
          },
          "metadata": {
            "tags": []
          },
          "execution_count": 187
        }
      ]
    },
    {
      "cell_type": "code",
      "metadata": {
        "id": "P8AmlN8LjWuA",
        "colab_type": "code",
        "colab": {}
      },
      "source": [
        "from sklearn.preprocessing import LabelEncoder"
      ],
      "execution_count": 0,
      "outputs": []
    },
    {
      "cell_type": "code",
      "metadata": {
        "id": "yUDBlUFfjZdL",
        "colab_type": "code",
        "colab": {}
      },
      "source": [
        "le2 = LabelEncoder()\n",
        "test_catalog[\"class\"] = le2.fit_transform(test_catalog[\"class\"])"
      ],
      "execution_count": 0,
      "outputs": []
    },
    {
      "cell_type": "code",
      "metadata": {
        "id": "G15LM3sUnsTE",
        "colab_type": "code",
        "outputId": "12bf2f72-8056-4297-e751-42ee4683ddb3",
        "colab": {
          "base_uri": "https://localhost:8080/",
          "height": 136
        }
      },
      "source": [
        "le2.classes_"
      ],
      "execution_count": 190,
      "outputs": [
        {
          "output_type": "execute_result",
          "data": {
            "text/plain": [
              "array(['id10270', 'id10271', 'id10272', 'id10273', 'id10274', 'id10275',\n",
              "       'id10276', 'id10277', 'id10278', 'id10279', 'id10280', 'id10281',\n",
              "       'id10282', 'id10283', 'id10284', 'id10285', 'id10286', 'id10287',\n",
              "       'id10288', 'id10289', 'id10290', 'id10291', 'id10292', 'id10293',\n",
              "       'id10294', 'id10295', 'id10296', 'id10297', 'id10298', 'id10299',\n",
              "       'id10300', 'id10301', 'id10302', 'id10303', 'id10304', 'id10305',\n",
              "       'id10306', 'id10307', 'id10308', 'id10309'], dtype=object)"
            ]
          },
          "metadata": {
            "tags": []
          },
          "execution_count": 190
        }
      ]
    },
    {
      "cell_type": "code",
      "metadata": {
        "id": "vYKC9lKNq6sI",
        "colab_type": "code",
        "colab": {}
      },
      "source": [
        "def predict_model_batch(model,inp,batch_size=10):\n",
        "  i = 0\n",
        "  embedding = None\n",
        "  while i < len(inp) and i+batch_size<len(inp):\n",
        "    subset = inp[i:i+batch_size]\n",
        "    sub_embed = model.predict_on_batch(subset)\n",
        "    if embedding is None:\n",
        "        embedding = sub_embed\n",
        "    else:\n",
        "        embedding = np.concatenate([embedding, sub_embed], axis=0)\n",
        "    i+=batch_size\n",
        "  if i<len(inp):\n",
        "    subset = inp[i:]\n",
        "    sub_embed = model.predict_on_batch(subset)\n",
        "    if embedding is None:\n",
        "        embedding = sub_embed\n",
        "    else:\n",
        "        embedding = np.concatenate([embedding, sub_embed], axis=0)\n",
        "  return embedding"
      ],
      "execution_count": 0,
      "outputs": []
    },
    {
      "cell_type": "code",
      "metadata": {
        "id": "Wv-V8AkRdMoM",
        "colab_type": "code",
        "colab": {}
      },
      "source": [
        "def split_balanced_and_load_data(data,samples_per_class,model=None,batch_size=10,top_classes=None,seed=999):\n",
        "  if top_classes is None:\n",
        "    classes = data[\"class\"].unique()\n",
        "  else:\n",
        "    classes = data[\"class\"].value_counts()[:top_classes].index.to_list()\n",
        "    data = data[data[\"class\"].isin(classes)]\n",
        "  train = pd.DataFrame()\n",
        "  removed_indices = []\n",
        "  for cl in classes:\n",
        "    data_class = data[data[\"class\"]==cl]\n",
        "    #distributing data evenly for classes with lesser utterances\n",
        "    if samples_per_class<len(data_class)/2:\n",
        "      sample = data_class.sample(samples_per_class,random_state=seed)\n",
        "      removed_indices.extend(sample.index.to_list())\n",
        "      train = pd.concat([train,sample], axis=0)\n",
        "    else:\n",
        "      sample = data_class.sample(int(len(data_class)/2),random_state=seed)\n",
        "      removed_indices.extend(sample.index.to_list())\n",
        "      train = pd.concat([train,sample], axis=0)\n",
        "  test = data.loc[~data.index.isin(removed_indices)]\n",
        "  train = train.reset_index(drop=True)\n",
        "  test = test.reset_index(drop=True)\n",
        "  trainX, trainY, testX, testY = np.array(train[\"filename\"]),np.array(train[\"class\"]),np.array(test[\"filename\"]),np.array(test[\"class\"])\n",
        "\n",
        "  if model is not None:\n",
        "    trainX = predict_model_batch(model,np.array([np.load(x) for x in trainX]),batch_size=batch_size)\n",
        "    testX = predict_model_batch(model,np.array([np.load(x) for x in testX]),batch_size=batch_size)\n",
        "  else:\n",
        "    trainX = np.array([np.load(x) for x in trainX])\n",
        "    testX = np.array([np.load(x) for x in testX])\n",
        "    trainX = np.reshape(trainX,(trainX.shape[0],trainX.shape[1]*trainX.shape[2]*trainX.shape[3]))\n",
        "    testX = np.reshape(testX,(testX.shape[0],testX.shape[1]*testX.shape[2]*testX.shape[3]))\n",
        "  return trainX, trainY, testX, testY\n",
        "\n",
        "\n"
      ],
      "execution_count": 0,
      "outputs": []
    },
    {
      "cell_type": "code",
      "metadata": {
        "id": "XInqNQlQv1nW",
        "colab_type": "code",
        "colab": {}
      },
      "source": [
        "best_model = model\n",
        "#change this for smaller samples\n",
        "samples_per_class = 80\n",
        "num_classes = len(test_catalog[\"class\"].unique())\n",
        "top_classes = None"
      ],
      "execution_count": 0,
      "outputs": []
    },
    {
      "cell_type": "code",
      "metadata": {
        "id": "DdFKRIo5iW_8",
        "colab_type": "code",
        "colab": {}
      },
      "source": [
        "trainX, trainY, testX, testY = split_balanced_and_load_data(test_catalog,samples_per_class,best_model,batch_size=20,top_classes=top_classes)"
      ],
      "execution_count": 0,
      "outputs": []
    },
    {
      "cell_type": "code",
      "metadata": {
        "id": "XeNXn6ReqBhi",
        "colab_type": "code",
        "outputId": "ffba8311-9ac8-49a6-fe2a-17d2627c68f4",
        "colab": {
          "base_uri": "https://localhost:8080/",
          "height": 34
        }
      },
      "source": [
        "print(trainX.shape,trainY.shape,testX.shape,testY.shape)"
      ],
      "execution_count": 195,
      "outputs": [
        {
          "output_type": "stream",
          "text": [
            "(2168, 512) (2168,) (2706, 512) (2706,)\n"
          ],
          "name": "stdout"
        }
      ]
    },
    {
      "cell_type": "code",
      "metadata": {
        "id": "sV7BC1ObogGH",
        "colab_type": "code",
        "outputId": "8907240d-343c-4920-e9ff-c2a70d05b902",
        "colab": {
          "base_uri": "https://localhost:8080/",
          "height": 34
        }
      },
      "source": [
        "from sklearn.svm import LinearSVC\n",
        "clf = LinearSVC()\n",
        "clf.fit(trainX,trainY)\n",
        "y_pred = clf.predict(testX)\n",
        "accuracy_score(testY,y_pred)"
      ],
      "execution_count": 196,
      "outputs": [
        {
          "output_type": "execute_result",
          "data": {
            "text/plain": [
              "0.803030303030303"
            ]
          },
          "metadata": {
            "tags": []
          },
          "execution_count": 196
        }
      ]
    },
    {
      "cell_type": "markdown",
      "metadata": {
        "id": "ej0Dtb5NS6KH",
        "colab_type": "text"
      },
      "source": [
        "# Test Own Audio"
      ]
    },
    {
      "cell_type": "markdown",
      "metadata": {
        "id": "YaAVZ1E3sYp3",
        "colab_type": "text"
      },
      "source": [
        "We recorded ourselves speaking and computed the cosine similarity between same speaker and different speaker. We then compared the cosine similarity after feature embedding"
      ]
    },
    {
      "cell_type": "code",
      "metadata": {
        "id": "BRQDR-dpXwC-",
        "colab_type": "code",
        "outputId": "87c52b3e-cccc-4ed5-b6fb-a5fee2d76179",
        "colab": {
          "base_uri": "https://localhost:8080/",
          "height": 599
        }
      },
      "source": [
        "!pip uninstall matplotlib\n",
        "!pip install matplotlib==3.0.0"
      ],
      "execution_count": 0,
      "outputs": [
        {
          "output_type": "stream",
          "text": [
            "Uninstalling matplotlib-3.1.1:\n",
            "  Would remove:\n",
            "    /usr/local/lib/python3.6/dist-packages/matplotlib-3.1.1-py3.6-nspkg.pth\n",
            "    /usr/local/lib/python3.6/dist-packages/matplotlib-3.1.1.dist-info/*\n",
            "    /usr/local/lib/python3.6/dist-packages/matplotlib/*\n",
            "    /usr/local/lib/python3.6/dist-packages/mpl_toolkits/axes_grid/*\n",
            "    /usr/local/lib/python3.6/dist-packages/mpl_toolkits/axes_grid1/*\n",
            "    /usr/local/lib/python3.6/dist-packages/mpl_toolkits/axisartist/*\n",
            "    /usr/local/lib/python3.6/dist-packages/mpl_toolkits/mplot3d/*\n",
            "    /usr/local/lib/python3.6/dist-packages/mpl_toolkits/tests/*\n",
            "    /usr/local/lib/python3.6/dist-packages/pylab.py\n",
            "Proceed (y/n)? y\n",
            "  Successfully uninstalled matplotlib-3.1.1\n",
            "Collecting matplotlib==3.0.0\n",
            "\u001b[?25l  Downloading https://files.pythonhosted.org/packages/ed/89/dd823436a5f8d5ca9304b51b554863bfd366ca84708d5812f5ee87c923bc/matplotlib-3.0.0-cp36-cp36m-manylinux1_x86_64.whl (12.8MB)\n",
            "\u001b[K     |████████████████████████████████| 12.8MB 6.8MB/s \n",
            "\u001b[?25hRequirement already satisfied: cycler>=0.10 in /usr/local/lib/python3.6/dist-packages (from matplotlib==3.0.0) (0.10.0)\n",
            "Requirement already satisfied: numpy>=1.10.0 in /usr/local/lib/python3.6/dist-packages (from matplotlib==3.0.0) (1.17.4)\n",
            "Requirement already satisfied: python-dateutil>=2.1 in /usr/local/lib/python3.6/dist-packages (from matplotlib==3.0.0) (2.6.1)\n",
            "Requirement already satisfied: pyparsing!=2.0.4,!=2.1.2,!=2.1.6,>=2.0.1 in /usr/local/lib/python3.6/dist-packages (from matplotlib==3.0.0) (2.4.5)\n",
            "Requirement already satisfied: kiwisolver>=1.0.1 in /usr/local/lib/python3.6/dist-packages (from matplotlib==3.0.0) (1.1.0)\n",
            "Requirement already satisfied: six in /usr/local/lib/python3.6/dist-packages (from cycler>=0.10->matplotlib==3.0.0) (1.12.0)\n",
            "Requirement already satisfied: setuptools in /usr/local/lib/python3.6/dist-packages (from kiwisolver>=1.0.1->matplotlib==3.0.0) (41.6.0)\n",
            "\u001b[31mERROR: yellowbrick 0.9.1 has requirement matplotlib!=3.0.0,>=1.5.1, but you'll have matplotlib 3.0.0 which is incompatible.\u001b[0m\n",
            "\u001b[31mERROR: scikit-image 0.15.0 has requirement matplotlib!=3.0.0,>=2.0.0, but you'll have matplotlib 3.0.0 which is incompatible.\u001b[0m\n",
            "\u001b[31mERROR: albumentations 0.1.12 has requirement imgaug<0.2.7,>=0.2.5, but you'll have imgaug 0.2.9 which is incompatible.\u001b[0m\n",
            "Installing collected packages: matplotlib\n",
            "Successfully installed matplotlib-3.0.0\n"
          ],
          "name": "stdout"
        },
        {
          "output_type": "display_data",
          "data": {
            "application/vnd.colab-display-data+json": {
              "pip_warning": {
                "packages": [
                  "matplotlib",
                  "mpl_toolkits"
                ]
              }
            }
          },
          "metadata": {
            "tags": []
          }
        }
      ]
    },
    {
      "cell_type": "code",
      "metadata": {
        "id": "potSujo5ZiAX",
        "colab_type": "code",
        "outputId": "9e90c855-b3f5-408a-a3ef-7622b663c7fc",
        "colab": {
          "base_uri": "https://localhost:8080/",
          "height": 68
        }
      },
      "source": [
        "import seaborn as sns\n",
        "import matplotlib.pyplot as plt\n"
      ],
      "execution_count": 0,
      "outputs": [
        {
          "output_type": "stream",
          "text": [
            "/usr/local/lib/python3.6/dist-packages/matplotlib/__init__.py:886: MatplotlibDeprecationWarning: \n",
            "examples.directory is deprecated; in the future, examples will be found relative to the 'datapath' directory.\n",
            "  \"found relative to the 'datapath' directory.\".format(key))\n"
          ],
          "name": "stderr"
        }
      ]
    },
    {
      "cell_type": "code",
      "metadata": {
        "id": "gJ__sjOFTASK",
        "colab_type": "code",
        "colab": {}
      },
      "source": [
        "!cp -r drive/My\\ Drive/sample_audio ."
      ],
      "execution_count": 0,
      "outputs": []
    },
    {
      "cell_type": "code",
      "metadata": {
        "id": "lAOaIjrTTiAC",
        "colab_type": "code",
        "outputId": "4f6c727d-1084-4bd6-c43d-487e8bd6414e",
        "colab": {
          "base_uri": "https://localhost:8080/",
          "height": 34
        }
      },
      "source": [
        "!ls sample_audio/Sourabh"
      ],
      "execution_count": 0,
      "outputs": [
        {
          "output_type": "stream",
          "text": [
            "Recording_37.wav  Recording_38.wav  Recording_39.wav  Recording_40.wav\n"
          ],
          "name": "stdout"
        }
      ]
    },
    {
      "cell_type": "code",
      "metadata": {
        "id": "2XJeCjzsS7aB",
        "colab_type": "code",
        "colab": {}
      },
      "source": [
        "r1 = load_audio('sample_audio/Rachit/1.m4a')\n",
        "r2 = load_audio('sample_audio/Rachit/2.m4a')\n",
        "r3 = load_audio('sample_audio/Rachit/3.m4a')"
      ],
      "execution_count": 0,
      "outputs": []
    },
    {
      "cell_type": "code",
      "metadata": {
        "id": "CalapKH1Tq3Y",
        "colab_type": "code",
        "colab": {}
      },
      "source": [
        "#s1 = load_audio('sample_audio/Sourabh/Recording_37.wav')\n",
        "s1 = load_audio('sample_audio/Sourabh/Recording_40.wav')\n",
        "s2 = load_audio('sample_audio/Sourabh/Recording_38.wav')\n",
        "s3 = load_audio('sample_audio/Sourabh/Recording_39.wav')"
      ],
      "execution_count": 0,
      "outputs": []
    },
    {
      "cell_type": "code",
      "metadata": {
        "id": "3z_lZk1uUOiL",
        "colab_type": "code",
        "colab": {}
      },
      "source": [
        "r1e, r2e, r3e = model.predict_on_batch(np.array([r1,r2,r3]))"
      ],
      "execution_count": 0,
      "outputs": []
    },
    {
      "cell_type": "code",
      "metadata": {
        "id": "6X1iEJUWUbBg",
        "colab_type": "code",
        "colab": {}
      },
      "source": [
        "s1e, s2e, s3e = model.predict_on_batch(np.array([s1,s2,s3]))"
      ],
      "execution_count": 0,
      "outputs": []
    },
    {
      "cell_type": "code",
      "metadata": {
        "id": "ZLqWIqeFXExz",
        "colab_type": "code",
        "colab": {}
      },
      "source": [
        "#cosine_similarity([np.reshape(r1,(r1.shape[0]*r1.shape[1]))],[np.reshape(r2,(r2.shape[0]*r2.shape[1]))])"
      ],
      "execution_count": 0,
      "outputs": []
    },
    {
      "cell_type": "code",
      "metadata": {
        "id": "uqGumC_WWbF6",
        "colab_type": "code",
        "outputId": "a22dff16-eb96-4299-a7ea-72c37e458a98",
        "colab": {
          "base_uri": "https://localhost:8080/",
          "height": 34
        }
      },
      "source": [
        "cosine_similarity([r1e],[r2e])"
      ],
      "execution_count": 0,
      "outputs": [
        {
          "output_type": "execute_result",
          "data": {
            "text/plain": [
              "array([[0.8589179]], dtype=float32)"
            ]
          },
          "metadata": {
            "tags": []
          },
          "execution_count": 62
        }
      ]
    },
    {
      "cell_type": "code",
      "metadata": {
        "id": "48vZiMnzcRm0",
        "colab_type": "code",
        "colab": {}
      },
      "source": [
        "embeds = [r1e,r2e,r3e,s1e,s2e,s3e]"
      ],
      "execution_count": 0,
      "outputs": []
    },
    {
      "cell_type": "code",
      "metadata": {
        "id": "jvnn6GUccHNZ",
        "colab_type": "code",
        "outputId": "d3663aea-badc-4209-fc82-d36a5461a00a",
        "colab": {
          "base_uri": "https://localhost:8080/",
          "height": 119
        }
      },
      "source": [
        "mat = np.zeros((6,6))\n",
        "for i in range(6):\n",
        "  for j in range(6):\n",
        "    mat[i][j] = cosine_similarity([embeds[i]],[embeds[j]])[0][0]\n",
        "\n",
        "print(mat)\n",
        "    \n"
      ],
      "execution_count": 0,
      "outputs": [
        {
          "output_type": "stream",
          "text": [
            "[[1.00000012 0.85891789 0.91493011 0.0729316  0.17969669 0.32267368]\n",
            " [0.85891789 1.         0.92580891 0.07299769 0.16040975 0.21139029]\n",
            " [0.91493011 0.92580891 1.00000024 0.18016392 0.2488142  0.37405908]\n",
            " [0.0729316  0.07299769 0.18016392 1.00000024 0.80381113 0.66639113]\n",
            " [0.17969669 0.16040975 0.2488142  0.80381113 1.         0.74625635]\n",
            " [0.32267368 0.21139029 0.37405908 0.66639113 0.74625635 1.        ]]\n"
          ],
          "name": "stdout"
        }
      ]
    },
    {
      "cell_type": "code",
      "metadata": {
        "id": "y4ow-uzIUyBd",
        "colab_type": "code",
        "outputId": "ab137f53-7579-4077-dbdf-f221e6e6ab1e",
        "colab": {
          "base_uri": "https://localhost:8080/",
          "height": 280
        }
      },
      "source": [
        "ax = sns.heatmap(mat,cmap=\"Blues\",annot=True)\n",
        "ax.set_yticklabels(np.array(['Rachit1','Rachit2','Rachit3','Sourabh1','Sourabh2','Sourabh3']),fontsize=9)\n",
        "ax.set_xticklabels(np.array(['Rachit1','Rachit2','Rachit3','Sourabh1','Sourabh2','Sourabh3']),fontsize=9)\n",
        "plt.yticks(rotation=0)\n",
        "plt.title('Cosine Similarity with Deep Speaker Embeddings')\n",
        "plt.savefig('Cosine Similarity with Deep Speaker Embeddings.png',dpi=1000,bbox_inches='tight')\n"
      ],
      "execution_count": 0,
      "outputs": [
        {
          "output_type": "display_data",
          "data": {
            "image/png": "[encoded data removed]",
            "text/plain": [
              "<Figure size 432x288 with 2 Axes>"
            ]
          },
          "metadata": {
            "tags": []
          }
        }
      ]
    },
    {
      "cell_type": "code",
      "metadata": {
        "id": "XzvjjSFQZfr3",
        "colab_type": "code",
        "colab": {}
      },
      "source": [
        "\n"
      ],
      "execution_count": 0,
      "outputs": []
    },
    {
      "cell_type": "code",
      "metadata": {
        "colab_type": "code",
        "id": "ORjjUBQDYiDi",
        "colab": {}
      },
      "source": [
        "embeds = [r1,r2,r3,s1,s2,s3]"
      ],
      "execution_count": 0,
      "outputs": []
    },
    {
      "cell_type": "code",
      "metadata": {
        "colab_type": "code",
        "outputId": "a5b6b2ad-999d-4611-9b28-cb62db9904ac",
        "id": "r1Q5K2zEYiDo",
        "colab": {
          "base_uri": "https://localhost:8080/",
          "height": 119
        }
      },
      "source": [
        "mat = np.zeros((6,6))\n",
        "for i in range(6):\n",
        "  for j in range(6):\n",
        "    mat[i][j] = cosine_similarity([np.reshape(embeds[i],(embeds[i].shape[0]*embeds[i].shape[1]))],[np.reshape(embeds[j],(embeds[j].shape[0]*embeds[j].shape[1]))])[0][0]\n",
        "\n",
        "print(mat)\n",
        "    \n"
      ],
      "execution_count": 0,
      "outputs": [
        {
          "output_type": "stream",
          "text": [
            "[[1.         0.14019943 0.16297763 0.05252644 0.07126967 0.01359652]\n",
            " [0.14019943 1.         0.21356897 0.09404561 0.08986231 0.06221868]\n",
            " [0.16297763 0.21356897 1.         0.06858588 0.07442401 0.07572561]\n",
            " [0.05252644 0.09404561 0.06858588 1.         0.14692026 0.24010757]\n",
            " [0.07126967 0.08986231 0.07442401 0.14692026 1.         0.12192221]\n",
            " [0.01359652 0.06221868 0.07572561 0.24010757 0.12192221 1.        ]]\n"
          ],
          "name": "stdout"
        }
      ]
    },
    {
      "cell_type": "code",
      "metadata": {
        "colab_type": "code",
        "outputId": "2f4a754b-38c6-47d4-af15-c946896624eb",
        "id": "nSBO2vl8YiDq",
        "colab": {
          "base_uri": "https://localhost:8080/",
          "height": 280
        }
      },
      "source": [
        "ax = sns.heatmap(mat,cmap=\"Blues\",annot=True)\n",
        "ax.set_yticklabels(np.array(['Rachit1','Rachit2','Rachit3','Sourabh1','Sourabh2','Sourabh3']),fontsize=9)\n",
        "ax.set_xticklabels(np.array(['Rachit1','Rachit2','Rachit3','Sourabh1','Sourabh2','Sourabh3']),fontsize=9)\n",
        "plt.yticks(rotation=0)\n",
        "plt.title('Cosine Similarity after Feature Extraction')\n",
        "plt.savefig('Cosine Similarity after Feature Extraction.png',dpi=1000,bbox_inches='tight')"
      ],
      "execution_count": 0,
      "outputs": [
        {
          "output_type": "display_data",
          "data": {
            "image/png": "[encoded data removed]",
            "text/plain": [
              "<Figure size 432x288 with 2 Axes>"
            ]
          },
          "metadata": {
            "tags": []
          }
        }
      ]
    }
  ]
}